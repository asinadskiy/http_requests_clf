{
 "cells": [
  {
   "cell_type": "markdown",
   "id": "827d104b-b298-455d-ad0f-063ff112a6e9",
   "metadata": {},
   "source": [
    "# Поиск HTTP запросов"
   ]
  },
  {
   "cell_type": "markdown",
   "id": "67d264cd-01c0-4149-a4c0-4c5d4266ba2b",
   "metadata": {},
   "source": [
    "# Импорт библиотек"
   ]
  },
  {
   "cell_type": "code",
   "execution_count": 1,
   "id": "7d75f158-9462-4d55-a336-f239f7df92ce",
   "metadata": {},
   "outputs": [],
   "source": [
    "%config IPCompleter.greedy=True  # автозаполнение для удобства написания кода"
   ]
  },
  {
   "cell_type": "markdown",
   "id": "4a092bf3-35d4-4a06-baf0-ab2be45f4673",
   "metadata": {},
   "source": [
    "Общие потребности"
   ]
  },
  {
   "cell_type": "code",
   "execution_count": 2,
   "id": "c77f3660-7d51-4294-b3e2-cbfea901c930",
   "metadata": {},
   "outputs": [],
   "source": [
    "import pandas as pd\n",
    "import numpy as np"
   ]
  },
  {
   "cell_type": "markdown",
   "id": "8ca0665e-2c24-4186-988b-2c727e10f2a8",
   "metadata": {},
   "source": [
    "Для обработки текста"
   ]
  },
  {
   "cell_type": "code",
   "execution_count": 3,
   "id": "b92adf85-68c6-4d82-b17a-28ae466e8978",
   "metadata": {},
   "outputs": [],
   "source": [
    "from sklearn.feature_extraction.text import CountVectorizer\n",
    "from sklearn.feature_extraction.text import TfidfTransformer"
   ]
  },
  {
   "cell_type": "code",
   "execution_count": 4,
   "id": "5aeb9b69-7157-47b8-ab4e-4682c196fa03",
   "metadata": {},
   "outputs": [],
   "source": [
    "from sklearn.decomposition import PCA"
   ]
  },
  {
   "cell_type": "markdown",
   "id": "6b03ceeb-b2a5-4ebf-a521-ddd19efdcbba",
   "metadata": {},
   "source": [
    "Для кластеризации (разделения запросов на группы для исследования признаков и доразметки)"
   ]
  },
  {
   "cell_type": "code",
   "execution_count": 5,
   "id": "dcfb82ce-fdd7-4b3c-a250-7dfe93ac0de3",
   "metadata": {},
   "outputs": [],
   "source": [
    "from sklearn.cluster import KMeans\n",
    "from sklearn.cluster import DBSCAN"
   ]
  },
  {
   "cell_type": "markdown",
   "id": "ac3666e8-9113-4264-9704-ba43eb72837c",
   "metadata": {},
   "source": [
    "Для рисования графиков"
   ]
  },
  {
   "cell_type": "code",
   "execution_count": 6,
   "id": "8f118a49-7f66-473d-8f3f-65a58f688b9d",
   "metadata": {},
   "outputs": [],
   "source": [
    "from matplotlib import pyplot as plt\n",
    "import seaborn as sns"
   ]
  },
  {
   "cell_type": "markdown",
   "id": "38371c2a-d9d9-4c1d-85ac-50a27facabf0",
   "metadata": {},
   "source": [
    "Для классификации запросов"
   ]
  },
  {
   "cell_type": "code",
   "execution_count": 7,
   "id": "2477e713-294d-4608-a14d-7cfff963879e",
   "metadata": {},
   "outputs": [],
   "source": [
    "from sklearn.naive_bayes import MultinomialNB, ComplementNB\n",
    "from sklearn.neighbors import KNeighborsClassifier\n",
    "from sklearn.svm import SVC\n",
    "from sklearn.tree import DecisionTreeClassifier\n",
    "from sklearn.ensemble import RandomForestClassifier\n",
    "from sklearn.ensemble import AdaBoostClassifier"
   ]
  },
  {
   "cell_type": "markdown",
   "id": "001d49b3-68e0-4a82-87ee-9f439913160c",
   "metadata": {},
   "source": [
    "Для оценки качества работы алгоритма"
   ]
  },
  {
   "cell_type": "code",
   "execution_count": 8,
   "id": "28bfccc6-9d7f-4d33-94bf-1c0bc558c60d",
   "metadata": {},
   "outputs": [],
   "source": [
    "from sklearn.model_selection import train_test_split\n",
    "from sklearn import metrics"
   ]
  },
  {
   "cell_type": "markdown",
   "id": "846b249a-977d-4f47-a674-052ec3cd1228",
   "metadata": {},
   "source": [
    "Для сохранения модели"
   ]
  },
  {
   "cell_type": "code",
   "execution_count": 9,
   "id": "a884c3ba-0783-4103-a745-f1997159e0c8",
   "metadata": {},
   "outputs": [],
   "source": [
    "import joblib"
   ]
  },
  {
   "cell_type": "markdown",
   "id": "2fb297ca-7808-481a-ac87-9e0410e081e6",
   "metadata": {
    "tags": []
   },
   "source": [
    "# Исследование данных"
   ]
  },
  {
   "cell_type": "markdown",
   "id": "e728004b-66ab-4c95-b703-65d3543bb907",
   "metadata": {
    "tags": []
   },
   "source": [
    "## Взгляд сверху"
   ]
  },
  {
   "cell_type": "markdown",
   "id": "2a4c7eea-318e-4e37-b95b-5a9ab9514238",
   "metadata": {},
   "source": [
    "### Общий вид"
   ]
  },
  {
   "cell_type": "markdown",
   "id": "5230e7ea-c399-4ecf-aef4-48e774de9eae",
   "metadata": {},
   "source": [
    "Посмоторим, как выглядят первые 10 строк. По входной информации, это описание HTTP-запросов, среди которых есть вредоносные и опасные. Столбца \"разметка\" или подобного, описывающего классы, на первый взгляд, нет."
   ]
  },
  {
   "cell_type": "markdown",
   "id": "72322751-3355-40e3-a399-4f790bcc33ec",
   "metadata": {
    "tags": []
   },
   "source": [
    "# Загрузка данных"
   ]
  },
  {
   "cell_type": "code",
   "execution_count": 10,
   "id": "66fc3d23-938a-4117-beb4-fddd3f6a0018",
   "metadata": {},
   "outputs": [],
   "source": [
    "df = pd.read_csv('data/part_10.csv', encoding='utf8')"
   ]
  },
  {
   "cell_type": "code",
   "execution_count": 11,
   "id": "d6257225-9201-4f53-b98d-2737b6e4144b",
   "metadata": {},
   "outputs": [
    {
     "data": {
      "text/html": [
       "<div>\n",
       "<style scoped>\n",
       "    .dataframe tbody tr th:only-of-type {\n",
       "        vertical-align: middle;\n",
       "    }\n",
       "\n",
       "    .dataframe tbody tr th {\n",
       "        vertical-align: top;\n",
       "    }\n",
       "\n",
       "    .dataframe thead th {\n",
       "        text-align: right;\n",
       "    }\n",
       "</style>\n",
       "<table border=\"1\" class=\"dataframe\">\n",
       "  <thead>\n",
       "    <tr style=\"text-align: right;\">\n",
       "      <th></th>\n",
       "      <th>CLIENT_IP</th>\n",
       "      <th>CLIENT_USERAGENT</th>\n",
       "      <th>REQUEST_SIZE</th>\n",
       "      <th>RESPONSE_CODE</th>\n",
       "      <th>MATCHED_VARIABLE_SRC</th>\n",
       "      <th>MATCHED_VARIABLE_NAME</th>\n",
       "      <th>MATCHED_VARIABLE_VALUE</th>\n",
       "      <th>EVENT_ID</th>\n",
       "    </tr>\n",
       "  </thead>\n",
       "  <tbody>\n",
       "    <tr>\n",
       "      <th>0</th>\n",
       "      <td>188.138.92.55</td>\n",
       "      <td>NaN</td>\n",
       "      <td>166</td>\n",
       "      <td>404</td>\n",
       "      <td>REQUEST_URI</td>\n",
       "      <td>NaN</td>\n",
       "      <td>//tmp/20160925122692indo.php.vob</td>\n",
       "      <td>AVdhXFgVq1Ppo9zF5Fxu</td>\n",
       "    </tr>\n",
       "    <tr>\n",
       "      <th>1</th>\n",
       "      <td>93.158.215.131</td>\n",
       "      <td>Mozilla/5.0 (Windows NT 6.3; WOW64; rv:45.0) G...</td>\n",
       "      <td>431</td>\n",
       "      <td>302</td>\n",
       "      <td>REQUEST_GET_ARGS</td>\n",
       "      <td>url</td>\n",
       "      <td>http://www.galitsios.gr/?option=com_k2</td>\n",
       "      <td>AVdcJmIIq1Ppo9zF2YIp</td>\n",
       "    </tr>\n",
       "    <tr>\n",
       "      <th>2</th>\n",
       "      <td>176.123.240.64</td>\n",
       "      <td>Mozilla/5.0 (Windows NT 6.0; rv:34.0) Gecko/20...</td>\n",
       "      <td>395</td>\n",
       "      <td>403</td>\n",
       "      <td>REQUEST_PATH</td>\n",
       "      <td>NaN</td>\n",
       "      <td>/opinion/page1_3.php\\\" and \\\"\\\"x\\\"\\\"=\\\"\\\"x\\\"</td>\n",
       "      <td>iz7SN2YBrgKk_RFNZW_U</td>\n",
       "    </tr>\n",
       "    <tr>\n",
       "      <th>3</th>\n",
       "      <td>73.78.81.63</td>\n",
       "      <td>Mozilla/5.0 (Windows NT 6.3; WOW64; rv:45.0) G...</td>\n",
       "      <td>387</td>\n",
       "      <td>302</td>\n",
       "      <td>REQUEST_GET_ARGS</td>\n",
       "      <td>url</td>\n",
       "      <td>http://thereviewgroup.org/boss-capital/</td>\n",
       "      <td>AVdjekw4q1Ppo9zF6QT2</td>\n",
       "    </tr>\n",
       "    <tr>\n",
       "      <th>4</th>\n",
       "      <td>66.102.9.44</td>\n",
       "      <td>Mozilla/5.0 (Linux; Android 4.4.2; GT-N7100 Bu...</td>\n",
       "      <td>1733</td>\n",
       "      <td>404</td>\n",
       "      <td>REQUEST_GET_ARGS</td>\n",
       "      <td>REQUEST_GET_ARGS._</td>\n",
       "      <td>1516288084140</td>\n",
       "      <td>SqQGI2QB5cBXmMW1CDbp</td>\n",
       "    </tr>\n",
       "    <tr>\n",
       "      <th>5</th>\n",
       "      <td>79.183.87.247</td>\n",
       "      <td>Mozilla/5.0 (Linux; Android 6.0; LG-H815 Build...</td>\n",
       "      <td>682</td>\n",
       "      <td>404</td>\n",
       "      <td>REQUEST_HEADERS</td>\n",
       "      <td>REQUEST_HEADERS.User-Agent</td>\n",
       "      <td>Mozilla/5.0 (Linux; Android 6.0; LG-H815 Build...</td>\n",
       "      <td>nFzwHGQB5cBXmMW1y_TD</td>\n",
       "    </tr>\n",
       "    <tr>\n",
       "      <th>6</th>\n",
       "      <td>88.198.201.245</td>\n",
       "      <td>Mozilla/5.0 (Windows NT 6.1; WOW64) AppleWebKi...</td>\n",
       "      <td>1031</td>\n",
       "      <td>302</td>\n",
       "      <td>REQUEST_GET_ARGS</td>\n",
       "      <td>REQUEST_GET_ARGS.rid</td>\n",
       "      <td>3585221644</td>\n",
       "      <td>9KP-ImQB5cBXmMW1yeXY</td>\n",
       "    </tr>\n",
       "    <tr>\n",
       "      <th>7</th>\n",
       "      <td>77.72.142.170</td>\n",
       "      <td>Mozilla/5.0 (Windows NT 6.1) AppleWebKit/537.3...</td>\n",
       "      <td>763</td>\n",
       "      <td>404</td>\n",
       "      <td>REQUEST_GET_ARGS</td>\n",
       "      <td>REQUEST_GET_ARGS._</td>\n",
       "      <td>214296569</td>\n",
       "      <td>97JpJGQB5cBXmMW1WqBh</td>\n",
       "    </tr>\n",
       "    <tr>\n",
       "      <th>8</th>\n",
       "      <td>94.50.192.153</td>\n",
       "      <td>Mozilla/5.0 (Windows NT 10.0) AppleWebKit/537....</td>\n",
       "      <td>3786</td>\n",
       "      <td>404</td>\n",
       "      <td>REQUEST_METHOD\\';\\'REQUEST_CONTE</td>\n",
       "      <td>NaN</td>\n",
       "      <td>POST\\';\\'multipart/form-data; boundary=----Web...</td>\n",
       "      <td>irs7_mMBjksgoq1eoQ7a</td>\n",
       "    </tr>\n",
       "    <tr>\n",
       "      <th>9</th>\n",
       "      <td>83.246.141.54</td>\n",
       "      <td>Mozilla/5.0 (Windows NT 6.1; WOW64; Trident/7....</td>\n",
       "      <td>840</td>\n",
       "      <td>404</td>\n",
       "      <td>REQUEST_GET_ARGS</td>\n",
       "      <td>REQUEST_GET_ARGS._</td>\n",
       "      <td>51660445</td>\n",
       "      <td>g4RdIGQB5cBXmMW10nGg</td>\n",
       "    </tr>\n",
       "  </tbody>\n",
       "</table>\n",
       "</div>"
      ],
      "text/plain": [
       "        CLIENT_IP                                   CLIENT_USERAGENT  \\\n",
       "0   188.138.92.55                                                NaN   \n",
       "1  93.158.215.131  Mozilla/5.0 (Windows NT 6.3; WOW64; rv:45.0) G...   \n",
       "2  176.123.240.64  Mozilla/5.0 (Windows NT 6.0; rv:34.0) Gecko/20...   \n",
       "3     73.78.81.63  Mozilla/5.0 (Windows NT 6.3; WOW64; rv:45.0) G...   \n",
       "4     66.102.9.44  Mozilla/5.0 (Linux; Android 4.4.2; GT-N7100 Bu...   \n",
       "5   79.183.87.247  Mozilla/5.0 (Linux; Android 6.0; LG-H815 Build...   \n",
       "6  88.198.201.245  Mozilla/5.0 (Windows NT 6.1; WOW64) AppleWebKi...   \n",
       "7   77.72.142.170  Mozilla/5.0 (Windows NT 6.1) AppleWebKit/537.3...   \n",
       "8   94.50.192.153  Mozilla/5.0 (Windows NT 10.0) AppleWebKit/537....   \n",
       "9   83.246.141.54  Mozilla/5.0 (Windows NT 6.1; WOW64; Trident/7....   \n",
       "\n",
       "  REQUEST_SIZE RESPONSE_CODE              MATCHED_VARIABLE_SRC  \\\n",
       "0          166           404                       REQUEST_URI   \n",
       "1          431           302                  REQUEST_GET_ARGS   \n",
       "2          395           403                      REQUEST_PATH   \n",
       "3          387           302                  REQUEST_GET_ARGS   \n",
       "4         1733           404                  REQUEST_GET_ARGS   \n",
       "5          682           404                   REQUEST_HEADERS   \n",
       "6         1031           302                  REQUEST_GET_ARGS   \n",
       "7          763           404                  REQUEST_GET_ARGS   \n",
       "8         3786           404  REQUEST_METHOD\\';\\'REQUEST_CONTE   \n",
       "9          840           404                  REQUEST_GET_ARGS   \n",
       "\n",
       "        MATCHED_VARIABLE_NAME  \\\n",
       "0                         NaN   \n",
       "1                         url   \n",
       "2                         NaN   \n",
       "3                         url   \n",
       "4          REQUEST_GET_ARGS._   \n",
       "5  REQUEST_HEADERS.User-Agent   \n",
       "6        REQUEST_GET_ARGS.rid   \n",
       "7          REQUEST_GET_ARGS._   \n",
       "8                         NaN   \n",
       "9          REQUEST_GET_ARGS._   \n",
       "\n",
       "                              MATCHED_VARIABLE_VALUE              EVENT_ID  \n",
       "0                   //tmp/20160925122692indo.php.vob  AVdhXFgVq1Ppo9zF5Fxu  \n",
       "1             http://www.galitsios.gr/?option=com_k2  AVdcJmIIq1Ppo9zF2YIp  \n",
       "2       /opinion/page1_3.php\\\" and \\\"\\\"x\\\"\\\"=\\\"\\\"x\\\"  iz7SN2YBrgKk_RFNZW_U  \n",
       "3            http://thereviewgroup.org/boss-capital/  AVdjekw4q1Ppo9zF6QT2  \n",
       "4                                      1516288084140  SqQGI2QB5cBXmMW1CDbp  \n",
       "5  Mozilla/5.0 (Linux; Android 6.0; LG-H815 Build...  nFzwHGQB5cBXmMW1y_TD  \n",
       "6                                         3585221644  9KP-ImQB5cBXmMW1yeXY  \n",
       "7                                          214296569  97JpJGQB5cBXmMW1WqBh  \n",
       "8  POST\\';\\'multipart/form-data; boundary=----Web...  irs7_mMBjksgoq1eoQ7a  \n",
       "9                                           51660445  g4RdIGQB5cBXmMW10nGg  "
      ]
     },
     "execution_count": 11,
     "metadata": {},
     "output_type": "execute_result"
    }
   ],
   "source": [
    "df.head(10)"
   ]
  },
  {
   "cell_type": "markdown",
   "id": "8ee16c0a-90c5-44d9-b0d1-a0d4dafeb896",
   "metadata": {},
   "source": [
    "Общая характеристика данных. Видно, что некоторые столбцы почти полностью состоят из уникальных значений. Возможно, позже можно будет выделить из них информативную часть."
   ]
  },
  {
   "cell_type": "code",
   "execution_count": 12,
   "id": "3892dbcd-1295-4131-950c-f6e2566ca805",
   "metadata": {},
   "outputs": [
    {
     "data": {
      "text/html": [
       "<div>\n",
       "<style scoped>\n",
       "    .dataframe tbody tr th:only-of-type {\n",
       "        vertical-align: middle;\n",
       "    }\n",
       "\n",
       "    .dataframe tbody tr th {\n",
       "        vertical-align: top;\n",
       "    }\n",
       "\n",
       "    .dataframe thead th {\n",
       "        text-align: right;\n",
       "    }\n",
       "</style>\n",
       "<table border=\"1\" class=\"dataframe\">\n",
       "  <thead>\n",
       "    <tr style=\"text-align: right;\">\n",
       "      <th></th>\n",
       "      <th>CLIENT_IP</th>\n",
       "      <th>CLIENT_USERAGENT</th>\n",
       "      <th>REQUEST_SIZE</th>\n",
       "      <th>RESPONSE_CODE</th>\n",
       "      <th>MATCHED_VARIABLE_SRC</th>\n",
       "      <th>MATCHED_VARIABLE_NAME</th>\n",
       "      <th>MATCHED_VARIABLE_VALUE</th>\n",
       "      <th>EVENT_ID</th>\n",
       "    </tr>\n",
       "  </thead>\n",
       "  <tbody>\n",
       "    <tr>\n",
       "      <th>count</th>\n",
       "      <td>57838</td>\n",
       "      <td>57517</td>\n",
       "      <td>57794</td>\n",
       "      <td>57770</td>\n",
       "      <td>57730</td>\n",
       "      <td>53167</td>\n",
       "      <td>57683</td>\n",
       "      <td>57666</td>\n",
       "    </tr>\n",
       "    <tr>\n",
       "      <th>unique</th>\n",
       "      <td>24940</td>\n",
       "      <td>6992</td>\n",
       "      <td>5758</td>\n",
       "      <td>60</td>\n",
       "      <td>21</td>\n",
       "      <td>3209</td>\n",
       "      <td>57611</td>\n",
       "      <td>54410</td>\n",
       "    </tr>\n",
       "    <tr>\n",
       "      <th>top</th>\n",
       "      <td>217.175.140.69</td>\n",
       "      <td>Mozilla/5.0 (Windows NT 6.1; WOW64; Trident/7....</td>\n",
       "      <td>259</td>\n",
       "      <td>200</td>\n",
       "      <td>REQUEST_GET_ARGS</td>\n",
       "      <td>REQUEST_GET_ARGS._</td>\n",
       "      <td>{\\\"tags\\\":[{\\\"sizes\\\":[{\\\"width\\\":728,\\\"height...</td>\n",
       "      <td>cr1nJWQB5cBXmMW1hh_4</td>\n",
       "    </tr>\n",
       "    <tr>\n",
       "      <th>freq</th>\n",
       "      <td>11286</td>\n",
       "      <td>2117</td>\n",
       "      <td>261</td>\n",
       "      <td>25771</td>\n",
       "      <td>20812</td>\n",
       "      <td>11165</td>\n",
       "      <td>28</td>\n",
       "      <td>7</td>\n",
       "    </tr>\n",
       "  </tbody>\n",
       "</table>\n",
       "</div>"
      ],
      "text/plain": [
       "             CLIENT_IP                                   CLIENT_USERAGENT  \\\n",
       "count            57838                                              57517   \n",
       "unique           24940                                               6992   \n",
       "top     217.175.140.69  Mozilla/5.0 (Windows NT 6.1; WOW64; Trident/7....   \n",
       "freq             11286                                               2117   \n",
       "\n",
       "       REQUEST_SIZE RESPONSE_CODE MATCHED_VARIABLE_SRC MATCHED_VARIABLE_NAME  \\\n",
       "count         57794         57770                57730                 53167   \n",
       "unique         5758            60                   21                  3209   \n",
       "top             259           200     REQUEST_GET_ARGS    REQUEST_GET_ARGS._   \n",
       "freq            261         25771                20812                 11165   \n",
       "\n",
       "                                   MATCHED_VARIABLE_VALUE  \\\n",
       "count                                               57683   \n",
       "unique                                              57611   \n",
       "top     {\\\"tags\\\":[{\\\"sizes\\\":[{\\\"width\\\":728,\\\"height...   \n",
       "freq                                                   28   \n",
       "\n",
       "                    EVENT_ID  \n",
       "count                  57666  \n",
       "unique                 54410  \n",
       "top     cr1nJWQB5cBXmMW1hh_4  \n",
       "freq                       7  "
      ]
     },
     "execution_count": 12,
     "metadata": {},
     "output_type": "execute_result"
    }
   ],
   "source": [
    "df.describe()"
   ]
  },
  {
   "cell_type": "markdown",
   "id": "3d678288-c845-47fb-b754-c027039ba04e",
   "metadata": {},
   "source": [
    "### Код ответа: странные значения и обнаружение названий классов атак"
   ]
  },
  {
   "cell_type": "markdown",
   "id": "f2b1129b-7ec1-4c4e-9970-5a3169b468db",
   "metadata": {},
   "source": [
    "Код ответа описан в стандартах, и может пригодиться в дальнейшем. Посмотрим распределение.\n",
    "\n",
    "Видно, что, кроме частовстречающихся допустимых трёхзначных кодов есть ещё коды, похожие на хеш - длина у всех одинаковая, содержание как будто случайное.\n",
    "\n",
    "Также заметно, что много кодов, начинающихся не с \"2\" - предполагаю, это не нормальная ситуация."
   ]
  },
  {
   "cell_type": "code",
   "execution_count": 13,
   "id": "2321847e-1045-458d-91c8-07265de4ef90",
   "metadata": {},
   "outputs": [
    {
     "data": {
      "text/plain": [
       "200                                 25771\n",
       "404                                 20367\n",
       "302                                  6630\n",
       "403                                  1156\n",
       "304                                   940\n",
       "504                                   700\n",
       "301                                   584\n",
       "502                                   558\n",
       "500                                   318\n",
       "400                                   212\n",
       "204                                   116\n",
       "206                                    90\n",
       "307                                    74\n",
       "405                                    63\n",
       "503                                    62\n",
       "401                                    46\n",
       "303                                    37\n",
       "207                                     4\n",
       "8db0d594d4b89f35dbedc593c724c29b        1\n",
       "dcbfc5eef493e919119fd48eb4f957ad        1\n",
       "fc59a2c72afacddb8f8492c3c065b0e0        1\n",
       "d64bdad286ae021642535d4f119a0546        1\n",
       "01bfebabb27b66e033b76a34951b41cb        1\n",
       "b09268bd2d762c0a2b222c2575c658ba        1\n",
       "844e1a644a84cf6cd43d9946df5f1b5e        1\n",
       "50a68d94b153e22135f74f7377b95cda        1\n",
       "5f8901bea49833ad7700dc31a9a9e3fc        1\n",
       "81313b14c79a583f202f1ffb179e1f32        1\n",
       "0                                       1\n",
       "b73bcdac1d34524cb1eac94a854c2a78        1\n",
       "1999a9da38741e67e491ed9e4d6023f2        1\n",
       "3e8c519b428c6aaff3f4e3375c70994e        1\n",
       "88c0210060c336f47b6400e24a214305        1\n",
       "f2b75d93f9732114e1243066945982b6        1\n",
       "96354d8ea79d95995f807edcbc6772b2        1\n",
       "d544692b358f118894bd292a297f5635        1\n",
       "be917628f6edcdc86d6bdea6edab6c48        1\n",
       "746197b631356af001b5ca51d2699be6        1\n",
       "71a7ec9c241cee4b50702eefbbbe31d6        1\n",
       "63efc61a61cb360cf4bc705e86d9f31f        1\n",
       "95a83719d9c83d19251a06ba7fcaf9ac        1\n",
       "2f53b17df6da6bf9aeec27b0d87413c4        1\n",
       "dd7ff149a6270e8037f6aa280b4ca1bd        1\n",
       "5cae7339ed82e2077c9a5da7c92c698a        1\n",
       "deea16e940c6e2818a7efe1d1ad201f0        1\n",
       "74d646cee1d7d983cf7a6cef6a644040        1\n",
       "1f71588787ee4ee0ef301328471e64e9        1\n",
       "b9b029604bb4efdc880d2be07739b7e7        1\n",
       "6bc76f3105219540d0a22d044d4e081a        1\n",
       "62233793489a0ab0e8f20644a915daa0        1\n",
       "a7b0431eb51afef09520fda85c6dd48f        1\n",
       "2bddee97b2b2ce0e9715eaf286dbedc8        1\n",
       "c8e2c05b2a7908b3d9473cd7a436013f        1\n",
       "86aeba8f044507b5fe25312288a76515        1\n",
       "df913ceca75a4cc24ee0afbc2f22ceaf        1\n",
       "0b809ae29d22329a1ca3353f675e3dcf        1\n",
       "1afd3c172028bc84840929251e10a8f9        1\n",
       "82b4c42ac7edc647d27de21ceb791491        1\n",
       "429                                     1\n",
       "7ccc451ad8a2981f1e6f7eb6a5813246        1\n",
       "Name: RESPONSE_CODE, dtype: int64"
      ]
     },
     "execution_count": 13,
     "metadata": {},
     "output_type": "execute_result"
    }
   ],
   "source": [
    "df.RESPONSE_CODE.value_counts()"
   ]
  },
  {
   "cell_type": "markdown",
   "id": "36fadcc3-cbbe-4570-93a9-7f552a1181ae",
   "metadata": {},
   "source": [
    "Посмотрим, что за странные записи с хешами вместо кодов ответов.\n",
    "\n",
    "Их оказалось не так уж и много. И интересная особенность - в поле \"CLIENT_USERAGENT\" таких записей указан класс уязвимости - \"SQL Injection\" или \"Cross-Site Scripting\". Другая особенность (возможно, чем-то позже будет объяснена) - в поле \"REQUEST_SIZE\" у всех них код имеет формат AVd.*Ppo9zF\n",
    "\n",
    "И ещё одна особенность - визуально похоже, что это \"сдвинутая\" предыдущая строка. Как будто что-то было записно в предыдущую колонку в формате генерирующего записи средства, а при записи в CSV оказалось дублирование разделяющих символов."
   ]
  },
  {
   "cell_type": "code",
   "execution_count": 14,
   "id": "de7046f0-4fcb-47ac-90e5-ad12c063bfc4",
   "metadata": {},
   "outputs": [
    {
     "data": {
      "text/plain": [
       "(40, 8)"
      ]
     },
     "execution_count": 14,
     "metadata": {},
     "output_type": "execute_result"
    }
   ],
   "source": [
    "df[df.RESPONSE_CODE.str.contains('^.{4,}$', regex=True, na=False)].shape"
   ]
  },
  {
   "cell_type": "code",
   "execution_count": 15,
   "id": "9360742a-3154-4250-b6f7-a48a586354d4",
   "metadata": {},
   "outputs": [
    {
     "data": {
      "text/html": [
       "<div>\n",
       "<style scoped>\n",
       "    .dataframe tbody tr th:only-of-type {\n",
       "        vertical-align: middle;\n",
       "    }\n",
       "\n",
       "    .dataframe tbody tr th {\n",
       "        vertical-align: top;\n",
       "    }\n",
       "\n",
       "    .dataframe thead th {\n",
       "        text-align: right;\n",
       "    }\n",
       "</style>\n",
       "<table border=\"1\" class=\"dataframe\">\n",
       "  <thead>\n",
       "    <tr style=\"text-align: right;\">\n",
       "      <th></th>\n",
       "      <th>CLIENT_IP</th>\n",
       "      <th>CLIENT_USERAGENT</th>\n",
       "      <th>REQUEST_SIZE</th>\n",
       "      <th>RESPONSE_CODE</th>\n",
       "      <th>MATCHED_VARIABLE_SRC</th>\n",
       "      <th>MATCHED_VARIABLE_NAME</th>\n",
       "      <th>MATCHED_VARIABLE_VALUE</th>\n",
       "      <th>EVENT_ID</th>\n",
       "    </tr>\n",
       "  </thead>\n",
       "  <tbody>\n",
       "    <tr>\n",
       "      <th>50</th>\n",
       "      <td>&gt; -gOxT\"O&lt;Ghè\u0019e]Ø\u001d",
       "È8 G`\b\u0007Qf¾ñ\u001e",
       "}y\u001c",
       "ðù!T...</td>\n",
       "      <td>SQL Injection</td>\n",
       "      <td>AVdYz8-Wq1Ppo9zF0mzK</td>\n",
       "      <td>2f53b17df6da6bf9aeec27b0d87413c4</td>\n",
       "      <td>NaN</td>\n",
       "      <td>NaN</td>\n",
       "      <td>NaN</td>\n",
       "      <td>NaN</td>\n",
       "    </tr>\n",
       "    <tr>\n",
       "      <th>1308</th>\n",
       "      <td>~@.*\")ۅ</td>\n",
       "      <td>SQL Injection</td>\n",
       "      <td>AVdsla-3q1Ppo9zF_J7c</td>\n",
       "      <td>dd7ff149a6270e8037f6aa280b4ca1bd</td>\n",
       "      <td>NaN</td>\n",
       "      <td>NaN</td>\n",
       "      <td>NaN</td>\n",
       "      <td>NaN</td>\n",
       "    </tr>\n",
       "    <tr>\n",
       "      <th>4185</th>\n",
       "      <td>\\n¨Àç۷­|Ó\\r¼Ł;z¢±Ç×\u0015íVë¨'2yKï#rïyúÔX»R薲s\u0013...</td>\n",
       "      <td>SQL Injection</td>\n",
       "      <td>AVdfPawjq1Ppo9zF4R4n</td>\n",
       "      <td>5cae7339ed82e2077c9a5da7c92c698a</td>\n",
       "      <td>NaN</td>\n",
       "      <td>NaN</td>\n",
       "      <td>NaN</td>\n",
       "      <td>NaN</td>\n",
       "    </tr>\n",
       "    <tr>\n",
       "      <th>10085</th>\n",
       "      <td>)vÕê\u0004x¥Å&gt;\u0015W!¡´´üS©ó²l3\u0014¸©qKÙNâ±\u001e",
       ")ø§⟊»\u0016)qRâ...</td>\n",
       "      <td>SQL Injection</td>\n",
       "      <td>AVdXVhQZq1Ppo9zFzqqW</td>\n",
       "      <td>deea16e940c6e2818a7efe1d1ad201f0</td>\n",
       "      <td>NaN</td>\n",
       "      <td>NaN</td>\n",
       "      <td>NaN</td>\n",
       "      <td>NaN</td>\n",
       "    </tr>\n",
       "    <tr>\n",
       "      <th>10962</th>\n",
       "      <td>«e;½@õÍs\u001e",
       "ßë\u000fþ5â±]ÜÀ</td>\n",
       "      <td>SQL Injection</td>\n",
       "      <td>AVdpg3z4q1Ppo9zF9i1G</td>\n",
       "      <td>74d646cee1d7d983cf7a6cef6a644040</td>\n",
       "      <td>NaN</td>\n",
       "      <td>NaN</td>\n",
       "      <td>NaN</td>\n",
       "      <td>NaN</td>\n",
       "    </tr>\n",
       "    <tr>\n",
       "      <th>12146</th>\n",
       "      <td>I·`)ó&gt;ïï\u000b",
       "#��é=Aþ\u0014yÒzþü ë\u0003\u0004VEݴG&gt;E¼É!õý¿=Àûg...</td>\n",
       "      <td>Cross-Site Scripting</td>\n",
       "      <td>AVdXQUGaq1Ppo9zFznch</td>\n",
       "      <td>1f71588787ee4ee0ef301328471e64e9</td>\n",
       "      <td>NaN</td>\n",
       "      <td>NaN</td>\n",
       "      <td>NaN</td>\n",
       "      <td>NaN</td>\n",
       "    </tr>\n",
       "    <tr>\n",
       "      <th>12800</th>\n",
       "      <td>r÷ÑÎÛN7 ÏÓ\u0018ÇéZ(ó)Eý¥c6uóƍóm\u0004°#p</td>\n",
       "      <td>SQL Injection</td>\n",
       "      <td>AVdsbKxEq1Ppo9zF_EsP</td>\n",
       "      <td>b9b029604bb4efdc880d2be07739b7e7</td>\n",
       "      <td>NaN</td>\n",
       "      <td>NaN</td>\n",
       "      <td>NaN</td>\n",
       "      <td>NaN</td>\n",
       "    </tr>\n",
       "    <tr>\n",
       "      <th>13519</th>\n",
       "      <td>&gt; -gOxT\"O&lt;Ghè\u0019e]Ø\u001d",
       "È8¦\u0007n4íÇ־ñ\u001e",
       "}y\u001c",
       "ðù!T'|k...</td>\n",
       "      <td>SQL Injection</td>\n",
       "      <td>AVdmhteYq1Ppo9zF8HOJ</td>\n",
       "      <td>6bc76f3105219540d0a22d044d4e081a</td>\n",
       "      <td>NaN</td>\n",
       "      <td>NaN</td>\n",
       "      <td>NaN</td>\n",
       "      <td>NaN</td>\n",
       "    </tr>\n",
       "    <tr>\n",
       "      <th>13861</th>\n",
       "      <td>ihõ¥m@u\u0014SµÀZZJZ6$JZJZ.\u0002ÒÒRU</td>\n",
       "      <td>SQL Injection</td>\n",
       "      <td>AVdXLpqFq1Ppo9zFzkUK</td>\n",
       "      <td>95a83719d9c83d19251a06ba7fcaf9ac</td>\n",
       "      <td>NaN</td>\n",
       "      <td>NaN</td>\n",
       "      <td>NaN</td>\n",
       "      <td>NaN</td>\n",
       "    </tr>\n",
       "    <tr>\n",
       "      <th>14642</th>\n",
       "      <td>0\u0015V9\u0018ó´z\u0001AXGTþ8þtÎ6íDÇëþ\u0015T³µP\u0002\u0018\u0011,'#ûÌHϯ5i...</td>\n",
       "      <td>SQL Injection</td>\n",
       "      <td>AVdiJ5Rjq1Ppo9zF5kDu</td>\n",
       "      <td>62233793489a0ab0e8f20644a915daa0</td>\n",
       "      <td>NaN</td>\n",
       "      <td>NaN</td>\n",
       "      <td>NaN</td>\n",
       "      <td>NaN</td>\n",
       "    </tr>\n",
       "  </tbody>\n",
       "</table>\n",
       "</div>"
      ],
      "text/plain": [
       "                                               CLIENT_IP  \\\n",
       "50     > -gOxT\"O<Ghè\u0019e]Ø\n",
       "È8 G`\b\u0007Qf¾ñ\n",
       "}y\n",
       "ðù!T...   \n",
       "1308                                             ~@.*\")ۅ   \n",
       "4185   \\n¨Àç۷­|Ó\\r¼Ł;z¢±Ç×\u0015íVë¨'2yKï#rïyúÔX»R薲s\u0013...   \n",
       "10085  )vÕê\u0004x¥Å>\u0015W!¡´´üS©ó²l3\u0014¸©qKÙNâ±\n",
       ")ø§⟊»\u0016)qRâ...   \n",
       "10962                              «e;½@õÍs\n",
       "ßë\u000fþ5â±]ÜÀ   \n",
       "12146  I·`)ó>ïï\n",
       "#��é=Aþ\u0014yÒzþü ë\u0003\u0004VEݴG>E¼É!õý¿=Àûg...   \n",
       "12800                   r÷ÑÎÛN7 ÏÓ\u0018ÇéZ(ó)Eý¥c6uóƍóm\u0004°#p   \n",
       "13519  > -gOxT\"O<Ghè\u0019e]Ø\n",
       "È8¦\u0007n4íÇ־ñ\n",
       "}y\n",
       "ðù!T'|k...   \n",
       "13861                       ihõ¥m@u\u0014SµÀZZJZ6$JZJZ.\u0002ÒÒRU   \n",
       "14642   0\u0015V9\u0018ó´z\u0001AXGTþ8þtÎ6íDÇëþ\u0015T³µP\u0002\u0018\u0011,'#ûÌHϯ5i...   \n",
       "\n",
       "           CLIENT_USERAGENT          REQUEST_SIZE  \\\n",
       "50            SQL Injection  AVdYz8-Wq1Ppo9zF0mzK   \n",
       "1308          SQL Injection  AVdsla-3q1Ppo9zF_J7c   \n",
       "4185          SQL Injection  AVdfPawjq1Ppo9zF4R4n   \n",
       "10085         SQL Injection  AVdXVhQZq1Ppo9zFzqqW   \n",
       "10962         SQL Injection  AVdpg3z4q1Ppo9zF9i1G   \n",
       "12146  Cross-Site Scripting  AVdXQUGaq1Ppo9zFznch   \n",
       "12800         SQL Injection  AVdsbKxEq1Ppo9zF_EsP   \n",
       "13519         SQL Injection  AVdmhteYq1Ppo9zF8HOJ   \n",
       "13861         SQL Injection  AVdXLpqFq1Ppo9zFzkUK   \n",
       "14642         SQL Injection  AVdiJ5Rjq1Ppo9zF5kDu   \n",
       "\n",
       "                          RESPONSE_CODE MATCHED_VARIABLE_SRC  \\\n",
       "50     2f53b17df6da6bf9aeec27b0d87413c4                  NaN   \n",
       "1308   dd7ff149a6270e8037f6aa280b4ca1bd                  NaN   \n",
       "4185   5cae7339ed82e2077c9a5da7c92c698a                  NaN   \n",
       "10085  deea16e940c6e2818a7efe1d1ad201f0                  NaN   \n",
       "10962  74d646cee1d7d983cf7a6cef6a644040                  NaN   \n",
       "12146  1f71588787ee4ee0ef301328471e64e9                  NaN   \n",
       "12800  b9b029604bb4efdc880d2be07739b7e7                  NaN   \n",
       "13519  6bc76f3105219540d0a22d044d4e081a                  NaN   \n",
       "13861  95a83719d9c83d19251a06ba7fcaf9ac                  NaN   \n",
       "14642  62233793489a0ab0e8f20644a915daa0                  NaN   \n",
       "\n",
       "      MATCHED_VARIABLE_NAME MATCHED_VARIABLE_VALUE EVENT_ID  \n",
       "50                      NaN                    NaN      NaN  \n",
       "1308                    NaN                    NaN      NaN  \n",
       "4185                    NaN                    NaN      NaN  \n",
       "10085                   NaN                    NaN      NaN  \n",
       "10962                   NaN                    NaN      NaN  \n",
       "12146                   NaN                    NaN      NaN  \n",
       "12800                   NaN                    NaN      NaN  \n",
       "13519                   NaN                    NaN      NaN  \n",
       "13861                   NaN                    NaN      NaN  \n",
       "14642                   NaN                    NaN      NaN  "
      ]
     },
     "execution_count": 15,
     "metadata": {},
     "output_type": "execute_result"
    }
   ],
   "source": [
    "df[df.RESPONSE_CODE.str.contains('^.{4,}$', regex=True, na=False)].head(10)"
   ]
  },
  {
   "cell_type": "markdown",
   "id": "994bb0fc-e853-4250-b2b6-693a5dff26e8",
   "metadata": {},
   "source": [
    "Предположение - возможно, такие записи следуют за другими \"нормальными\". Проверим - посмотрим несколько записей подряд в окрестности \"странных\". Начнём с 50 записи. Видно, что 49 запись имеет нормальный формат - во всяком случае, заканчивается ID события, как и все другие"
   ]
  },
  {
   "cell_type": "code",
   "execution_count": 16,
   "id": "46828c1b-a66d-444c-b33f-d29dc7458f36",
   "metadata": {},
   "outputs": [
    {
     "data": {
      "text/html": [
       "<div>\n",
       "<style scoped>\n",
       "    .dataframe tbody tr th:only-of-type {\n",
       "        vertical-align: middle;\n",
       "    }\n",
       "\n",
       "    .dataframe tbody tr th {\n",
       "        vertical-align: top;\n",
       "    }\n",
       "\n",
       "    .dataframe thead th {\n",
       "        text-align: right;\n",
       "    }\n",
       "</style>\n",
       "<table border=\"1\" class=\"dataframe\">\n",
       "  <thead>\n",
       "    <tr style=\"text-align: right;\">\n",
       "      <th></th>\n",
       "      <th>CLIENT_IP</th>\n",
       "      <th>CLIENT_USERAGENT</th>\n",
       "      <th>REQUEST_SIZE</th>\n",
       "      <th>RESPONSE_CODE</th>\n",
       "      <th>MATCHED_VARIABLE_SRC</th>\n",
       "      <th>MATCHED_VARIABLE_NAME</th>\n",
       "      <th>MATCHED_VARIABLE_VALUE</th>\n",
       "      <th>EVENT_ID</th>\n",
       "    </tr>\n",
       "  </thead>\n",
       "  <tbody>\n",
       "    <tr>\n",
       "      <th>47</th>\n",
       "      <td>5.142.70.112</td>\n",
       "      <td>Mozilla/5.0 (Windows NT 6.1; WOW64) AppleWebKi...</td>\n",
       "      <td>949</td>\n",
       "      <td>404</td>\n",
       "      <td>REQUEST_GET_ARGS</td>\n",
       "      <td>REQUEST_GET_ARGS._</td>\n",
       "      <td>1516689224689</td>\n",
       "      <td>kFdZHGQB5cBXmMW1ZejV</td>\n",
       "    </tr>\n",
       "    <tr>\n",
       "      <th>48</th>\n",
       "      <td>93.115.95.207</td>\n",
       "      <td>Mozilla/5.0 (Windows; U; Windows NT 5.1; en-US...</td>\n",
       "      <td>657</td>\n",
       "      <td>200</td>\n",
       "      <td>REQUEST_GET_ARGS</td>\n",
       "      <td>id</td>\n",
       "      <td>3 AND ORD(MID((SELECT IFNULL(CAST(email AS CHA...</td>\n",
       "      <td>AVdsppvPq1Ppo9zF_L2X</td>\n",
       "    </tr>\n",
       "    <tr>\n",
       "      <th>49</th>\n",
       "      <td>37.122.53.229</td>\n",
       "      <td>Mozilla/5.0 (Linux; Android 4.4.2; ZTE Blade L...</td>\n",
       "      <td>1124</td>\n",
       "      <td>404</td>\n",
       "      <td>REQUEST_HEADERS</td>\n",
       "      <td>REQUEST_HEADERS.User-Agent</td>\n",
       "      <td>Mozilla/5.0 (Linux; Android 4.4.2; ZTE Blade L...</td>\n",
       "      <td>Mnl0H2QB5cBXmMW15C-u</td>\n",
       "    </tr>\n",
       "    <tr>\n",
       "      <th>50</th>\n",
       "      <td>&gt; -gOxT\"O&lt;Ghè\u0019e]Ø\u001d",
       "È8 G`\b\u0007Qf¾ñ\u001e",
       "}y\u001c",
       "ðù!T...</td>\n",
       "      <td>SQL Injection</td>\n",
       "      <td>AVdYz8-Wq1Ppo9zF0mzK</td>\n",
       "      <td>2f53b17df6da6bf9aeec27b0d87413c4</td>\n",
       "      <td>NaN</td>\n",
       "      <td>NaN</td>\n",
       "      <td>NaN</td>\n",
       "      <td>NaN</td>\n",
       "    </tr>\n",
       "    <tr>\n",
       "      <th>51</th>\n",
       "      <td>176.83.168.49</td>\n",
       "      <td>Mozilla/5.0 (Linux; Android 7.0; LG-M200 Build...</td>\n",
       "      <td>1042</td>\n",
       "      <td>200</td>\n",
       "      <td>REQUEST_GET_ARGS</td>\n",
       "      <td>REQUEST_GET_ARGS.TS</td>\n",
       "      <td>20180125T000651,33Z</td>\n",
       "      <td>jsCd_mMBjksgoq1esPxd</td>\n",
       "    </tr>\n",
       "    <tr>\n",
       "      <th>52</th>\n",
       "      <td>178.89.162.79</td>\n",
       "      <td>Mozilla/5.0 (Windows NT 6.1; Win64; x64) Apple...</td>\n",
       "      <td>957</td>\n",
       "      <td>404</td>\n",
       "      <td>REQUEST_GET_ARGS</td>\n",
       "      <td>REQUEST_GET_ARGS._</td>\n",
       "      <td>95371276</td>\n",
       "      <td>BWggHmQB5cBXmMW1GmPl</td>\n",
       "    </tr>\n",
       "  </tbody>\n",
       "</table>\n",
       "</div>"
      ],
      "text/plain": [
       "                                            CLIENT_IP  \\\n",
       "47                                       5.142.70.112   \n",
       "48                                      93.115.95.207   \n",
       "49                                      37.122.53.229   \n",
       "50  > -gOxT\"O<Ghè\u0019e]Ø\n",
       "È8 G`\b\u0007Qf¾ñ\n",
       "}y\n",
       "ðù!T...   \n",
       "51                                      176.83.168.49   \n",
       "52                                      178.89.162.79   \n",
       "\n",
       "                                     CLIENT_USERAGENT          REQUEST_SIZE  \\\n",
       "47  Mozilla/5.0 (Windows NT 6.1; WOW64) AppleWebKi...                   949   \n",
       "48  Mozilla/5.0 (Windows; U; Windows NT 5.1; en-US...                   657   \n",
       "49  Mozilla/5.0 (Linux; Android 4.4.2; ZTE Blade L...                  1124   \n",
       "50                                      SQL Injection  AVdYz8-Wq1Ppo9zF0mzK   \n",
       "51  Mozilla/5.0 (Linux; Android 7.0; LG-M200 Build...                  1042   \n",
       "52  Mozilla/5.0 (Windows NT 6.1; Win64; x64) Apple...                   957   \n",
       "\n",
       "                       RESPONSE_CODE MATCHED_VARIABLE_SRC  \\\n",
       "47                               404     REQUEST_GET_ARGS   \n",
       "48                               200     REQUEST_GET_ARGS   \n",
       "49                               404      REQUEST_HEADERS   \n",
       "50  2f53b17df6da6bf9aeec27b0d87413c4                  NaN   \n",
       "51                               200     REQUEST_GET_ARGS   \n",
       "52                               404     REQUEST_GET_ARGS   \n",
       "\n",
       "         MATCHED_VARIABLE_NAME  \\\n",
       "47          REQUEST_GET_ARGS._   \n",
       "48                          id   \n",
       "49  REQUEST_HEADERS.User-Agent   \n",
       "50                         NaN   \n",
       "51         REQUEST_GET_ARGS.TS   \n",
       "52          REQUEST_GET_ARGS._   \n",
       "\n",
       "                               MATCHED_VARIABLE_VALUE              EVENT_ID  \n",
       "47                                      1516689224689  kFdZHGQB5cBXmMW1ZejV  \n",
       "48  3 AND ORD(MID((SELECT IFNULL(CAST(email AS CHA...  AVdsppvPq1Ppo9zF_L2X  \n",
       "49  Mozilla/5.0 (Linux; Android 4.4.2; ZTE Blade L...  Mnl0H2QB5cBXmMW15C-u  \n",
       "50                                                NaN                   NaN  \n",
       "51                                20180125T000651,33Z  jsCd_mMBjksgoq1esPxd  \n",
       "52                                           95371276  BWggHmQB5cBXmMW1GmPl  "
      ]
     },
     "execution_count": 16,
     "metadata": {},
     "output_type": "execute_result"
    }
   ],
   "source": [
    "df.loc[47:52]"
   ]
  },
  {
   "cell_type": "markdown",
   "id": "2b35e362-9a87-4385-9664-64c8b8c072bb",
   "metadata": {},
   "source": [
    "Посмотрим ещё на 1308 запись: предыдущие записи похожи на обычные. Следующая запись содержит нечто, похожее на обход директорий (Path Traversal), но это совсем не SQL Injection"
   ]
  },
  {
   "cell_type": "code",
   "execution_count": 17,
   "id": "5f10aa68-3ef3-4878-a632-99efbd0b2ffc",
   "metadata": {},
   "outputs": [
    {
     "data": {
      "text/html": [
       "<div>\n",
       "<style scoped>\n",
       "    .dataframe tbody tr th:only-of-type {\n",
       "        vertical-align: middle;\n",
       "    }\n",
       "\n",
       "    .dataframe tbody tr th {\n",
       "        vertical-align: top;\n",
       "    }\n",
       "\n",
       "    .dataframe thead th {\n",
       "        text-align: right;\n",
       "    }\n",
       "</style>\n",
       "<table border=\"1\" class=\"dataframe\">\n",
       "  <thead>\n",
       "    <tr style=\"text-align: right;\">\n",
       "      <th></th>\n",
       "      <th>CLIENT_IP</th>\n",
       "      <th>CLIENT_USERAGENT</th>\n",
       "      <th>REQUEST_SIZE</th>\n",
       "      <th>RESPONSE_CODE</th>\n",
       "      <th>MATCHED_VARIABLE_SRC</th>\n",
       "      <th>MATCHED_VARIABLE_NAME</th>\n",
       "      <th>MATCHED_VARIABLE_VALUE</th>\n",
       "      <th>EVENT_ID</th>\n",
       "    </tr>\n",
       "  </thead>\n",
       "  <tbody>\n",
       "    <tr>\n",
       "      <th>1306</th>\n",
       "      <td>82.202.246.52</td>\n",
       "      <td>Mozilla/5.0 (Macintosh; Intel Mac OS X 10_9_5)...</td>\n",
       "      <td>1200</td>\n",
       "      <td>500</td>\n",
       "      <td>REQUEST_GET_ARGS</td>\n",
       "      <td>REQUEST_GET_ARGS.statusRid</td>\n",
       "      <td>3562445378</td>\n",
       "      <td>YFmYHGQB5cBXmMW1ifjM</td>\n",
       "    </tr>\n",
       "    <tr>\n",
       "      <th>1307</th>\n",
       "      <td>178.207.239.152</td>\n",
       "      <td>Mozilla/5.0 (Windows NT 6.1) AppleWebKit/537.3...</td>\n",
       "      <td>1494</td>\n",
       "      <td>404</td>\n",
       "      <td>REQUEST_GET_ARGS</td>\n",
       "      <td>REQUEST_GET_ARGS._</td>\n",
       "      <td>604793957</td>\n",
       "      <td>cKC9ImQB5cBXmMW1gctS</td>\n",
       "    </tr>\n",
       "    <tr>\n",
       "      <th>1308</th>\n",
       "      <td>~@.*\")ۅ</td>\n",
       "      <td>SQL Injection</td>\n",
       "      <td>AVdsla-3q1Ppo9zF_J7c</td>\n",
       "      <td>dd7ff149a6270e8037f6aa280b4ca1bd</td>\n",
       "      <td>NaN</td>\n",
       "      <td>NaN</td>\n",
       "      <td>NaN</td>\n",
       "      <td>NaN</td>\n",
       "    </tr>\n",
       "    <tr>\n",
       "      <th>1309</th>\n",
       "      <td>192.168.100.63</td>\n",
       "      <td>Mozilla/5.0 (Windows NT 6.1; WOW64) AppleWebKi...</td>\n",
       "      <td>567</td>\n",
       "      <td>500</td>\n",
       "      <td>REQUEST_URI</td>\n",
       "      <td>NaN</td>\n",
       "      <td>/rich//....//....//....//....//....//....//......</td>\n",
       "      <td>ku59A2QBjksgoq1eveUs</td>\n",
       "    </tr>\n",
       "    <tr>\n",
       "      <th>1310</th>\n",
       "      <td>188.165.234.52</td>\n",
       "      <td>Mozilla/5.0 (X11; U; Linux i586; en-US) AppleW...</td>\n",
       "      <td>318</td>\n",
       "      <td>302</td>\n",
       "      <td>REQUEST_GET_ARGS</td>\n",
       "      <td>ur</td>\n",
       "      <td>http://www.lgz.ru/article/11269/</td>\n",
       "      <td>AVdqm0Wfq1Ppo9zF-GrI</td>\n",
       "    </tr>\n",
       "  </tbody>\n",
       "</table>\n",
       "</div>"
      ],
      "text/plain": [
       "            CLIENT_IP                                   CLIENT_USERAGENT  \\\n",
       "1306    82.202.246.52  Mozilla/5.0 (Macintosh; Intel Mac OS X 10_9_5)...   \n",
       "1307  178.207.239.152  Mozilla/5.0 (Windows NT 6.1) AppleWebKit/537.3...   \n",
       "1308          ~@.*\")ۅ                                      SQL Injection   \n",
       "1309   192.168.100.63  Mozilla/5.0 (Windows NT 6.1; WOW64) AppleWebKi...   \n",
       "1310   188.165.234.52  Mozilla/5.0 (X11; U; Linux i586; en-US) AppleW...   \n",
       "\n",
       "              REQUEST_SIZE                     RESPONSE_CODE  \\\n",
       "1306                  1200                               500   \n",
       "1307                  1494                               404   \n",
       "1308  AVdsla-3q1Ppo9zF_J7c  dd7ff149a6270e8037f6aa280b4ca1bd   \n",
       "1309                   567                               500   \n",
       "1310                   318                               302   \n",
       "\n",
       "     MATCHED_VARIABLE_SRC       MATCHED_VARIABLE_NAME  \\\n",
       "1306     REQUEST_GET_ARGS  REQUEST_GET_ARGS.statusRid   \n",
       "1307     REQUEST_GET_ARGS          REQUEST_GET_ARGS._   \n",
       "1308                  NaN                         NaN   \n",
       "1309          REQUEST_URI                         NaN   \n",
       "1310     REQUEST_GET_ARGS                          ur   \n",
       "\n",
       "                                 MATCHED_VARIABLE_VALUE              EVENT_ID  \n",
       "1306                                         3562445378  YFmYHGQB5cBXmMW1ifjM  \n",
       "1307                                          604793957  cKC9ImQB5cBXmMW1gctS  \n",
       "1308                                                NaN                   NaN  \n",
       "1309  /rich//....//....//....//....//....//....//......  ku59A2QBjksgoq1eveUs  \n",
       "1310                   http://www.lgz.ru/article/11269/  AVdqm0Wfq1Ppo9zF-GrI  "
      ]
     },
     "execution_count": 17,
     "metadata": {},
     "output_type": "execute_result"
    }
   ],
   "source": [
    "df.loc[1306:1310]"
   ]
  },
  {
   "cell_type": "markdown",
   "id": "9d079f5f-6813-4da8-8243-e56f441c2311",
   "metadata": {},
   "source": [
    "Посмотрим - может быть, такие странные записи создаются для одного источника, следуют одна за другой, но разделены записями от других источников? Также начнём с 50 записи. Посмотрим, что в CLIENT_IP"
   ]
  },
  {
   "cell_type": "code",
   "execution_count": 18,
   "id": "bbf7dd01-9384-4012-9bf2-cfd542efe735",
   "metadata": {},
   "outputs": [
    {
     "data": {
      "text/plain": [
       "'> -gOxT\"O<Ghè\\x19e]Ø\\x1d\\x81È8\\xa0G\\x88\\x87`\\x08\\x07\\x83Qf¾\\x86ñ\\x1e\\x93}\\x7fy\\x1c\\x96ðù\\x88!T\\'|kó\\x07s\\x8c;©èE\\x1e \\x8dáÐìcqµѭцAÃ,\\x0e\\x08ÈÈëéO`>y¢¾\\x96Ô,®/ô=>;tó\\x1c-³\\x91¹Wå\\x10\\x11\\x9c¹QԊñ©´-NÝK½«àrJ\\x94|\\x0f\\\\#1¦3\\x8eÎjA^õ¡ÿ'"
      ]
     },
     "execution_count": 18,
     "metadata": {},
     "output_type": "execute_result"
    }
   ],
   "source": [
    "df.loc[50].CLIENT_IP"
   ]
  },
  {
   "cell_type": "markdown",
   "id": "af817b6d-9b02-4719-8e0f-f332cdb2a319",
   "metadata": {},
   "source": [
    "Видны какие-то \"кракозябры\", шестнадцатеричные значения. Вернём в байты. Понятнее не стало."
   ]
  },
  {
   "cell_type": "code",
   "execution_count": 19,
   "id": "1d1974ac-8df7-4272-8f00-41efcc0bd5d8",
   "metadata": {},
   "outputs": [
    {
     "data": {
      "text/plain": [
       "b'> -gOxT\"O<Gh\\xc3\\xa8\\x19e]\\xc3\\x98\\x1d\\xc2\\x81\\xc3\\x888\\xc2\\xa0G\\xc2\\x88\\xc2\\x87`\\x08\\x07\\xc2\\x83Qf\\xc2\\xbe\\xc2\\x86\\xc3\\xb1\\x1e\\xc2\\x93}\\x7fy\\x1c\\xc2\\x96\\xc3\\xb0\\xc3\\xb9\\xc2\\x88!T\\'|k\\xc3\\xb3\\x07s\\xc2\\x8c;\\xc2\\xa9\\xc3\\xa8E\\x1e \\xc2\\x8d\\xc3\\xa1\\xc3\\x90\\xc3\\xaccq\\xc2\\xb5\\xd1\\xad\\xd1\\x86A\\xc3\\x83,\\x0e\\x08\\xc3\\x88\\xc3\\x88\\xc3\\xab\\xc3\\xa9O`>y\\xc2\\xa2\\xc2\\xbe\\xc2\\x96\\xc3\\x94,\\xc2\\xae/\\xc3\\xb4=>;t\\xc3\\xb3\\x1c-\\xc2\\xb3\\xc2\\x91\\xc2\\xb9W\\xc3\\xa5\\x10\\x11\\xc2\\x9c\\xc2\\xb9Q\\xd4\\x8a\\xc3\\xb1\\xc2\\xa9\\xc2\\xb4-N\\xc3\\x9dK\\xc2\\xbd\\xc2\\xab\\xc3\\xa0rJ\\xc2\\x94|\\x0f\\\\#1\\xc2\\xa63\\xc2\\x8e\\xc3\\x8ejA^\\xc3\\xb5\\xc2\\xa1\\xc3\\xbf'"
      ]
     },
     "execution_count": 19,
     "metadata": {},
     "output_type": "execute_result"
    }
   ],
   "source": [
    "df.loc[50].CLIENT_IP.encode('utf-8')"
   ]
  },
  {
   "cell_type": "markdown",
   "id": "a860bd83-bca8-4676-90af-f320267d2cca",
   "metadata": {},
   "source": [
    "\"Нормальные\" коды ответов тоже распределены необычно - много формата 4хх. Возможно, получится использовать их в качестве одного из признаков."
   ]
  },
  {
   "cell_type": "code",
   "execution_count": 20,
   "id": "b189499f-603b-458d-a305-f7e2455c78f0",
   "metadata": {},
   "outputs": [
    {
     "data": {
      "text/plain": [
       "<AxesSubplot:>"
      ]
     },
     "execution_count": 20,
     "metadata": {},
     "output_type": "execute_result"
    },
    {
     "data": {
      "image/png": "[encoded data removed]",
      "text/plain": [
       "<Figure size 1500x400 with 1 Axes>"
      ]
     },
     "metadata": {},
     "output_type": "display_data"
    }
   ],
   "source": [
    "df[df.RESPONSE_CODE.str.len() < 4].RESPONSE_CODE.hist(bins=300, figsize=(15, 4))"
   ]
  },
  {
   "cell_type": "markdown",
   "id": "46962552-1014-460a-a02d-577a58b31d01",
   "metadata": {},
   "source": [
    "### Ненормальные IP-адреса"
   ]
  },
  {
   "cell_type": "markdown",
   "id": "0bbfc9e6-3ec8-46ba-b037-63dc97a6d82c",
   "metadata": {},
   "source": [
    "Посмотрим записи, в которых адреса клиентов не похожи по формату на обычные IPv4 или IPv6."
   ]
  },
  {
   "cell_type": "code",
   "execution_count": 21,
   "id": "dcba464f-8b2d-4023-b2a9-ffb9caf280e2",
   "metadata": {},
   "outputs": [
    {
     "data": {
      "text/plain": [
       "(115, 8)"
      ]
     },
     "execution_count": 21,
     "metadata": {},
     "output_type": "execute_result"
    }
   ],
   "source": [
    "df[~df.CLIENT_IP.str.contains('^(?:\\d{1,3}.){3}\\d{1,3}$|^(?:.{0,4}:){1,7}.{0,4}$', regex=True, na=False)].shape"
   ]
  },
  {
   "cell_type": "markdown",
   "id": "fd8f041c-a139-4d99-8df4-4edbdd5b871f",
   "metadata": {},
   "source": [
    "Из интересных вхождений появилось ещё \"Remote Code Execution\""
   ]
  },
  {
   "cell_type": "code",
   "execution_count": 22,
   "id": "33965d1d-1df9-44cf-a8f9-a81f58bf9988",
   "metadata": {},
   "outputs": [
    {
     "data": {
      "text/html": [
       "<div>\n",
       "<style scoped>\n",
       "    .dataframe tbody tr th:only-of-type {\n",
       "        vertical-align: middle;\n",
       "    }\n",
       "\n",
       "    .dataframe tbody tr th {\n",
       "        vertical-align: top;\n",
       "    }\n",
       "\n",
       "    .dataframe thead th {\n",
       "        text-align: right;\n",
       "    }\n",
       "</style>\n",
       "<table border=\"1\" class=\"dataframe\">\n",
       "  <thead>\n",
       "    <tr style=\"text-align: right;\">\n",
       "      <th></th>\n",
       "      <th>CLIENT_IP</th>\n",
       "      <th>CLIENT_USERAGENT</th>\n",
       "      <th>REQUEST_SIZE</th>\n",
       "      <th>RESPONSE_CODE</th>\n",
       "      <th>MATCHED_VARIABLE_SRC</th>\n",
       "      <th>MATCHED_VARIABLE_NAME</th>\n",
       "      <th>MATCHED_VARIABLE_VALUE</th>\n",
       "      <th>EVENT_ID</th>\n",
       "    </tr>\n",
       "  </thead>\n",
       "  <tbody>\n",
       "    <tr>\n",
       "      <th>50</th>\n",
       "      <td>&gt; -gOxT\"O&lt;Ghè\u0019e]Ø\u001d",
       "È8 G`\b\u0007Qf¾ñ\u001e",
       "}y\u001c",
       "ðù!T...</td>\n",
       "      <td>SQL Injection</td>\n",
       "      <td>AVdYz8-Wq1Ppo9zF0mzK</td>\n",
       "      <td>2f53b17df6da6bf9aeec27b0d87413c4</td>\n",
       "      <td>NaN</td>\n",
       "      <td>NaN</td>\n",
       "      <td>NaN</td>\n",
       "      <td>NaN</td>\n",
       "    </tr>\n",
       "    <tr>\n",
       "      <th>162</th>\n",
       "      <td>Remote Code Execution</td>\n",
       "      <td>AVdtgf8uq1Ppo9zF_hyd</td>\n",
       "      <td>4df2f46285c84ba39fa84fc4878214ae</td>\n",
       "      <td>NaN</td>\n",
       "      <td>NaN</td>\n",
       "      <td>NaN</td>\n",
       "      <td>NaN</td>\n",
       "      <td>NaN</td>\n",
       "    </tr>\n",
       "    <tr>\n",
       "      <th>1308</th>\n",
       "      <td>~@.*\")ۅ</td>\n",
       "      <td>SQL Injection</td>\n",
       "      <td>AVdsla-3q1Ppo9zF_J7c</td>\n",
       "      <td>dd7ff149a6270e8037f6aa280b4ca1bd</td>\n",
       "      <td>NaN</td>\n",
       "      <td>NaN</td>\n",
       "      <td>NaN</td>\n",
       "      <td>NaN</td>\n",
       "    </tr>\n",
       "    <tr>\n",
       "      <th>1894</th>\n",
       "      <td>Remote Code Execution</td>\n",
       "      <td>AVddr1QQq1Ppo9zF3Vuj</td>\n",
       "      <td>0b168993dda4ce786f3455d01e162a58</td>\n",
       "      <td>NaN</td>\n",
       "      <td>NaN</td>\n",
       "      <td>NaN</td>\n",
       "      <td>NaN</td>\n",
       "      <td>NaN</td>\n",
       "    </tr>\n",
       "    <tr>\n",
       "      <th>1922</th>\n",
       "      <td>Ä}jSL \u00060</td>\n",
       "      <td>NaN</td>\n",
       "      <td>NaN</td>\n",
       "      <td>NaN</td>\n",
       "      <td>NaN</td>\n",
       "      <td>NaN</td>\n",
       "      <td>NaN</td>\n",
       "      <td>NaN</td>\n",
       "    </tr>\n",
       "    <tr>\n",
       "      <th>1923</th>\n",
       "      <td>ր\bÿ</td>\n",
       "      <td>AVdo4TiJq1Ppo9zF9OU0</td>\n",
       "      <td>NaN</td>\n",
       "      <td>NaN</td>\n",
       "      <td>NaN</td>\n",
       "      <td>NaN</td>\n",
       "      <td>NaN</td>\n",
       "      <td>NaN</td>\n",
       "    </tr>\n",
       "    <tr>\n",
       "      <th>3231</th>\n",
       "      <td>M{5¯ۯ\u001aXµ\u000b",
       "\b#©نFî&gt;R\u0003·8çp\u000b",
       "QÌû¿¼G̓X¿</td>\n",
       "      <td>NaN</td>\n",
       "      <td>NaN</td>\n",
       "      <td>NaN</td>\n",
       "      <td>NaN</td>\n",
       "      <td>NaN</td>\n",
       "      <td>NaN</td>\n",
       "      <td>NaN</td>\n",
       "    </tr>\n",
       "    <tr>\n",
       "      <th>3344</th>\n",
       "      <td>Remote Code Execution</td>\n",
       "      <td>AVddRtA4q1Ppo9zF3E0u</td>\n",
       "      <td>f44ca434dfc32f17dff464956033f461</td>\n",
       "      <td>NaN</td>\n",
       "      <td>NaN</td>\n",
       "      <td>NaN</td>\n",
       "      <td>NaN</td>\n",
       "      <td>NaN</td>\n",
       "    </tr>\n",
       "    <tr>\n",
       "      <th>3671</th>\n",
       "      <td>¸#ØÓ</td>\n",
       "      <td>NaN</td>\n",
       "      <td>NaN</td>\n",
       "      <td>NaN</td>\n",
       "      <td>NaN</td>\n",
       "      <td>NaN</td>\n",
       "      <td>NaN</td>\n",
       "      <td>NaN</td>\n",
       "    </tr>\n",
       "    <tr>\n",
       "      <th>4144</th>\n",
       "      <td>f~|°ØÀ\u0001¶\f",
       "g8%ú·P:V­</td>\n",
       "      <td>NaN</td>\n",
       "      <td>NaN</td>\n",
       "      <td>NaN</td>\n",
       "      <td>NaN</td>\n",
       "      <td>NaN</td>\n",
       "      <td>NaN</td>\n",
       "      <td>NaN</td>\n",
       "    </tr>\n",
       "  </tbody>\n",
       "</table>\n",
       "</div>"
      ],
      "text/plain": [
       "                                              CLIENT_IP      CLIENT_USERAGENT  \\\n",
       "50    > -gOxT\"O<Ghè\u0019e]Ø\n",
       "È8 G`\b\u0007Qf¾ñ\n",
       "}y\n",
       "ðù!T...         SQL Injection   \n",
       "162                               Remote Code Execution  AVdtgf8uq1Ppo9zF_hyd   \n",
       "1308                                            ~@.*\")ۅ         SQL Injection   \n",
       "1894                              Remote Code Execution  AVddr1QQq1Ppo9zF3Vuj   \n",
       "1922                                          Ä}jSL \u00060                   NaN   \n",
       "1923                                                ր\bÿ  AVdo4TiJq1Ppo9zF9OU0   \n",
       "3231                 M{5¯ۯ\u001aXµ\n",
       "\b#©نFî>R\u0003·8çp\n",
       "QÌû¿¼G̓X¿                   NaN   \n",
       "3344                              Remote Code Execution  AVddRtA4q1Ppo9zF3E0u   \n",
       "3671                                            ¸#ØÓ                    NaN   \n",
       "4144                              f~|°ØÀ\u0001¶\n",
       "g8%ú·P:V­                   NaN   \n",
       "\n",
       "                          REQUEST_SIZE                     RESPONSE_CODE  \\\n",
       "50                AVdYz8-Wq1Ppo9zF0mzK  2f53b17df6da6bf9aeec27b0d87413c4   \n",
       "162   4df2f46285c84ba39fa84fc4878214ae                               NaN   \n",
       "1308              AVdsla-3q1Ppo9zF_J7c  dd7ff149a6270e8037f6aa280b4ca1bd   \n",
       "1894  0b168993dda4ce786f3455d01e162a58                               NaN   \n",
       "1922                               NaN                               NaN   \n",
       "1923                               NaN                               NaN   \n",
       "3231                               NaN                               NaN   \n",
       "3344  f44ca434dfc32f17dff464956033f461                               NaN   \n",
       "3671                               NaN                               NaN   \n",
       "4144                               NaN                               NaN   \n",
       "\n",
       "     MATCHED_VARIABLE_SRC MATCHED_VARIABLE_NAME MATCHED_VARIABLE_VALUE  \\\n",
       "50                    NaN                   NaN                    NaN   \n",
       "162                   NaN                   NaN                    NaN   \n",
       "1308                  NaN                   NaN                    NaN   \n",
       "1894                  NaN                   NaN                    NaN   \n",
       "1922                  NaN                   NaN                    NaN   \n",
       "1923                  NaN                   NaN                    NaN   \n",
       "3231                  NaN                   NaN                    NaN   \n",
       "3344                  NaN                   NaN                    NaN   \n",
       "3671                  NaN                   NaN                    NaN   \n",
       "4144                  NaN                   NaN                    NaN   \n",
       "\n",
       "     EVENT_ID  \n",
       "50        NaN  \n",
       "162       NaN  \n",
       "1308      NaN  \n",
       "1894      NaN  \n",
       "1922      NaN  \n",
       "1923      NaN  \n",
       "3231      NaN  \n",
       "3344      NaN  \n",
       "3671      NaN  \n",
       "4144      NaN  "
      ]
     },
     "execution_count": 22,
     "metadata": {},
     "output_type": "execute_result"
    }
   ],
   "source": [
    "df[~df.CLIENT_IP.str.contains('^(?:\\d{1,3}.){3}\\d{1,3}$|^(?:.{0,4}:){1,7}.{0,4}$', regex=True, na=False)].head(10)"
   ]
  },
  {
   "cell_type": "code",
   "execution_count": 23,
   "id": "a64fe30e-29ec-403f-999d-670709c707c0",
   "metadata": {},
   "outputs": [
    {
     "data": {
      "text/plain": [
       "SQL Injection           35\n",
       "Cross-Site Scripting     5\n",
       "AVddXYBdq1Ppo9zF3IC6     1\n",
       "AVdYVoMnq1Ppo9zF0VU9     1\n",
       "AVdmgW85q1Ppo9zF8Gk4     1\n",
       "Name: CLIENT_USERAGENT, dtype: int64"
      ]
     },
     "execution_count": 23,
     "metadata": {},
     "output_type": "execute_result"
    }
   ],
   "source": [
    "df[~df.CLIENT_IP.str.contains('^(?:\\d{1,3}.){3}\\d{1,3}$|^(?:.{0,4}:){1,7}.{0,4}$', regex=True, na=False)].CLIENT_USERAGENT.value_counts().head(5)"
   ]
  },
  {
   "cell_type": "code",
   "execution_count": 24,
   "id": "6aa91f8a-7b57-4945-a982-54560627b325",
   "metadata": {},
   "outputs": [
    {
     "data": {
      "text/plain": [
       "Remote Code Execution    19\n",
       "f~|°ØÀ\u0001¶\n",
       "g8%ú·P:V­     5\n",
       "SQL Injection             4\n",
       "¢×˾û8äyª\u0007û¬A\u0019ü           2\n",
       "¿b_                      2\n",
       "Name: CLIENT_IP, dtype: int64"
      ]
     },
     "execution_count": 24,
     "metadata": {},
     "output_type": "execute_result"
    }
   ],
   "source": [
    "df[~df.CLIENT_IP.str.contains('^(?:\\d{1,3}.){3}\\d{1,3}$|^(?:.{0,4}:){1,7}.{0,4}$', regex=True, na=False)].CLIENT_IP.value_counts().head(5)"
   ]
  },
  {
   "cell_type": "markdown",
   "id": "bec88dbe-73e0-4caf-aeb1-28bb6a8932bb",
   "metadata": {},
   "source": [
    "Видно, что в данных \"неправильного\" формата упоминаются SQL Injection, Cross-Site Scripting, Remote Code Execution. Предположительно, это логи какой-то IDS, но пока непонятно, к каким записям они относятся, и как с этими записями их связать."
   ]
  },
  {
   "cell_type": "markdown",
   "id": "f9841be9-62da-4198-88dd-0dc1a3eb01df",
   "metadata": {},
   "source": [
    "### Поле USERAGENT"
   ]
  },
  {
   "cell_type": "markdown",
   "id": "46626d03-5641-4818-ace4-86e9290db12e",
   "metadata": {},
   "source": [
    "Представиться можно любым узлом, поэтому маловероятно, что это поле будет признаком для поиска \"настоящих\" уязвимостей. Тем не менее, интересные штуки - например, для разметки и обучения - отсюда можно достать. Так, например, useragent OpenVAS (заметил при поиске XSS ниже) может быть условием для разметки записи как вредоносной. Понятно, что нормальный злоумышленник представляться OpenVAS'ом не будет (хотя почему бы и нет), но так мы хотя бы наберём больше данных."
   ]
  },
  {
   "cell_type": "code",
   "execution_count": 25,
   "id": "9152d49e-3c90-48fa-873f-22c88a7a0d12",
   "metadata": {},
   "outputs": [
    {
     "data": {
      "text/html": [
       "<div>\n",
       "<style scoped>\n",
       "    .dataframe tbody tr th:only-of-type {\n",
       "        vertical-align: middle;\n",
       "    }\n",
       "\n",
       "    .dataframe tbody tr th {\n",
       "        vertical-align: top;\n",
       "    }\n",
       "\n",
       "    .dataframe thead th {\n",
       "        text-align: right;\n",
       "    }\n",
       "</style>\n",
       "<table border=\"1\" class=\"dataframe\">\n",
       "  <thead>\n",
       "    <tr style=\"text-align: right;\">\n",
       "      <th></th>\n",
       "      <th>CLIENT_IP</th>\n",
       "      <th>CLIENT_USERAGENT</th>\n",
       "      <th>REQUEST_SIZE</th>\n",
       "      <th>RESPONSE_CODE</th>\n",
       "      <th>MATCHED_VARIABLE_SRC</th>\n",
       "      <th>MATCHED_VARIABLE_NAME</th>\n",
       "      <th>MATCHED_VARIABLE_VALUE</th>\n",
       "      <th>EVENT_ID</th>\n",
       "    </tr>\n",
       "  </thead>\n",
       "  <tbody>\n",
       "    <tr>\n",
       "      <th>0</th>\n",
       "      <td>188.138.92.55</td>\n",
       "      <td>NaN</td>\n",
       "      <td>166</td>\n",
       "      <td>404</td>\n",
       "      <td>REQUEST_URI</td>\n",
       "      <td>NaN</td>\n",
       "      <td>//tmp/20160925122692indo.php.vob</td>\n",
       "      <td>AVdhXFgVq1Ppo9zF5Fxu</td>\n",
       "    </tr>\n",
       "    <tr>\n",
       "      <th>1</th>\n",
       "      <td>93.158.215.131</td>\n",
       "      <td>Mozilla/5.0 (Windows NT 6.3; WOW64; rv:45.0) G...</td>\n",
       "      <td>431</td>\n",
       "      <td>302</td>\n",
       "      <td>REQUEST_GET_ARGS</td>\n",
       "      <td>url</td>\n",
       "      <td>http://www.galitsios.gr/?option=com_k2</td>\n",
       "      <td>AVdcJmIIq1Ppo9zF2YIp</td>\n",
       "    </tr>\n",
       "    <tr>\n",
       "      <th>2</th>\n",
       "      <td>176.123.240.64</td>\n",
       "      <td>Mozilla/5.0 (Windows NT 6.0; rv:34.0) Gecko/20...</td>\n",
       "      <td>395</td>\n",
       "      <td>403</td>\n",
       "      <td>REQUEST_PATH</td>\n",
       "      <td>NaN</td>\n",
       "      <td>/opinion/page1_3.php\\\" and \\\"\\\"x\\\"\\\"=\\\"\\\"x\\\"</td>\n",
       "      <td>iz7SN2YBrgKk_RFNZW_U</td>\n",
       "    </tr>\n",
       "    <tr>\n",
       "      <th>3</th>\n",
       "      <td>73.78.81.63</td>\n",
       "      <td>Mozilla/5.0 (Windows NT 6.3; WOW64; rv:45.0) G...</td>\n",
       "      <td>387</td>\n",
       "      <td>302</td>\n",
       "      <td>REQUEST_GET_ARGS</td>\n",
       "      <td>url</td>\n",
       "      <td>http://thereviewgroup.org/boss-capital/</td>\n",
       "      <td>AVdjekw4q1Ppo9zF6QT2</td>\n",
       "    </tr>\n",
       "    <tr>\n",
       "      <th>4</th>\n",
       "      <td>66.102.9.44</td>\n",
       "      <td>Mozilla/5.0 (Linux; Android 4.4.2; GT-N7100 Bu...</td>\n",
       "      <td>1733</td>\n",
       "      <td>404</td>\n",
       "      <td>REQUEST_GET_ARGS</td>\n",
       "      <td>REQUEST_GET_ARGS._</td>\n",
       "      <td>1516288084140</td>\n",
       "      <td>SqQGI2QB5cBXmMW1CDbp</td>\n",
       "    </tr>\n",
       "  </tbody>\n",
       "</table>\n",
       "</div>"
      ],
      "text/plain": [
       "        CLIENT_IP                                   CLIENT_USERAGENT  \\\n",
       "0   188.138.92.55                                                NaN   \n",
       "1  93.158.215.131  Mozilla/5.0 (Windows NT 6.3; WOW64; rv:45.0) G...   \n",
       "2  176.123.240.64  Mozilla/5.0 (Windows NT 6.0; rv:34.0) Gecko/20...   \n",
       "3     73.78.81.63  Mozilla/5.0 (Windows NT 6.3; WOW64; rv:45.0) G...   \n",
       "4     66.102.9.44  Mozilla/5.0 (Linux; Android 4.4.2; GT-N7100 Bu...   \n",
       "\n",
       "  REQUEST_SIZE RESPONSE_CODE MATCHED_VARIABLE_SRC MATCHED_VARIABLE_NAME  \\\n",
       "0          166           404          REQUEST_URI                   NaN   \n",
       "1          431           302     REQUEST_GET_ARGS                   url   \n",
       "2          395           403         REQUEST_PATH                   NaN   \n",
       "3          387           302     REQUEST_GET_ARGS                   url   \n",
       "4         1733           404     REQUEST_GET_ARGS    REQUEST_GET_ARGS._   \n",
       "\n",
       "                         MATCHED_VARIABLE_VALUE              EVENT_ID  \n",
       "0              //tmp/20160925122692indo.php.vob  AVdhXFgVq1Ppo9zF5Fxu  \n",
       "1        http://www.galitsios.gr/?option=com_k2  AVdcJmIIq1Ppo9zF2YIp  \n",
       "2  /opinion/page1_3.php\\\" and \\\"\\\"x\\\"\\\"=\\\"\\\"x\\\"  iz7SN2YBrgKk_RFNZW_U  \n",
       "3       http://thereviewgroup.org/boss-capital/  AVdjekw4q1Ppo9zF6QT2  \n",
       "4                                 1516288084140  SqQGI2QB5cBXmMW1CDbp  "
      ]
     },
     "execution_count": 25,
     "metadata": {},
     "output_type": "execute_result"
    }
   ],
   "source": [
    "df.head()"
   ]
  },
  {
   "cell_type": "code",
   "execution_count": 26,
   "id": "505bc4fd-fea8-4a6c-8e19-3dc15364957a",
   "metadata": {},
   "outputs": [
    {
     "data": {
      "text/plain": [
       "Mozilla/5.0 (Windows NT 6.1; WOW64; Trident/7.0; rv:11.0) like Gecko                                                   2117\n",
       "Mozilla/5.0 (Windows NT 6.1; Win64; x64) AppleWebKit/537.36 (KHTML, like Gecko) Chrome/63.0.3239.132 Safari/537.36     1806\n",
       "Mozilla/5.0 (compatible; AhrefsBot/5.2; +http://ahrefs.com/robot/)                                                     1805\n",
       "Mozilla/5.0 (Windows NT 10.0; Win64; x64) AppleWebKit/537.36 (KHTML, like Gecko) Chrome/63.0.3239.132 Safari/537.36    1677\n",
       "Google Update/1.3.33.7;winhttp;cup-ecdsa                                                                               1537\n",
       "Mozilla/5.0 (Windows NT 6.1; WOW64) AppleWebKit/537.11 (KHTML, like Gecko) Chrome/23.0.1271.64 Safari/537.11           1304\n",
       "MICROSOFT_DEVICE_METADATA_RETRIEVAL_CLIENT                                                                             1225\n",
       "Mozilla/5.0 (compatible; YandexBot/3.0; +http://yandex.com/bots)                                                       1006\n",
       "Mozilla/5.0 (compatible; MSIE 9.0; Windows NT 6.1; WOW64; Trident/5.0)                                                  995\n",
       "Mozilla/5.0 (compatible; SputnikBot/2.3; +http://corp.sputnik.ru/webmaster)                                             927\n",
       "Name: CLIENT_USERAGENT, dtype: int64"
      ]
     },
     "execution_count": 26,
     "metadata": {},
     "output_type": "execute_result"
    }
   ],
   "source": [
    "df.CLIENT_USERAGENT.value_counts().head(10)"
   ]
  },
  {
   "cell_type": "markdown",
   "id": "083bd4af-cbdc-4228-bcc0-8ffbe7d8d7a7",
   "metadata": {},
   "source": [
    "### Запросы от OpenVAS"
   ]
  },
  {
   "cell_type": "markdown",
   "id": "a2d59ed5-9811-44c0-a1f7-f225530c2817",
   "metadata": {},
   "source": [
    "Посмотрим запросы от OpenVAS (вероятно, вредоносные) и посмотрим, что оттуда можно вытянуть. Сходу видны Path Traversal (../ или ..%2f)"
   ]
  },
  {
   "cell_type": "code",
   "execution_count": 27,
   "id": "a0dcbeab-9159-4070-b062-5fb7a4ac92dc",
   "metadata": {},
   "outputs": [
    {
     "data": {
      "text/plain": [
       "(464,)"
      ]
     },
     "execution_count": 27,
     "metadata": {},
     "output_type": "execute_result"
    }
   ],
   "source": [
    "df[df.CLIENT_USERAGENT.str.contains('OpenVAS', na=False)].MATCHED_VARIABLE_VALUE.shape"
   ]
  },
  {
   "cell_type": "code",
   "execution_count": 28,
   "id": "ab9930cc-d37d-47e9-a729-a13e376df7c2",
   "metadata": {},
   "outputs": [
    {
     "data": {
      "text/plain": [
       "136    /otcdealsin/shopper.cgi?newpage=../../../../.....\n",
       "144    /openmairie_Tel/scr/soustab.php?dsn[phptype]=....\n",
       "347    /otcdeals/Scripts/ref/noty/charts.php?language...\n",
       "388    /metalexp/frontend/js.php?module=../../../../....\n",
       "480    /otcdeals/Scripts/ref/noty/cart.php?a=test&tem...\n",
       "Name: MATCHED_VARIABLE_VALUE, dtype: object"
      ]
     },
     "execution_count": 28,
     "metadata": {},
     "output_type": "execute_result"
    }
   ],
   "source": [
    "df[df.CLIENT_USERAGENT.str.contains('OpenVAS', na=False)].MATCHED_VARIABLE_VALUE.head(5)"
   ]
  },
  {
   "cell_type": "markdown",
   "id": "5b06ce91-193f-4e05-ae86-db10526546f8",
   "metadata": {},
   "source": [
    "Посмотрим, в какой части из них есть Path Traversal - оказалось, 446 строк из 480 от OpenVAS"
   ]
  },
  {
   "cell_type": "code",
   "execution_count": 29,
   "id": "08070016-ad4c-477e-8e55-6349731ef9ba",
   "metadata": {},
   "outputs": [
    {
     "data": {
      "text/plain": [
       "(357, 8)"
      ]
     },
     "execution_count": 29,
     "metadata": {},
     "output_type": "execute_result"
    }
   ],
   "source": [
    "df[(df.CLIENT_USERAGENT.str.contains('OpenVAS', na=False)) & (df.MATCHED_VARIABLE_VALUE.str.contains('\\.\\./', na=False))].shape"
   ]
  },
  {
   "cell_type": "markdown",
   "id": "47261976-be78-481f-a7e7-111186b0665c",
   "metadata": {},
   "source": [
    "А в тех, которые от OpenVAS, но без явного PathTraversal: видны вызовы команд (grn.exe, ipconfig), SQL Injection (/d=/d), XSS ('\\<script>alert()\\</script>')"
   ]
  },
  {
   "cell_type": "code",
   "execution_count": 30,
   "id": "0d0dadf6-625d-48a4-83b5-8b222f9a2b57",
   "metadata": {},
   "outputs": [
    {
     "data": {
      "text/plain": [
       "794                          /vbulletin/forum/content.php\n",
       "1353    /buce/language/en/text.php/<script>alert(\\'ope...\n",
       "3050                                  /webmail/nameko.php\n",
       "3529                                      /scripts/mw.exe\n",
       "4366                                   /dolphin/index.php\n",
       "4471                                         /SQLQHit.asp\n",
       "4500                                                 ;id|\n",
       "5049                                  /cgi-bin/.hg/branch\n",
       "5543                           /_maincfgret.cgi_881227107\n",
       "6008                                         /cbdb/db.exe\n",
       "7621                                         /grn/grn.exe\n",
       "7659         /error/pls/portal/PORTAL_DEMO.ORG_CHART.SHOW\n",
       "7819                                           /mt/mt.cgi\n",
       "8208                                  /cgi-shop/view_item\n",
       "8275                                     file:///boot.ini\n",
       "8449                              /metal/.git/description\n",
       "8709                       /rips-scanner-master/index.php\n",
       "8947                                  /kos2/changelog.txt\n",
       "9109                                  /Zeuscart/index.php\n",
       "9785                      <script>alert(\\'foo\\')</script>\n",
       "Name: MATCHED_VARIABLE_VALUE, dtype: object"
      ]
     },
     "execution_count": 30,
     "metadata": {},
     "output_type": "execute_result"
    }
   ],
   "source": [
    "df[(df.CLIENT_USERAGENT.str.contains('OpenVAS', na=False)) & ~(df.MATCHED_VARIABLE_VALUE.str.contains('\\.\\./', na=False))].MATCHED_VARIABLE_VALUE.head(20)"
   ]
  },
  {
   "cell_type": "markdown",
   "id": "64f15bd3-8f6e-4465-8c50-418ccf40f42a",
   "metadata": {},
   "source": [
    "Например, удалённый запуск EXE-файлов:"
   ]
  },
  {
   "cell_type": "code",
   "execution_count": 31,
   "id": "c1e3ed61-2aae-46a4-acea-792ee0b39388",
   "metadata": {},
   "outputs": [
    {
     "data": {
      "text/plain": [
       "3529     /scripts/mw.exe\n",
       "6008        /cbdb/db.exe\n",
       "7621        /grn/grn.exe\n",
       "18945           /grn.exe\n",
       "Name: MATCHED_VARIABLE_VALUE, dtype: object"
      ]
     },
     "execution_count": 31,
     "metadata": {},
     "output_type": "execute_result"
    }
   ],
   "source": [
    "df[(df.CLIENT_USERAGENT.str.contains('OpenVAS', na=False)) & (df.MATCHED_VARIABLE_VALUE.str.contains('\\.exe', na=False))].MATCHED_VARIABLE_VALUE"
   ]
  },
  {
   "cell_type": "markdown",
   "id": "76db6698-0a88-4b17-ac70-163869ac17cf",
   "metadata": {},
   "source": [
    "А если нет ни PathTraversal, ни удалённого запуска команд, то видим, например, XSS"
   ]
  },
  {
   "cell_type": "code",
   "execution_count": 32,
   "id": "f641b0f1-0219-44f0-ab32-6fe0b3b8d9b7",
   "metadata": {},
   "outputs": [
    {
     "data": {
      "text/plain": [
       "794                           /vbulletin/forum/content.php\n",
       "1353     /buce/language/en/text.php/<script>alert(\\'ope...\n",
       "3050                                   /webmail/nameko.php\n",
       "4366                                    /dolphin/index.php\n",
       "4471                                          /SQLQHit.asp\n",
       "                               ...                        \n",
       "54696                                     /error/bible.php\n",
       "56988                                /gnat/admin/index.php\n",
       "57130                       /admin/helpfiles/AdminHelp.php\n",
       "57136            /nubuilder/productionnu2/fileuploader.php\n",
       "57667                                /nodatabase/index.php\n",
       "Name: MATCHED_VARIABLE_VALUE, Length: 103, dtype: object"
      ]
     },
     "execution_count": 32,
     "metadata": {},
     "output_type": "execute_result"
    }
   ],
   "source": [
    "df[\n",
    "    (df.CLIENT_USERAGENT.str.contains('OpenVAS', na=False)) &\n",
    "   ~(df.MATCHED_VARIABLE_VALUE.str.contains('\\.exe', na=False)) &\n",
    "   ~(df.MATCHED_VARIABLE_VALUE.str.contains('\\.\\./', na=False))\n",
    "].MATCHED_VARIABLE_VALUE"
   ]
  },
  {
   "cell_type": "markdown",
   "id": "a452cd33-24ab-4f87-bbec-e6ab54ca6159",
   "metadata": {},
   "source": [
    "Добъём запросы от OpenVAS и уберём ещё и XSS:"
   ]
  },
  {
   "cell_type": "code",
   "execution_count": 33,
   "id": "3a45e439-b607-4368-b335-f75b408fe222",
   "metadata": {},
   "outputs": [
    {
     "data": {
      "text/plain": [
       "26794                             /buce/.bzr/branch-format\n",
       "52525                                      /dtlt/home.html\n",
       "57130                       /admin/helpfiles/AdminHelp.php\n",
       "15779                                     /error/login.php\n",
       "17573         /otcdeals/Scripts/ref/tipsy/.svn/all-wcprops\n",
       "29308    /otcdeals/Scripts/ref/tipsy/www/loader.php/sys...\n",
       "22169                         /cms/index.php/teachers.html\n",
       "13659                      /contao/index.php/teachers.html\n",
       "24821                                            /wws/home\n",
       "16477                 /cms/usr/extensions/get_tree.inc.php\n",
       "40742                                /eds/.git/description\n",
       "56988                                /gnat/admin/index.php\n",
       "8449                               /metal/.git/description\n",
       "35998                                    /eds/.svn/entries\n",
       "50716                                   /buce/.hg/requires\n",
       "7659          /error/pls/portal/PORTAL_DEMO.ORG_CHART.SHOW\n",
       "4366                                    /dolphin/index.php\n",
       "46636    /LO/www/loader.php/system/\\\"><iMg src=N onerro...\n",
       "40133                                      /agri/.git/HEAD\n",
       "21103                                           ;ipconfig|\n",
       "Name: MATCHED_VARIABLE_VALUE, dtype: object"
      ]
     },
     "execution_count": 33,
     "metadata": {},
     "output_type": "execute_result"
    }
   ],
   "source": [
    "df[\n",
    "    (df.CLIENT_USERAGENT.str.contains('OpenVAS', na=False)) &\n",
    "   ~(df.MATCHED_VARIABLE_VALUE.str.contains('\\.exe', na=False)) &\n",
    "   ~(df.MATCHED_VARIABLE_VALUE.str.contains('\\.\\./', na=False)) &\n",
    "    ~(df.MATCHED_VARIABLE_VALUE.str.contains('<script>', na=False))\n",
    "].MATCHED_VARIABLE_VALUE.sample(20)"
   ]
  },
  {
   "cell_type": "markdown",
   "id": "797b7e9d-8dc5-4a08-9aa2-6cf00cdb9bc6",
   "metadata": {},
   "source": [
    "Также можно обратить внимание на код ответа - его распределение для (вероятно) вредоносных запросов сильно отличается от распределения для всего трафика."
   ]
  },
  {
   "cell_type": "code",
   "execution_count": 34,
   "id": "315bc701-e5af-4e80-92c4-52c5d8017ebb",
   "metadata": {},
   "outputs": [
    {
     "data": {
      "text/plain": [
       "404    409\n",
       "403     34\n",
       "400      9\n",
       "302      8\n",
       "200      3\n",
       "504      1\n",
       "Name: RESPONSE_CODE, dtype: int64"
      ]
     },
     "execution_count": 34,
     "metadata": {},
     "output_type": "execute_result"
    }
   ],
   "source": [
    "df[df.CLIENT_USERAGENT.str.contains('OpenVAS', na=False)].RESPONSE_CODE.value_counts()"
   ]
  },
  {
   "cell_type": "markdown",
   "id": "1e0258fc-fa8f-4edc-8f14-4156f11c9669",
   "metadata": {},
   "source": [
    "Ниже разметим данные от OpenVAS (и не только), чтобы получить что-нибудь для тестирования"
   ]
  },
  {
   "cell_type": "markdown",
   "id": "fd75d812-c4e5-4c16-b0c4-55558bde18f0",
   "metadata": {},
   "source": [
    "## Поиск вредоносных примеров (разметка)"
   ]
  },
  {
   "cell_type": "markdown",
   "id": "f48c355e-1646-4c37-b55d-47b9e72f1c15",
   "metadata": {},
   "source": [
    "Раз разметки найти не удалось, надо сделать её самостоятельно. Можно, конечно, пробовать кластеризацию, но в итоге всё равно нужно будет как-то измерять качество. А если делать это без разметки, то кластера могут получиться хорошо разделимые, но не нести никакой информации о вредоносности запроса..."
   ]
  },
  {
   "cell_type": "markdown",
   "id": "3cf392db-c292-4f93-88af-a708c6fbc8c0",
   "metadata": {},
   "source": [
    "Для каждого типа атаки будем создавать собственное поле, в котором False будет означать его отсутствие, а True - наличие. Использовать одно поле для всех неудобно, т.к. атаки могут пересекаться - например, сначала обход директорий, а потом запуск "
   ]
  },
  {
   "cell_type": "code",
   "execution_count": 35,
   "id": "dc201803-807c-4a16-b4f8-b7dc3097ef7b",
   "metadata": {},
   "outputs": [],
   "source": [
    "df['VULN'] = 0"
   ]
  },
  {
   "cell_type": "code",
   "execution_count": 36,
   "id": "32b65172-013e-44e0-ba0f-d98c4fef50e5",
   "metadata": {},
   "outputs": [
    {
     "data": {
      "text/html": [
       "<div>\n",
       "<style scoped>\n",
       "    .dataframe tbody tr th:only-of-type {\n",
       "        vertical-align: middle;\n",
       "    }\n",
       "\n",
       "    .dataframe tbody tr th {\n",
       "        vertical-align: top;\n",
       "    }\n",
       "\n",
       "    .dataframe thead th {\n",
       "        text-align: right;\n",
       "    }\n",
       "</style>\n",
       "<table border=\"1\" class=\"dataframe\">\n",
       "  <thead>\n",
       "    <tr style=\"text-align: right;\">\n",
       "      <th></th>\n",
       "      <th>CLIENT_IP</th>\n",
       "      <th>CLIENT_USERAGENT</th>\n",
       "      <th>REQUEST_SIZE</th>\n",
       "      <th>RESPONSE_CODE</th>\n",
       "      <th>MATCHED_VARIABLE_SRC</th>\n",
       "      <th>MATCHED_VARIABLE_NAME</th>\n",
       "      <th>MATCHED_VARIABLE_VALUE</th>\n",
       "      <th>EVENT_ID</th>\n",
       "      <th>VULN</th>\n",
       "    </tr>\n",
       "  </thead>\n",
       "  <tbody>\n",
       "    <tr>\n",
       "      <th>0</th>\n",
       "      <td>188.138.92.55</td>\n",
       "      <td>NaN</td>\n",
       "      <td>166</td>\n",
       "      <td>404</td>\n",
       "      <td>REQUEST_URI</td>\n",
       "      <td>NaN</td>\n",
       "      <td>//tmp/20160925122692indo.php.vob</td>\n",
       "      <td>AVdhXFgVq1Ppo9zF5Fxu</td>\n",
       "      <td>0</td>\n",
       "    </tr>\n",
       "    <tr>\n",
       "      <th>1</th>\n",
       "      <td>93.158.215.131</td>\n",
       "      <td>Mozilla/5.0 (Windows NT 6.3; WOW64; rv:45.0) G...</td>\n",
       "      <td>431</td>\n",
       "      <td>302</td>\n",
       "      <td>REQUEST_GET_ARGS</td>\n",
       "      <td>url</td>\n",
       "      <td>http://www.galitsios.gr/?option=com_k2</td>\n",
       "      <td>AVdcJmIIq1Ppo9zF2YIp</td>\n",
       "      <td>0</td>\n",
       "    </tr>\n",
       "    <tr>\n",
       "      <th>2</th>\n",
       "      <td>176.123.240.64</td>\n",
       "      <td>Mozilla/5.0 (Windows NT 6.0; rv:34.0) Gecko/20...</td>\n",
       "      <td>395</td>\n",
       "      <td>403</td>\n",
       "      <td>REQUEST_PATH</td>\n",
       "      <td>NaN</td>\n",
       "      <td>/opinion/page1_3.php\\\" and \\\"\\\"x\\\"\\\"=\\\"\\\"x\\\"</td>\n",
       "      <td>iz7SN2YBrgKk_RFNZW_U</td>\n",
       "      <td>0</td>\n",
       "    </tr>\n",
       "    <tr>\n",
       "      <th>3</th>\n",
       "      <td>73.78.81.63</td>\n",
       "      <td>Mozilla/5.0 (Windows NT 6.3; WOW64; rv:45.0) G...</td>\n",
       "      <td>387</td>\n",
       "      <td>302</td>\n",
       "      <td>REQUEST_GET_ARGS</td>\n",
       "      <td>url</td>\n",
       "      <td>http://thereviewgroup.org/boss-capital/</td>\n",
       "      <td>AVdjekw4q1Ppo9zF6QT2</td>\n",
       "      <td>0</td>\n",
       "    </tr>\n",
       "    <tr>\n",
       "      <th>4</th>\n",
       "      <td>66.102.9.44</td>\n",
       "      <td>Mozilla/5.0 (Linux; Android 4.4.2; GT-N7100 Bu...</td>\n",
       "      <td>1733</td>\n",
       "      <td>404</td>\n",
       "      <td>REQUEST_GET_ARGS</td>\n",
       "      <td>REQUEST_GET_ARGS._</td>\n",
       "      <td>1516288084140</td>\n",
       "      <td>SqQGI2QB5cBXmMW1CDbp</td>\n",
       "      <td>0</td>\n",
       "    </tr>\n",
       "  </tbody>\n",
       "</table>\n",
       "</div>"
      ],
      "text/plain": [
       "        CLIENT_IP                                   CLIENT_USERAGENT  \\\n",
       "0   188.138.92.55                                                NaN   \n",
       "1  93.158.215.131  Mozilla/5.0 (Windows NT 6.3; WOW64; rv:45.0) G...   \n",
       "2  176.123.240.64  Mozilla/5.0 (Windows NT 6.0; rv:34.0) Gecko/20...   \n",
       "3     73.78.81.63  Mozilla/5.0 (Windows NT 6.3; WOW64; rv:45.0) G...   \n",
       "4     66.102.9.44  Mozilla/5.0 (Linux; Android 4.4.2; GT-N7100 Bu...   \n",
       "\n",
       "  REQUEST_SIZE RESPONSE_CODE MATCHED_VARIABLE_SRC MATCHED_VARIABLE_NAME  \\\n",
       "0          166           404          REQUEST_URI                   NaN   \n",
       "1          431           302     REQUEST_GET_ARGS                   url   \n",
       "2          395           403         REQUEST_PATH                   NaN   \n",
       "3          387           302     REQUEST_GET_ARGS                   url   \n",
       "4         1733           404     REQUEST_GET_ARGS    REQUEST_GET_ARGS._   \n",
       "\n",
       "                         MATCHED_VARIABLE_VALUE              EVENT_ID  VULN  \n",
       "0              //tmp/20160925122692indo.php.vob  AVdhXFgVq1Ppo9zF5Fxu     0  \n",
       "1        http://www.galitsios.gr/?option=com_k2  AVdcJmIIq1Ppo9zF2YIp     0  \n",
       "2  /opinion/page1_3.php\\\" and \\\"\\\"x\\\"\\\"=\\\"\\\"x\\\"  iz7SN2YBrgKk_RFNZW_U     0  \n",
       "3       http://thereviewgroup.org/boss-capital/  AVdjekw4q1Ppo9zF6QT2     0  \n",
       "4                                 1516288084140  SqQGI2QB5cBXmMW1CDbp     0  "
      ]
     },
     "execution_count": 36,
     "metadata": {},
     "output_type": "execute_result"
    }
   ],
   "source": [
    "df.head()"
   ]
  },
  {
   "cell_type": "markdown",
   "id": "b5aed7ea-0651-4bd4-a346-c0119c75baeb",
   "metadata": {},
   "source": [
    "### Path Traversal"
   ]
  },
  {
   "cell_type": "markdown",
   "id": "57e9ad7c-bf06-410f-a3ed-9ccf023c527c",
   "metadata": {},
   "source": [
    "Начнём с того, что уже видели - обход директорий"
   ]
  },
  {
   "cell_type": "code",
   "execution_count": 37,
   "id": "d4be7d18-8bb5-4960-9526-572b9ed66841",
   "metadata": {},
   "outputs": [
    {
     "data": {
      "text/plain": [
       "(1458, 9)"
      ]
     },
     "execution_count": 37,
     "metadata": {},
     "output_type": "execute_result"
    }
   ],
   "source": [
    "df[df.MATCHED_VARIABLE_VALUE.str.contains('\\.\\./', na=False)].shape"
   ]
  },
  {
   "cell_type": "markdown",
   "id": "9bc2afb3-7fda-409e-a27a-12442e80dcb0",
   "metadata": {},
   "source": [
    "Подпишем все такие запросы как вредоносные с соответствующим типом"
   ]
  },
  {
   "cell_type": "code",
   "execution_count": 38,
   "id": "caca0063-c597-45b3-8507-ba1e1b123fdf",
   "metadata": {},
   "outputs": [],
   "source": [
    "df.loc[df.MATCHED_VARIABLE_VALUE.str.contains('\\.\\./', na=False), 'VULN'] = 'Path_Traversal'"
   ]
  },
  {
   "cell_type": "code",
   "execution_count": 39,
   "id": "148196f2-aa2a-4f15-a523-a2efe001ef02",
   "metadata": {},
   "outputs": [
    {
     "data": {
      "text/html": [
       "<div>\n",
       "<style scoped>\n",
       "    .dataframe tbody tr th:only-of-type {\n",
       "        vertical-align: middle;\n",
       "    }\n",
       "\n",
       "    .dataframe tbody tr th {\n",
       "        vertical-align: top;\n",
       "    }\n",
       "\n",
       "    .dataframe thead th {\n",
       "        text-align: right;\n",
       "    }\n",
       "</style>\n",
       "<table border=\"1\" class=\"dataframe\">\n",
       "  <thead>\n",
       "    <tr style=\"text-align: right;\">\n",
       "      <th></th>\n",
       "      <th>CLIENT_IP</th>\n",
       "      <th>CLIENT_USERAGENT</th>\n",
       "      <th>REQUEST_SIZE</th>\n",
       "      <th>RESPONSE_CODE</th>\n",
       "      <th>MATCHED_VARIABLE_SRC</th>\n",
       "      <th>MATCHED_VARIABLE_NAME</th>\n",
       "      <th>MATCHED_VARIABLE_VALUE</th>\n",
       "      <th>EVENT_ID</th>\n",
       "      <th>VULN</th>\n",
       "    </tr>\n",
       "  </thead>\n",
       "  <tbody>\n",
       "    <tr>\n",
       "      <th>136</th>\n",
       "      <td>217.64.42.219</td>\n",
       "      <td>Mozilla/5.0 [en] (X11, U; OpenVAS 8.0.9)</td>\n",
       "      <td>432</td>\n",
       "      <td>404</td>\n",
       "      <td>REQUEST_URI\\';\\'REQUEST_ARGS</td>\n",
       "      <td>newpage</td>\n",
       "      <td>/otcdealsin/shopper.cgi?newpage=../../../../.....</td>\n",
       "      <td>g-beAmQBjksgoq1efj7t</td>\n",
       "      <td>Path_Traversal</td>\n",
       "    </tr>\n",
       "    <tr>\n",
       "      <th>144</th>\n",
       "      <td>103.208.220.130</td>\n",
       "      <td>Mozilla/5.0 [en] (X11, U; OpenVAS 8.0.9)</td>\n",
       "      <td>469</td>\n",
       "      <td>404</td>\n",
       "      <td>REQUEST_URI\\';\\'REQUEST_ARGS</td>\n",
       "      <td>dsn</td>\n",
       "      <td>/openmairie_Tel/scr/soustab.php?dsn[phptype]=....</td>\n",
       "      <td>L-f_AmQBjksgoq1eJ_hL</td>\n",
       "      <td>Path_Traversal</td>\n",
       "    </tr>\n",
       "    <tr>\n",
       "      <th>178</th>\n",
       "      <td>95.161.153.34</td>\n",
       "      <td>Mozilla/5.0 Windows NT 6.3; Win64; x64 AppleWe...</td>\n",
       "      <td>305</td>\n",
       "      <td>302</td>\n",
       "      <td>REQUEST_GET_ARGS</td>\n",
       "      <td>REQUEST_GET_ARGS.test</td>\n",
       "      <td>/../../../../../../../../../../../boot.ini\\0</td>\n",
       "      <td>6MK7_mMBjksgoq1eD9Jb</td>\n",
       "      <td>Path_Traversal</td>\n",
       "    </tr>\n",
       "  </tbody>\n",
       "</table>\n",
       "</div>"
      ],
      "text/plain": [
       "           CLIENT_IP                                   CLIENT_USERAGENT  \\\n",
       "136    217.64.42.219           Mozilla/5.0 [en] (X11, U; OpenVAS 8.0.9)   \n",
       "144  103.208.220.130           Mozilla/5.0 [en] (X11, U; OpenVAS 8.0.9)   \n",
       "178    95.161.153.34  Mozilla/5.0 Windows NT 6.3; Win64; x64 AppleWe...   \n",
       "\n",
       "    REQUEST_SIZE RESPONSE_CODE          MATCHED_VARIABLE_SRC  \\\n",
       "136          432           404  REQUEST_URI\\';\\'REQUEST_ARGS   \n",
       "144          469           404  REQUEST_URI\\';\\'REQUEST_ARGS   \n",
       "178          305           302              REQUEST_GET_ARGS   \n",
       "\n",
       "     MATCHED_VARIABLE_NAME                             MATCHED_VARIABLE_VALUE  \\\n",
       "136                newpage  /otcdealsin/shopper.cgi?newpage=../../../../.....   \n",
       "144                    dsn  /openmairie_Tel/scr/soustab.php?dsn[phptype]=....   \n",
       "178  REQUEST_GET_ARGS.test       /../../../../../../../../../../../boot.ini\\0   \n",
       "\n",
       "                 EVENT_ID            VULN  \n",
       "136  g-beAmQBjksgoq1efj7t  Path_Traversal  \n",
       "144  L-f_AmQBjksgoq1eJ_hL  Path_Traversal  \n",
       "178  6MK7_mMBjksgoq1eD9Jb  Path_Traversal  "
      ]
     },
     "execution_count": 39,
     "metadata": {},
     "output_type": "execute_result"
    }
   ],
   "source": [
    "df[df.MATCHED_VARIABLE_VALUE.str.contains('\\.\\./', na=False)].head(3)"
   ]
  },
  {
   "cell_type": "markdown",
   "id": "33db3091-c6fa-4e6e-87b2-7a189bc3cacf",
   "metadata": {},
   "source": [
    "Также символы для обхода директорий могут быть закодированы в URL (%2e%2e%2f, %2e%2e%2c - в зависимости от Windows/Linux и наклона слэша)"
   ]
  },
  {
   "cell_type": "code",
   "execution_count": 40,
   "id": "34534c1f-36b3-4622-ac6d-6a36731245af",
   "metadata": {},
   "outputs": [
    {
     "data": {
      "text/html": [
       "<div>\n",
       "<style scoped>\n",
       "    .dataframe tbody tr th:only-of-type {\n",
       "        vertical-align: middle;\n",
       "    }\n",
       "\n",
       "    .dataframe tbody tr th {\n",
       "        vertical-align: top;\n",
       "    }\n",
       "\n",
       "    .dataframe thead th {\n",
       "        text-align: right;\n",
       "    }\n",
       "</style>\n",
       "<table border=\"1\" class=\"dataframe\">\n",
       "  <thead>\n",
       "    <tr style=\"text-align: right;\">\n",
       "      <th></th>\n",
       "      <th>CLIENT_IP</th>\n",
       "      <th>CLIENT_USERAGENT</th>\n",
       "      <th>REQUEST_SIZE</th>\n",
       "      <th>RESPONSE_CODE</th>\n",
       "      <th>MATCHED_VARIABLE_SRC</th>\n",
       "      <th>MATCHED_VARIABLE_NAME</th>\n",
       "      <th>MATCHED_VARIABLE_VALUE</th>\n",
       "      <th>EVENT_ID</th>\n",
       "      <th>VULN</th>\n",
       "    </tr>\n",
       "  </thead>\n",
       "  <tbody>\n",
       "    <tr>\n",
       "      <th>20705</th>\n",
       "      <td>193.169.34.155</td>\n",
       "      <td>Mozilla/5.0 (Windows NT 6.1; WOW64; rv:52.0) G...</td>\n",
       "      <td>210</td>\n",
       "      <td>404</td>\n",
       "      <td>REQUEST_URI</td>\n",
       "      <td>NaN</td>\n",
       "      <td>/%5c%2e%2e%5c%2e%2e%5c%2e%2e%5c%2e%2e%5cwinnt%...</td>\n",
       "      <td>84Yw22MBS0qQ_9B6De5U</td>\n",
       "      <td>0</td>\n",
       "    </tr>\n",
       "    <tr>\n",
       "      <th>27644</th>\n",
       "      <td>172.31.1.19</td>\n",
       "      <td>Mozilla/4.0 (compatible; MSIE 6.0; Windows NT ...</td>\n",
       "      <td>245</td>\n",
       "      <td>301</td>\n",
       "      <td>REQUEST_URI</td>\n",
       "      <td>NaN</td>\n",
       "      <td>/%5c%2e%2e%5c%2e%2e%5c%2e%2e%5cetc/passwd</td>\n",
       "      <td>RoOX2mMBS0qQ_9B6sQ0c</td>\n",
       "      <td>0</td>\n",
       "    </tr>\n",
       "    <tr>\n",
       "      <th>41255</th>\n",
       "      <td>172.31.1.19</td>\n",
       "      <td>Mozilla/4.0 (compatible; MSIE 6.0; Windows NT ...</td>\n",
       "      <td>250</td>\n",
       "      <td>301</td>\n",
       "      <td>REQUEST_URI</td>\n",
       "      <td>NaN</td>\n",
       "      <td>/%5c%2e%2e%5c%2e%2e%5c%2e%2e%5cwindows/win.ini</td>\n",
       "      <td>0YTF2mMBS0qQ_9B6LhpQ</td>\n",
       "      <td>0</td>\n",
       "    </tr>\n",
       "    <tr>\n",
       "      <th>45748</th>\n",
       "      <td>216.218.222.11</td>\n",
       "      <td>curl/7.47.0</td>\n",
       "      <td>107</td>\n",
       "      <td>404</td>\n",
       "      <td>REQUEST_URI</td>\n",
       "      <td>NaN</td>\n",
       "      <td>///@.example.com/%2e%2e%2f</td>\n",
       "      <td>2FvUHGQB5cBXmMW1R_zV</td>\n",
       "      <td>0</td>\n",
       "    </tr>\n",
       "  </tbody>\n",
       "</table>\n",
       "</div>"
      ],
      "text/plain": [
       "            CLIENT_IP                                   CLIENT_USERAGENT  \\\n",
       "20705  193.169.34.155  Mozilla/5.0 (Windows NT 6.1; WOW64; rv:52.0) G...   \n",
       "27644     172.31.1.19  Mozilla/4.0 (compatible; MSIE 6.0; Windows NT ...   \n",
       "41255     172.31.1.19  Mozilla/4.0 (compatible; MSIE 6.0; Windows NT ...   \n",
       "45748  216.218.222.11                                        curl/7.47.0   \n",
       "\n",
       "      REQUEST_SIZE RESPONSE_CODE MATCHED_VARIABLE_SRC MATCHED_VARIABLE_NAME  \\\n",
       "20705          210           404          REQUEST_URI                   NaN   \n",
       "27644          245           301          REQUEST_URI                   NaN   \n",
       "41255          250           301          REQUEST_URI                   NaN   \n",
       "45748          107           404          REQUEST_URI                   NaN   \n",
       "\n",
       "                                  MATCHED_VARIABLE_VALUE  \\\n",
       "20705  /%5c%2e%2e%5c%2e%2e%5c%2e%2e%5c%2e%2e%5cwinnt%...   \n",
       "27644          /%5c%2e%2e%5c%2e%2e%5c%2e%2e%5cetc/passwd   \n",
       "41255     /%5c%2e%2e%5c%2e%2e%5c%2e%2e%5cwindows/win.ini   \n",
       "45748                         ///@.example.com/%2e%2e%2f   \n",
       "\n",
       "                   EVENT_ID VULN  \n",
       "20705  84Yw22MBS0qQ_9B6De5U    0  \n",
       "27644  RoOX2mMBS0qQ_9B6sQ0c    0  \n",
       "41255  0YTF2mMBS0qQ_9B6LhpQ    0  \n",
       "45748  2FvUHGQB5cBXmMW1R_zV    0  "
      ]
     },
     "execution_count": 40,
     "metadata": {},
     "output_type": "execute_result"
    }
   ],
   "source": [
    "df[df.MATCHED_VARIABLE_VALUE.str.contains('(?:\\%2e){2}(?:(?:\\%2f)|(?:\\%5c))', na=False)]"
   ]
  },
  {
   "cell_type": "code",
   "execution_count": 41,
   "id": "63c978cb-d6c6-4caf-9d8f-de712b857b22",
   "metadata": {},
   "outputs": [],
   "source": [
    "df.loc[df.MATCHED_VARIABLE_VALUE.str.contains('(?:\\%2e){2}(?:(?:\\%2f)|(?:\\%5c))', na=False), 'VULN'] = 'Path_Traversal'"
   ]
  },
  {
   "cell_type": "code",
   "execution_count": 42,
   "id": "1687590a-2822-4fac-b6cd-47b0953fa564",
   "metadata": {},
   "outputs": [
    {
     "data": {
      "text/html": [
       "<div>\n",
       "<style scoped>\n",
       "    .dataframe tbody tr th:only-of-type {\n",
       "        vertical-align: middle;\n",
       "    }\n",
       "\n",
       "    .dataframe tbody tr th {\n",
       "        vertical-align: top;\n",
       "    }\n",
       "\n",
       "    .dataframe thead th {\n",
       "        text-align: right;\n",
       "    }\n",
       "</style>\n",
       "<table border=\"1\" class=\"dataframe\">\n",
       "  <thead>\n",
       "    <tr style=\"text-align: right;\">\n",
       "      <th></th>\n",
       "      <th>CLIENT_IP</th>\n",
       "      <th>CLIENT_USERAGENT</th>\n",
       "      <th>REQUEST_SIZE</th>\n",
       "      <th>RESPONSE_CODE</th>\n",
       "      <th>MATCHED_VARIABLE_SRC</th>\n",
       "      <th>MATCHED_VARIABLE_NAME</th>\n",
       "      <th>MATCHED_VARIABLE_VALUE</th>\n",
       "      <th>EVENT_ID</th>\n",
       "      <th>VULN</th>\n",
       "    </tr>\n",
       "  </thead>\n",
       "  <tbody>\n",
       "    <tr>\n",
       "      <th>20705</th>\n",
       "      <td>193.169.34.155</td>\n",
       "      <td>Mozilla/5.0 (Windows NT 6.1; WOW64; rv:52.0) G...</td>\n",
       "      <td>210</td>\n",
       "      <td>404</td>\n",
       "      <td>REQUEST_URI</td>\n",
       "      <td>NaN</td>\n",
       "      <td>/%5c%2e%2e%5c%2e%2e%5c%2e%2e%5c%2e%2e%5cwinnt%...</td>\n",
       "      <td>84Yw22MBS0qQ_9B6De5U</td>\n",
       "      <td>Path_Traversal</td>\n",
       "    </tr>\n",
       "    <tr>\n",
       "      <th>27644</th>\n",
       "      <td>172.31.1.19</td>\n",
       "      <td>Mozilla/4.0 (compatible; MSIE 6.0; Windows NT ...</td>\n",
       "      <td>245</td>\n",
       "      <td>301</td>\n",
       "      <td>REQUEST_URI</td>\n",
       "      <td>NaN</td>\n",
       "      <td>/%5c%2e%2e%5c%2e%2e%5c%2e%2e%5cetc/passwd</td>\n",
       "      <td>RoOX2mMBS0qQ_9B6sQ0c</td>\n",
       "      <td>Path_Traversal</td>\n",
       "    </tr>\n",
       "    <tr>\n",
       "      <th>41255</th>\n",
       "      <td>172.31.1.19</td>\n",
       "      <td>Mozilla/4.0 (compatible; MSIE 6.0; Windows NT ...</td>\n",
       "      <td>250</td>\n",
       "      <td>301</td>\n",
       "      <td>REQUEST_URI</td>\n",
       "      <td>NaN</td>\n",
       "      <td>/%5c%2e%2e%5c%2e%2e%5c%2e%2e%5cwindows/win.ini</td>\n",
       "      <td>0YTF2mMBS0qQ_9B6LhpQ</td>\n",
       "      <td>Path_Traversal</td>\n",
       "    </tr>\n",
       "    <tr>\n",
       "      <th>45748</th>\n",
       "      <td>216.218.222.11</td>\n",
       "      <td>curl/7.47.0</td>\n",
       "      <td>107</td>\n",
       "      <td>404</td>\n",
       "      <td>REQUEST_URI</td>\n",
       "      <td>NaN</td>\n",
       "      <td>///@.example.com/%2e%2e%2f</td>\n",
       "      <td>2FvUHGQB5cBXmMW1R_zV</td>\n",
       "      <td>Path_Traversal</td>\n",
       "    </tr>\n",
       "  </tbody>\n",
       "</table>\n",
       "</div>"
      ],
      "text/plain": [
       "            CLIENT_IP                                   CLIENT_USERAGENT  \\\n",
       "20705  193.169.34.155  Mozilla/5.0 (Windows NT 6.1; WOW64; rv:52.0) G...   \n",
       "27644     172.31.1.19  Mozilla/4.0 (compatible; MSIE 6.0; Windows NT ...   \n",
       "41255     172.31.1.19  Mozilla/4.0 (compatible; MSIE 6.0; Windows NT ...   \n",
       "45748  216.218.222.11                                        curl/7.47.0   \n",
       "\n",
       "      REQUEST_SIZE RESPONSE_CODE MATCHED_VARIABLE_SRC MATCHED_VARIABLE_NAME  \\\n",
       "20705          210           404          REQUEST_URI                   NaN   \n",
       "27644          245           301          REQUEST_URI                   NaN   \n",
       "41255          250           301          REQUEST_URI                   NaN   \n",
       "45748          107           404          REQUEST_URI                   NaN   \n",
       "\n",
       "                                  MATCHED_VARIABLE_VALUE  \\\n",
       "20705  /%5c%2e%2e%5c%2e%2e%5c%2e%2e%5c%2e%2e%5cwinnt%...   \n",
       "27644          /%5c%2e%2e%5c%2e%2e%5c%2e%2e%5cetc/passwd   \n",
       "41255     /%5c%2e%2e%5c%2e%2e%5c%2e%2e%5cwindows/win.ini   \n",
       "45748                         ///@.example.com/%2e%2e%2f   \n",
       "\n",
       "                   EVENT_ID            VULN  \n",
       "20705  84Yw22MBS0qQ_9B6De5U  Path_Traversal  \n",
       "27644  RoOX2mMBS0qQ_9B6sQ0c  Path_Traversal  \n",
       "41255  0YTF2mMBS0qQ_9B6LhpQ  Path_Traversal  \n",
       "45748  2FvUHGQB5cBXmMW1R_zV  Path_Traversal  "
      ]
     },
     "execution_count": 42,
     "metadata": {},
     "output_type": "execute_result"
    }
   ],
   "source": [
    "df[df.MATCHED_VARIABLE_VALUE.str.contains('(?:\\%2e){2}(?:(?:\\%2f)|(?:\\%5c))', na=False)]"
   ]
  },
  {
   "cell_type": "markdown",
   "id": "fc01d72d-ba78-4e76-a703-95ebc66cc1bb",
   "metadata": {},
   "source": [
    "### XSS"
   ]
  },
  {
   "cell_type": "markdown",
   "id": "55f320c2-2d63-43dc-9ddb-c4cd93e72d14",
   "metadata": {},
   "source": [
    "Начнём просто с фильтра по тексту \\<script>"
   ]
  },
  {
   "cell_type": "code",
   "execution_count": 43,
   "id": "12c56a2d-8fc3-4daf-8282-c768156eaf5b",
   "metadata": {},
   "outputs": [],
   "source": [
    "df.loc[df.MATCHED_VARIABLE_VALUE.str.contains('<script>', na=False), 'VULN'] = 'XSS'"
   ]
  },
  {
   "cell_type": "code",
   "execution_count": 44,
   "id": "e4a4547d-895d-4511-ac41-d9b4054b6088",
   "metadata": {},
   "outputs": [
    {
     "data": {
      "text/html": [
       "<div>\n",
       "<style scoped>\n",
       "    .dataframe tbody tr th:only-of-type {\n",
       "        vertical-align: middle;\n",
       "    }\n",
       "\n",
       "    .dataframe tbody tr th {\n",
       "        vertical-align: top;\n",
       "    }\n",
       "\n",
       "    .dataframe thead th {\n",
       "        text-align: right;\n",
       "    }\n",
       "</style>\n",
       "<table border=\"1\" class=\"dataframe\">\n",
       "  <thead>\n",
       "    <tr style=\"text-align: right;\">\n",
       "      <th></th>\n",
       "      <th>CLIENT_IP</th>\n",
       "      <th>CLIENT_USERAGENT</th>\n",
       "      <th>REQUEST_SIZE</th>\n",
       "      <th>RESPONSE_CODE</th>\n",
       "      <th>MATCHED_VARIABLE_SRC</th>\n",
       "      <th>MATCHED_VARIABLE_NAME</th>\n",
       "      <th>MATCHED_VARIABLE_VALUE</th>\n",
       "      <th>EVENT_ID</th>\n",
       "      <th>VULN</th>\n",
       "    </tr>\n",
       "  </thead>\n",
       "  <tbody>\n",
       "    <tr>\n",
       "      <th>436</th>\n",
       "      <td>95.161.153.34</td>\n",
       "      <td>Mozilla/5.0 Windows NT 6.3; Win64; x64 AppleWe...</td>\n",
       "      <td>320</td>\n",
       "      <td>302</td>\n",
       "      <td>REQUEST_GET_ARGS</td>\n",
       "      <td>test</td>\n",
       "      <td>X-Forwarded-For: &lt;script&gt;alert(1)&lt;/script&gt;</td>\n",
       "      <td>gMTK_mMBjksgoq1eKBAM</td>\n",
       "      <td>XSS</td>\n",
       "    </tr>\n",
       "    <tr>\n",
       "      <th>1353</th>\n",
       "      <td>103.208.220.130</td>\n",
       "      <td>Mozilla/5.0 [en] (X11, U; OpenVAS 8.0.9)</td>\n",
       "      <td>445</td>\n",
       "      <td>400</td>\n",
       "      <td>REQUEST_PATH</td>\n",
       "      <td>NaN</td>\n",
       "      <td>/buce/language/en/text.php/&lt;script&gt;alert(\\'ope...</td>\n",
       "      <td>_Of5AmQBjksgoq1evKw3</td>\n",
       "      <td>XSS</td>\n",
       "    </tr>\n",
       "    <tr>\n",
       "      <th>2990</th>\n",
       "      <td>178.235.13.219</td>\n",
       "      <td>Mozilla/5.0 (Windows NT 10.0; WOW64; rv:49.0) ...</td>\n",
       "      <td>14209</td>\n",
       "      <td>200</td>\n",
       "      <td>REQUEST_POST_ARGS</td>\n",
       "      <td>pc[ads-5]</td>\n",
       "      <td>&lt;script type=\"text/javascript\"&gt;document.write(...</td>\n",
       "      <td>AVdlvY6Gq1Ppo9zF7kKo</td>\n",
       "      <td>XSS</td>\n",
       "    </tr>\n",
       "  </tbody>\n",
       "</table>\n",
       "</div>"
      ],
      "text/plain": [
       "            CLIENT_IP                                   CLIENT_USERAGENT  \\\n",
       "436     95.161.153.34  Mozilla/5.0 Windows NT 6.3; Win64; x64 AppleWe...   \n",
       "1353  103.208.220.130           Mozilla/5.0 [en] (X11, U; OpenVAS 8.0.9)   \n",
       "2990   178.235.13.219  Mozilla/5.0 (Windows NT 10.0; WOW64; rv:49.0) ...   \n",
       "\n",
       "     REQUEST_SIZE RESPONSE_CODE MATCHED_VARIABLE_SRC MATCHED_VARIABLE_NAME  \\\n",
       "436           320           302     REQUEST_GET_ARGS                  test   \n",
       "1353          445           400         REQUEST_PATH                   NaN   \n",
       "2990        14209           200    REQUEST_POST_ARGS             pc[ads-5]   \n",
       "\n",
       "                                 MATCHED_VARIABLE_VALUE              EVENT_ID  \\\n",
       "436          X-Forwarded-For: <script>alert(1)</script>  gMTK_mMBjksgoq1eKBAM   \n",
       "1353  /buce/language/en/text.php/<script>alert(\\'ope...  _Of5AmQBjksgoq1evKw3   \n",
       "2990  <script type=\"text/javascript\">document.write(...  AVdlvY6Gq1Ppo9zF7kKo   \n",
       "\n",
       "     VULN  \n",
       "436   XSS  \n",
       "1353  XSS  \n",
       "2990  XSS  "
      ]
     },
     "execution_count": 44,
     "metadata": {},
     "output_type": "execute_result"
    }
   ],
   "source": [
    "df[df.MATCHED_VARIABLE_VALUE.str.contains('<script>', na=False)].head(3)"
   ]
  },
  {
   "cell_type": "markdown",
   "id": "0a6669f7-d80b-420b-9d21-ed656fe26ca3",
   "metadata": {},
   "source": [
    "### SQL Injection"
   ]
  },
  {
   "cell_type": "markdown",
   "id": "396d5970-8e32-4af9-9f9b-e4fbd4f457a8",
   "metadata": {},
   "source": [
    "Попробуем известные варианты. Начнём с \"всегда истинное условие\" (вроде 1=1)"
   ]
  },
  {
   "cell_type": "markdown",
   "id": "37d779a4-b80f-4495-b8df-14d9ee3a5036",
   "metadata": {},
   "source": [
    "Сначала глянем в целом два цифры по сторонам от '='. Видно, что непросто поймать регуляркой выражение из 66 записи \"-1 OR 2+15-15-1=0+0+0+1\". Наверно, можно их как-то считать, но пока пропустим, и выберем все"
   ]
  },
  {
   "cell_type": "code",
   "execution_count": 45,
   "id": "3f5ac8f9-e60e-4438-8781-349ade50ca5f",
   "metadata": {},
   "outputs": [
    {
     "data": {
      "text/plain": [
       "(1174, 9)"
      ]
     },
     "execution_count": 45,
     "metadata": {},
     "output_type": "execute_result"
    }
   ],
   "source": [
    "df[df.MATCHED_VARIABLE_VALUE.str.contains('\\d=\\d', regex=True, na=False)].shape"
   ]
  },
  {
   "cell_type": "code",
   "execution_count": 46,
   "id": "e46b84ce-e45b-4d84-a28e-0a7d53f78239",
   "metadata": {},
   "outputs": [
    {
     "data": {
      "text/html": [
       "<div>\n",
       "<style scoped>\n",
       "    .dataframe tbody tr th:only-of-type {\n",
       "        vertical-align: middle;\n",
       "    }\n",
       "\n",
       "    .dataframe tbody tr th {\n",
       "        vertical-align: top;\n",
       "    }\n",
       "\n",
       "    .dataframe thead th {\n",
       "        text-align: right;\n",
       "    }\n",
       "</style>\n",
       "<table border=\"1\" class=\"dataframe\">\n",
       "  <thead>\n",
       "    <tr style=\"text-align: right;\">\n",
       "      <th></th>\n",
       "      <th>CLIENT_IP</th>\n",
       "      <th>CLIENT_USERAGENT</th>\n",
       "      <th>REQUEST_SIZE</th>\n",
       "      <th>RESPONSE_CODE</th>\n",
       "      <th>MATCHED_VARIABLE_SRC</th>\n",
       "      <th>MATCHED_VARIABLE_NAME</th>\n",
       "      <th>MATCHED_VARIABLE_VALUE</th>\n",
       "      <th>EVENT_ID</th>\n",
       "      <th>VULN</th>\n",
       "    </tr>\n",
       "  </thead>\n",
       "  <tbody>\n",
       "    <tr>\n",
       "      <th>31</th>\n",
       "      <td>178.65.190.208</td>\n",
       "      <td>Mozilla/5.0 (Windows; U; Windows NT 5.1; pt-PT...</td>\n",
       "      <td>1164</td>\n",
       "      <td>200</td>\n",
       "      <td>REQUEST_GET_ARGS</td>\n",
       "      <td>id</td>\n",
       "      <td>53 or 1=999999.9 /**/uNiOn/**/aLl /**/sElEcT 1...</td>\n",
       "      <td>AVdXraQsq1Ppo9zFz6OZ</td>\n",
       "      <td>0</td>\n",
       "    </tr>\n",
       "    <tr>\n",
       "      <th>39</th>\n",
       "      <td>217.175.140.69</td>\n",
       "      <td>Mozilla/5.0 (Windows NT 6.1; WOW64; Trident/7....</td>\n",
       "      <td>3795</td>\n",
       "      <td>307</td>\n",
       "      <td>REQUEST_COOKIES</td>\n",
       "      <td>REQUEST_COOKIES.rpx</td>\n",
       "      <td>31956=70895,0,1,,&amp;6286=70686,0,1,,&amp;106496=7085...</td>\n",
       "      <td>QIEmIGQB5cBXmMW1qsEs</td>\n",
       "      <td>0</td>\n",
       "    </tr>\n",
       "    <tr>\n",
       "      <th>66</th>\n",
       "      <td>192.168.100.63</td>\n",
       "      <td>-1 OR 2+15-15-1=0+0+0+1</td>\n",
       "      <td>689</td>\n",
       "      <td>200</td>\n",
       "      <td>REQUEST_HEADERS</td>\n",
       "      <td>User-Agent</td>\n",
       "      <td>-1 OR 2+15-15-1=0+0+0+1</td>\n",
       "      <td>YPGiA2QBjksgoq1eQk68</td>\n",
       "      <td>0</td>\n",
       "    </tr>\n",
       "  </tbody>\n",
       "</table>\n",
       "</div>"
      ],
      "text/plain": [
       "         CLIENT_IP                                   CLIENT_USERAGENT  \\\n",
       "31  178.65.190.208  Mozilla/5.0 (Windows; U; Windows NT 5.1; pt-PT...   \n",
       "39  217.175.140.69  Mozilla/5.0 (Windows NT 6.1; WOW64; Trident/7....   \n",
       "66  192.168.100.63                            -1 OR 2+15-15-1=0+0+0+1   \n",
       "\n",
       "   REQUEST_SIZE RESPONSE_CODE MATCHED_VARIABLE_SRC MATCHED_VARIABLE_NAME  \\\n",
       "31         1164           200     REQUEST_GET_ARGS                    id   \n",
       "39         3795           307      REQUEST_COOKIES   REQUEST_COOKIES.rpx   \n",
       "66          689           200      REQUEST_HEADERS            User-Agent   \n",
       "\n",
       "                               MATCHED_VARIABLE_VALUE              EVENT_ID  \\\n",
       "31  53 or 1=999999.9 /**/uNiOn/**/aLl /**/sElEcT 1...  AVdXraQsq1Ppo9zFz6OZ   \n",
       "39  31956=70895,0,1,,&6286=70686,0,1,,&106496=7085...  QIEmIGQB5cBXmMW1qsEs   \n",
       "66                            -1 OR 2+15-15-1=0+0+0+1  YPGiA2QBjksgoq1eQk68   \n",
       "\n",
       "   VULN  \n",
       "31    0  \n",
       "39    0  \n",
       "66    0  "
      ]
     },
     "execution_count": 46,
     "metadata": {},
     "output_type": "execute_result"
    }
   ],
   "source": [
    "df[df.MATCHED_VARIABLE_VALUE.str.contains('\\d=\\d', regex=True, na=False)].head(3)"
   ]
  },
  {
   "cell_type": "markdown",
   "id": "48fc3614-a15d-4360-9f0d-8c962531be60",
   "metadata": {},
   "source": [
    "Ещё нормальному разработчику незачем комментировать код в запросе. Посмотрим, есть ли такое в датасете:"
   ]
  },
  {
   "cell_type": "code",
   "execution_count": 47,
   "id": "2964c22c-ebfd-46ac-95ac-793f6a6a2029",
   "metadata": {},
   "outputs": [
    {
     "data": {
      "text/plain": [
       "(295, 9)"
      ]
     },
     "execution_count": 47,
     "metadata": {},
     "output_type": "execute_result"
    }
   ],
   "source": [
    "df[df.MATCHED_VARIABLE_VALUE.str.contains(' -- ', regex=True, na=False)].shape"
   ]
  },
  {
   "cell_type": "code",
   "execution_count": 48,
   "id": "a96cc0cc-f9d5-43b5-aa17-30b272e9a7d0",
   "metadata": {},
   "outputs": [
    {
     "data": {
      "text/html": [
       "<div>\n",
       "<style scoped>\n",
       "    .dataframe tbody tr th:only-of-type {\n",
       "        vertical-align: middle;\n",
       "    }\n",
       "\n",
       "    .dataframe tbody tr th {\n",
       "        vertical-align: top;\n",
       "    }\n",
       "\n",
       "    .dataframe thead th {\n",
       "        text-align: right;\n",
       "    }\n",
       "</style>\n",
       "<table border=\"1\" class=\"dataframe\">\n",
       "  <thead>\n",
       "    <tr style=\"text-align: right;\">\n",
       "      <th></th>\n",
       "      <th>CLIENT_IP</th>\n",
       "      <th>CLIENT_USERAGENT</th>\n",
       "      <th>REQUEST_SIZE</th>\n",
       "      <th>RESPONSE_CODE</th>\n",
       "      <th>MATCHED_VARIABLE_SRC</th>\n",
       "      <th>MATCHED_VARIABLE_NAME</th>\n",
       "      <th>MATCHED_VARIABLE_VALUE</th>\n",
       "      <th>EVENT_ID</th>\n",
       "      <th>VULN</th>\n",
       "    </tr>\n",
       "  </thead>\n",
       "  <tbody>\n",
       "    <tr>\n",
       "      <th>271</th>\n",
       "      <td>5.196.79.214</td>\n",
       "      <td>Mozilla/4.0 (compatible; MSIE 7.0; Windows NT ...</td>\n",
       "      <td>515</td>\n",
       "      <td>200</td>\n",
       "      <td>REQUEST_GET_ARGS</td>\n",
       "      <td>cat_num</td>\n",
       "      <td>3019999999999' or (select count(*)from(select ...</td>\n",
       "      <td>AVduM1tjq1Ppo9zF_3dR</td>\n",
       "      <td>0</td>\n",
       "    </tr>\n",
       "    <tr>\n",
       "      <th>459</th>\n",
       "      <td>185.5.140.253</td>\n",
       "      <td>Mozilla/5.0 (X11; Linux x86_64) AppleWebKit/53...</td>\n",
       "      <td>855</td>\n",
       "      <td>200</td>\n",
       "      <td>REQUEST_GET_ARGS</td>\n",
       "      <td>SearchType</td>\n",
       "      <td>2\\\" AND \\\"\\\"1\\\"\\\"=\\\"\\\"2\\\"\\\" -- \\\"</td>\n",
       "      <td>q7ZfEmQBoRd31uenp2_Y</td>\n",
       "      <td>0</td>\n",
       "    </tr>\n",
       "    <tr>\n",
       "      <th>461</th>\n",
       "      <td>192.168.100.63</td>\n",
       "      <td>Mozilla/5.0 (Windows NT 6.1; WOW64) AppleWebKi...</td>\n",
       "      <td>606</td>\n",
       "      <td>302</td>\n",
       "      <td>REQUEST_COOKIES</td>\n",
       "      <td>gatetype</td>\n",
       "      <td>-1\\' OR 2+444-444-1=0+0+0+1 --</td>\n",
       "      <td>fvGkA2QBjksgoq1eV2yx</td>\n",
       "      <td>0</td>\n",
       "    </tr>\n",
       "  </tbody>\n",
       "</table>\n",
       "</div>"
      ],
      "text/plain": [
       "          CLIENT_IP                                   CLIENT_USERAGENT  \\\n",
       "271    5.196.79.214  Mozilla/4.0 (compatible; MSIE 7.0; Windows NT ...   \n",
       "459   185.5.140.253  Mozilla/5.0 (X11; Linux x86_64) AppleWebKit/53...   \n",
       "461  192.168.100.63  Mozilla/5.0 (Windows NT 6.1; WOW64) AppleWebKi...   \n",
       "\n",
       "    REQUEST_SIZE RESPONSE_CODE MATCHED_VARIABLE_SRC MATCHED_VARIABLE_NAME  \\\n",
       "271          515           200     REQUEST_GET_ARGS               cat_num   \n",
       "459          855           200     REQUEST_GET_ARGS            SearchType   \n",
       "461          606           302      REQUEST_COOKIES              gatetype   \n",
       "\n",
       "                                MATCHED_VARIABLE_VALUE              EVENT_ID  \\\n",
       "271  3019999999999' or (select count(*)from(select ...  AVduM1tjq1Ppo9zF_3dR   \n",
       "459                  2\\\" AND \\\"\\\"1\\\"\\\"=\\\"\\\"2\\\"\\\" -- \\\"  q7ZfEmQBoRd31uenp2_Y   \n",
       "461                    -1\\' OR 2+444-444-1=0+0+0+1 --   fvGkA2QBjksgoq1eV2yx   \n",
       "\n",
       "    VULN  \n",
       "271    0  \n",
       "459    0  \n",
       "461    0  "
      ]
     },
     "execution_count": 48,
     "metadata": {},
     "output_type": "execute_result"
    }
   ],
   "source": [
    "df[df.MATCHED_VARIABLE_VALUE.str.contains(' -- ', regex=True, na=False)].head(3)"
   ]
  },
  {
   "cell_type": "markdown",
   "id": "9087f95a-76fe-4b87-91f6-91959bcadf3d",
   "metadata": {},
   "source": [
    "Другим признаком SQL-инъекции может быть использование злоумышленником sleep() для обнаружения выполнения условия. Маловероятно, что sleep() будет использован разработчиком для умышленного замедления своего кода."
   ]
  },
  {
   "cell_type": "code",
   "execution_count": 49,
   "id": "b0950c60-6a68-48b3-b2f6-5f6895ab232e",
   "metadata": {},
   "outputs": [
    {
     "data": {
      "text/plain": [
       "(255, 9)"
      ]
     },
     "execution_count": 49,
     "metadata": {},
     "output_type": "execute_result"
    }
   ],
   "source": [
    "df[df.MATCHED_VARIABLE_VALUE.str.contains('sleep(?:.*)', regex=True, na=False)].shape"
   ]
  },
  {
   "cell_type": "code",
   "execution_count": 50,
   "id": "f04c9387-dca8-4d20-abba-69a5c820a909",
   "metadata": {},
   "outputs": [
    {
     "data": {
      "text/html": [
       "<div>\n",
       "<style scoped>\n",
       "    .dataframe tbody tr th:only-of-type {\n",
       "        vertical-align: middle;\n",
       "    }\n",
       "\n",
       "    .dataframe tbody tr th {\n",
       "        vertical-align: top;\n",
       "    }\n",
       "\n",
       "    .dataframe thead th {\n",
       "        text-align: right;\n",
       "    }\n",
       "</style>\n",
       "<table border=\"1\" class=\"dataframe\">\n",
       "  <thead>\n",
       "    <tr style=\"text-align: right;\">\n",
       "      <th></th>\n",
       "      <th>CLIENT_IP</th>\n",
       "      <th>CLIENT_USERAGENT</th>\n",
       "      <th>REQUEST_SIZE</th>\n",
       "      <th>RESPONSE_CODE</th>\n",
       "      <th>MATCHED_VARIABLE_SRC</th>\n",
       "      <th>MATCHED_VARIABLE_NAME</th>\n",
       "      <th>MATCHED_VARIABLE_VALUE</th>\n",
       "      <th>EVENT_ID</th>\n",
       "      <th>VULN</th>\n",
       "    </tr>\n",
       "  </thead>\n",
       "  <tbody>\n",
       "    <tr>\n",
       "      <th>252</th>\n",
       "      <td>91.216.126.128</td>\n",
       "      <td>Mozilla/5.0 (compatible; MSIE 8.0; Windows NT ...</td>\n",
       "      <td>1321</td>\n",
       "      <td>503</td>\n",
       "      <td>REQUEST_GET_ARGS</td>\n",
       "      <td>id</td>\n",
       "      <td>5' aNd if(length(0x574352575653)&gt;1,sleep(3),0)...</td>\n",
       "      <td>AVdrlJsXq1Ppo9zF-pvn</td>\n",
       "      <td>0</td>\n",
       "    </tr>\n",
       "    <tr>\n",
       "      <th>263</th>\n",
       "      <td>192.168.100.63</td>\n",
       "      <td>Mozilla/5.0 (Windows NT 6.1; WOW64) AppleWebKi...</td>\n",
       "      <td>761</td>\n",
       "      <td>302</td>\n",
       "      <td>REQUEST_HEADERS</td>\n",
       "      <td>Via</td>\n",
       "      <td>k8fXJgJV\\';select pg_sleep(6); --</td>\n",
       "      <td>rPGkA2QBjksgoq1eAGco</td>\n",
       "      <td>0</td>\n",
       "    </tr>\n",
       "    <tr>\n",
       "      <th>428</th>\n",
       "      <td>192.168.100.63</td>\n",
       "      <td>Mozilla/5.0 (Windows NT 6.1; WOW64) AppleWebKi...</td>\n",
       "      <td>805</td>\n",
       "      <td>200</td>\n",
       "      <td>REQUEST_HEADERS</td>\n",
       "      <td>X-Forwarded-For</td>\n",
       "      <td>hXfWTHGV\\';select pg_sleep(4); --</td>\n",
       "      <td>zfCbA2QBjksgoq1eMeZ0</td>\n",
       "      <td>0</td>\n",
       "    </tr>\n",
       "  </tbody>\n",
       "</table>\n",
       "</div>"
      ],
      "text/plain": [
       "          CLIENT_IP                                   CLIENT_USERAGENT  \\\n",
       "252  91.216.126.128  Mozilla/5.0 (compatible; MSIE 8.0; Windows NT ...   \n",
       "263  192.168.100.63  Mozilla/5.0 (Windows NT 6.1; WOW64) AppleWebKi...   \n",
       "428  192.168.100.63  Mozilla/5.0 (Windows NT 6.1; WOW64) AppleWebKi...   \n",
       "\n",
       "    REQUEST_SIZE RESPONSE_CODE MATCHED_VARIABLE_SRC MATCHED_VARIABLE_NAME  \\\n",
       "252         1321           503     REQUEST_GET_ARGS                    id   \n",
       "263          761           302      REQUEST_HEADERS                   Via   \n",
       "428          805           200      REQUEST_HEADERS       X-Forwarded-For   \n",
       "\n",
       "                                MATCHED_VARIABLE_VALUE              EVENT_ID  \\\n",
       "252  5' aNd if(length(0x574352575653)>1,sleep(3),0)...  AVdrlJsXq1Ppo9zF-pvn   \n",
       "263                  k8fXJgJV\\';select pg_sleep(6); --  rPGkA2QBjksgoq1eAGco   \n",
       "428                  hXfWTHGV\\';select pg_sleep(4); --  zfCbA2QBjksgoq1eMeZ0   \n",
       "\n",
       "    VULN  \n",
       "252    0  \n",
       "263    0  \n",
       "428    0  "
      ]
     },
     "execution_count": 50,
     "metadata": {},
     "output_type": "execute_result"
    }
   ],
   "source": [
    "df[df.MATCHED_VARIABLE_VALUE.str.contains('sleep(?:.*)', regex=True, na=False)].head(3)"
   ]
  },
  {
   "cell_type": "markdown",
   "id": "ddf10a46-f44a-49c0-ac33-8b189861afe3",
   "metadata": {},
   "source": [
    "### Вредоносные примеры в целом"
   ]
  },
  {
   "cell_type": "markdown",
   "id": "4a1268b9-8c6a-427d-9758-2652a630f2f4",
   "metadata": {},
   "source": [
    "Объединим все три условия и разметим как \"SQL_Injection\""
   ]
  },
  {
   "cell_type": "code",
   "execution_count": 51,
   "id": "656537ca-e3f8-4399-b768-e310af7c6fce",
   "metadata": {},
   "outputs": [],
   "source": [
    "df.loc[df.MATCHED_VARIABLE_VALUE.str.contains('(?:\\d=\\d)|(?: -- )|sleep(?:.*)', na=False), 'VULN'] = 'SQL_Injection'"
   ]
  },
  {
   "cell_type": "code",
   "execution_count": 52,
   "id": "7ae14873-b598-40ba-8b73-2117605938be",
   "metadata": {},
   "outputs": [
    {
     "data": {
      "text/html": [
       "<div>\n",
       "<style scoped>\n",
       "    .dataframe tbody tr th:only-of-type {\n",
       "        vertical-align: middle;\n",
       "    }\n",
       "\n",
       "    .dataframe tbody tr th {\n",
       "        vertical-align: top;\n",
       "    }\n",
       "\n",
       "    .dataframe thead th {\n",
       "        text-align: right;\n",
       "    }\n",
       "</style>\n",
       "<table border=\"1\" class=\"dataframe\">\n",
       "  <thead>\n",
       "    <tr style=\"text-align: right;\">\n",
       "      <th></th>\n",
       "      <th>CLIENT_IP</th>\n",
       "      <th>CLIENT_USERAGENT</th>\n",
       "      <th>REQUEST_SIZE</th>\n",
       "      <th>RESPONSE_CODE</th>\n",
       "      <th>MATCHED_VARIABLE_SRC</th>\n",
       "      <th>MATCHED_VARIABLE_NAME</th>\n",
       "      <th>MATCHED_VARIABLE_VALUE</th>\n",
       "      <th>EVENT_ID</th>\n",
       "      <th>VULN</th>\n",
       "    </tr>\n",
       "  </thead>\n",
       "  <tbody>\n",
       "    <tr>\n",
       "      <th>31</th>\n",
       "      <td>178.65.190.208</td>\n",
       "      <td>Mozilla/5.0 (Windows; U; Windows NT 5.1; pt-PT...</td>\n",
       "      <td>1164</td>\n",
       "      <td>200</td>\n",
       "      <td>REQUEST_GET_ARGS</td>\n",
       "      <td>id</td>\n",
       "      <td>53 or 1=999999.9 /**/uNiOn/**/aLl /**/sElEcT 1...</td>\n",
       "      <td>AVdXraQsq1Ppo9zFz6OZ</td>\n",
       "      <td>SQL_Injection</td>\n",
       "    </tr>\n",
       "    <tr>\n",
       "      <th>39</th>\n",
       "      <td>217.175.140.69</td>\n",
       "      <td>Mozilla/5.0 (Windows NT 6.1; WOW64; Trident/7....</td>\n",
       "      <td>3795</td>\n",
       "      <td>307</td>\n",
       "      <td>REQUEST_COOKIES</td>\n",
       "      <td>REQUEST_COOKIES.rpx</td>\n",
       "      <td>31956=70895,0,1,,&amp;6286=70686,0,1,,&amp;106496=7085...</td>\n",
       "      <td>QIEmIGQB5cBXmMW1qsEs</td>\n",
       "      <td>SQL_Injection</td>\n",
       "    </tr>\n",
       "    <tr>\n",
       "      <th>66</th>\n",
       "      <td>192.168.100.63</td>\n",
       "      <td>-1 OR 2+15-15-1=0+0+0+1</td>\n",
       "      <td>689</td>\n",
       "      <td>200</td>\n",
       "      <td>REQUEST_HEADERS</td>\n",
       "      <td>User-Agent</td>\n",
       "      <td>-1 OR 2+15-15-1=0+0+0+1</td>\n",
       "      <td>YPGiA2QBjksgoq1eQk68</td>\n",
       "      <td>SQL_Injection</td>\n",
       "    </tr>\n",
       "  </tbody>\n",
       "</table>\n",
       "</div>"
      ],
      "text/plain": [
       "         CLIENT_IP                                   CLIENT_USERAGENT  \\\n",
       "31  178.65.190.208  Mozilla/5.0 (Windows; U; Windows NT 5.1; pt-PT...   \n",
       "39  217.175.140.69  Mozilla/5.0 (Windows NT 6.1; WOW64; Trident/7....   \n",
       "66  192.168.100.63                            -1 OR 2+15-15-1=0+0+0+1   \n",
       "\n",
       "   REQUEST_SIZE RESPONSE_CODE MATCHED_VARIABLE_SRC MATCHED_VARIABLE_NAME  \\\n",
       "31         1164           200     REQUEST_GET_ARGS                    id   \n",
       "39         3795           307      REQUEST_COOKIES   REQUEST_COOKIES.rpx   \n",
       "66          689           200      REQUEST_HEADERS            User-Agent   \n",
       "\n",
       "                               MATCHED_VARIABLE_VALUE              EVENT_ID  \\\n",
       "31  53 or 1=999999.9 /**/uNiOn/**/aLl /**/sElEcT 1...  AVdXraQsq1Ppo9zFz6OZ   \n",
       "39  31956=70895,0,1,,&6286=70686,0,1,,&106496=7085...  QIEmIGQB5cBXmMW1qsEs   \n",
       "66                            -1 OR 2+15-15-1=0+0+0+1  YPGiA2QBjksgoq1eQk68   \n",
       "\n",
       "             VULN  \n",
       "31  SQL_Injection  \n",
       "39  SQL_Injection  \n",
       "66  SQL_Injection  "
      ]
     },
     "execution_count": 52,
     "metadata": {},
     "output_type": "execute_result"
    }
   ],
   "source": [
    "df[df.MATCHED_VARIABLE_VALUE.str.contains('(?:\\d=\\d)|(?: -- )|sleep(?:.*)', na=False)].head(3)"
   ]
  },
  {
   "cell_type": "code",
   "execution_count": null,
   "id": "e496e0db-d0bb-423c-b797-a3cb5378abb2",
   "metadata": {},
   "outputs": [],
   "source": []
  },
  {
   "cell_type": "markdown",
   "id": "69f17610-7f36-4977-99c5-4d5c1220a253",
   "metadata": {},
   "source": [
    "## Обзор размеченных данных"
   ]
  },
  {
   "cell_type": "markdown",
   "id": "2896ce83-ae8a-4700-a123-53c536da675c",
   "metadata": {},
   "source": [
    "Здесь посмотрим, коррелирует ли разметка данных с какими-нибудь признаками. И, может быть, доразметим."
   ]
  },
  {
   "cell_type": "code",
   "execution_count": 53,
   "id": "0c7309d4-7de4-4f05-b414-8edcd0b77a4e",
   "metadata": {},
   "outputs": [],
   "source": [
    "df['VULN_BIN'] = np.where(df['VULN'] == 0, 0, 1)"
   ]
  },
  {
   "cell_type": "code",
   "execution_count": 54,
   "id": "b5e70cd5-9350-456c-82ca-db070661f580",
   "metadata": {},
   "outputs": [
    {
     "data": {
      "text/html": [
       "<div>\n",
       "<style scoped>\n",
       "    .dataframe tbody tr th:only-of-type {\n",
       "        vertical-align: middle;\n",
       "    }\n",
       "\n",
       "    .dataframe tbody tr th {\n",
       "        vertical-align: top;\n",
       "    }\n",
       "\n",
       "    .dataframe thead th {\n",
       "        text-align: right;\n",
       "    }\n",
       "</style>\n",
       "<table border=\"1\" class=\"dataframe\">\n",
       "  <thead>\n",
       "    <tr style=\"text-align: right;\">\n",
       "      <th></th>\n",
       "      <th>CLIENT_IP</th>\n",
       "      <th>CLIENT_USERAGENT</th>\n",
       "      <th>REQUEST_SIZE</th>\n",
       "      <th>RESPONSE_CODE</th>\n",
       "      <th>MATCHED_VARIABLE_SRC</th>\n",
       "      <th>MATCHED_VARIABLE_NAME</th>\n",
       "      <th>MATCHED_VARIABLE_VALUE</th>\n",
       "      <th>EVENT_ID</th>\n",
       "      <th>VULN</th>\n",
       "      <th>VULN_BIN</th>\n",
       "    </tr>\n",
       "  </thead>\n",
       "  <tbody>\n",
       "    <tr>\n",
       "      <th>0</th>\n",
       "      <td>188.138.92.55</td>\n",
       "      <td>NaN</td>\n",
       "      <td>166</td>\n",
       "      <td>404</td>\n",
       "      <td>REQUEST_URI</td>\n",
       "      <td>NaN</td>\n",
       "      <td>//tmp/20160925122692indo.php.vob</td>\n",
       "      <td>AVdhXFgVq1Ppo9zF5Fxu</td>\n",
       "      <td>0</td>\n",
       "      <td>0</td>\n",
       "    </tr>\n",
       "    <tr>\n",
       "      <th>1</th>\n",
       "      <td>93.158.215.131</td>\n",
       "      <td>Mozilla/5.0 (Windows NT 6.3; WOW64; rv:45.0) G...</td>\n",
       "      <td>431</td>\n",
       "      <td>302</td>\n",
       "      <td>REQUEST_GET_ARGS</td>\n",
       "      <td>url</td>\n",
       "      <td>http://www.galitsios.gr/?option=com_k2</td>\n",
       "      <td>AVdcJmIIq1Ppo9zF2YIp</td>\n",
       "      <td>0</td>\n",
       "      <td>0</td>\n",
       "    </tr>\n",
       "    <tr>\n",
       "      <th>2</th>\n",
       "      <td>176.123.240.64</td>\n",
       "      <td>Mozilla/5.0 (Windows NT 6.0; rv:34.0) Gecko/20...</td>\n",
       "      <td>395</td>\n",
       "      <td>403</td>\n",
       "      <td>REQUEST_PATH</td>\n",
       "      <td>NaN</td>\n",
       "      <td>/opinion/page1_3.php\\\" and \\\"\\\"x\\\"\\\"=\\\"\\\"x\\\"</td>\n",
       "      <td>iz7SN2YBrgKk_RFNZW_U</td>\n",
       "      <td>0</td>\n",
       "      <td>0</td>\n",
       "    </tr>\n",
       "    <tr>\n",
       "      <th>3</th>\n",
       "      <td>73.78.81.63</td>\n",
       "      <td>Mozilla/5.0 (Windows NT 6.3; WOW64; rv:45.0) G...</td>\n",
       "      <td>387</td>\n",
       "      <td>302</td>\n",
       "      <td>REQUEST_GET_ARGS</td>\n",
       "      <td>url</td>\n",
       "      <td>http://thereviewgroup.org/boss-capital/</td>\n",
       "      <td>AVdjekw4q1Ppo9zF6QT2</td>\n",
       "      <td>0</td>\n",
       "      <td>0</td>\n",
       "    </tr>\n",
       "    <tr>\n",
       "      <th>4</th>\n",
       "      <td>66.102.9.44</td>\n",
       "      <td>Mozilla/5.0 (Linux; Android 4.4.2; GT-N7100 Bu...</td>\n",
       "      <td>1733</td>\n",
       "      <td>404</td>\n",
       "      <td>REQUEST_GET_ARGS</td>\n",
       "      <td>REQUEST_GET_ARGS._</td>\n",
       "      <td>1516288084140</td>\n",
       "      <td>SqQGI2QB5cBXmMW1CDbp</td>\n",
       "      <td>0</td>\n",
       "      <td>0</td>\n",
       "    </tr>\n",
       "    <tr>\n",
       "      <th>...</th>\n",
       "      <td>...</td>\n",
       "      <td>...</td>\n",
       "      <td>...</td>\n",
       "      <td>...</td>\n",
       "      <td>...</td>\n",
       "      <td>...</td>\n",
       "      <td>...</td>\n",
       "      <td>...</td>\n",
       "      <td>...</td>\n",
       "      <td>...</td>\n",
       "    </tr>\n",
       "    <tr>\n",
       "      <th>57840</th>\n",
       "      <td>217.175.140.69</td>\n",
       "      <td>MICROSOFT_DEVICE_METADATA_RETRIEVAL_CLIENT</td>\n",
       "      <td>2402</td>\n",
       "      <td>302</td>\n",
       "      <td>REQUEST_XML</td>\n",
       "      <td>REQUEST_XML./s:Envelope/s:Body/DeviceMetadataB...</td>\n",
       "      <td>DOID:USBSTOR\\\\Imation_USB_Flash_Drive_2</td>\n",
       "      <td>tmtVHmQB5cBXmMW1MRdz</td>\n",
       "      <td>0</td>\n",
       "      <td>0</td>\n",
       "    </tr>\n",
       "    <tr>\n",
       "      <th>57841</th>\n",
       "      <td>109.206.151.20</td>\n",
       "      <td>Mozilla/5.0 (Windows NT 10.0; WOW64) AppleWebK...</td>\n",
       "      <td>922</td>\n",
       "      <td>404</td>\n",
       "      <td>REQUEST_GET_ARGS</td>\n",
       "      <td>REQUEST_GET_ARGS._</td>\n",
       "      <td>1516440395935</td>\n",
       "      <td>Am-kHmQB5cBXmMW1YAcE</td>\n",
       "      <td>0</td>\n",
       "      <td>0</td>\n",
       "    </tr>\n",
       "    <tr>\n",
       "      <th>57842</th>\n",
       "      <td>89.23.32.19</td>\n",
       "      <td>Mozilla/5.0 (Windows NT 6.1; Win64; x64; rv:57...</td>\n",
       "      <td>1453</td>\n",
       "      <td>404</td>\n",
       "      <td>REQUEST_COOKIES</td>\n",
       "      <td>REQUEST_COOKIES.User-cn</td>\n",
       "      <td>Николай Харченко</td>\n",
       "      <td>5lKlG2QB5cBXmMW1ghFl</td>\n",
       "      <td>0</td>\n",
       "      <td>0</td>\n",
       "    </tr>\n",
       "    <tr>\n",
       "      <th>57843</th>\n",
       "      <td>194.228.20.50</td>\n",
       "      <td>Mozilla/5.0 (Windows NT 6.1; WOW64; Trident/7....</td>\n",
       "      <td>1550</td>\n",
       "      <td>200</td>\n",
       "      <td>REQUEST_POST_ARGS</td>\n",
       "      <td>REQUEST_POST_ARGS.s_Unids</td>\n",
       "      <td>688D71625B88803CC125818E00471A8D;9915FD3520134...</td>\n",
       "      <td>OsTJ_mMBjksgoq1e2QnM</td>\n",
       "      <td>0</td>\n",
       "      <td>0</td>\n",
       "    </tr>\n",
       "    <tr>\n",
       "      <th>57844</th>\n",
       "      <td>188.43.52.163</td>\n",
       "      <td>curl/7.22.0 (i686-pc-linux-gnu) libcurl/7.22.0...</td>\n",
       "      <td>95832</td>\n",
       "      <td>200</td>\n",
       "      <td>REQUEST_ARGS_KEYS</td>\n",
       "      <td>XâO½#*\u000f«\u001c",
       "WÒ:©¹µMÖ\\täÛk17qòmʂ3³vާÏ?æÞÅË...</td>\n",
       "      <td>XâO½#*\u000f«\u001c",
       "WÒ:©¹µMÖ\\täÛk17qòmʂ3³vާÏ?æÞÅË...</td>\n",
       "      <td>AVdrtwAxq1Ppo9zF-v1_</td>\n",
       "      <td>0</td>\n",
       "      <td>0</td>\n",
       "    </tr>\n",
       "  </tbody>\n",
       "</table>\n",
       "<p>57845 rows × 10 columns</p>\n",
       "</div>"
      ],
      "text/plain": [
       "            CLIENT_IP                                   CLIENT_USERAGENT  \\\n",
       "0       188.138.92.55                                                NaN   \n",
       "1      93.158.215.131  Mozilla/5.0 (Windows NT 6.3; WOW64; rv:45.0) G...   \n",
       "2      176.123.240.64  Mozilla/5.0 (Windows NT 6.0; rv:34.0) Gecko/20...   \n",
       "3         73.78.81.63  Mozilla/5.0 (Windows NT 6.3; WOW64; rv:45.0) G...   \n",
       "4         66.102.9.44  Mozilla/5.0 (Linux; Android 4.4.2; GT-N7100 Bu...   \n",
       "...               ...                                                ...   \n",
       "57840  217.175.140.69         MICROSOFT_DEVICE_METADATA_RETRIEVAL_CLIENT   \n",
       "57841  109.206.151.20  Mozilla/5.0 (Windows NT 10.0; WOW64) AppleWebK...   \n",
       "57842     89.23.32.19  Mozilla/5.0 (Windows NT 6.1; Win64; x64; rv:57...   \n",
       "57843   194.228.20.50  Mozilla/5.0 (Windows NT 6.1; WOW64; Trident/7....   \n",
       "57844   188.43.52.163  curl/7.22.0 (i686-pc-linux-gnu) libcurl/7.22.0...   \n",
       "\n",
       "      REQUEST_SIZE RESPONSE_CODE MATCHED_VARIABLE_SRC  \\\n",
       "0              166           404          REQUEST_URI   \n",
       "1              431           302     REQUEST_GET_ARGS   \n",
       "2              395           403         REQUEST_PATH   \n",
       "3              387           302     REQUEST_GET_ARGS   \n",
       "4             1733           404     REQUEST_GET_ARGS   \n",
       "...            ...           ...                  ...   \n",
       "57840         2402           302          REQUEST_XML   \n",
       "57841          922           404     REQUEST_GET_ARGS   \n",
       "57842         1453           404      REQUEST_COOKIES   \n",
       "57843         1550           200    REQUEST_POST_ARGS   \n",
       "57844        95832           200    REQUEST_ARGS_KEYS   \n",
       "\n",
       "                                   MATCHED_VARIABLE_NAME  \\\n",
       "0                                                    NaN   \n",
       "1                                                    url   \n",
       "2                                                    NaN   \n",
       "3                                                    url   \n",
       "4                                     REQUEST_GET_ARGS._   \n",
       "...                                                  ...   \n",
       "57840  REQUEST_XML./s:Envelope/s:Body/DeviceMetadataB...   \n",
       "57841                                 REQUEST_GET_ARGS._   \n",
       "57842                            REQUEST_COOKIES.User-cn   \n",
       "57843                          REQUEST_POST_ARGS.s_Unids   \n",
       "57844  XâO½#*\u000f«\n",
       "WÒ:©¹µMÖ\\täÛk17qòmʂ3³vާÏ?æÞÅË...   \n",
       "\n",
       "                                  MATCHED_VARIABLE_VALUE  \\\n",
       "0                       //tmp/20160925122692indo.php.vob   \n",
       "1                 http://www.galitsios.gr/?option=com_k2   \n",
       "2           /opinion/page1_3.php\\\" and \\\"\\\"x\\\"\\\"=\\\"\\\"x\\\"   \n",
       "3                http://thereviewgroup.org/boss-capital/   \n",
       "4                                          1516288084140   \n",
       "...                                                  ...   \n",
       "57840            DOID:USBSTOR\\\\Imation_USB_Flash_Drive_2   \n",
       "57841                                      1516440395935   \n",
       "57842                                   Николай Харченко   \n",
       "57843  688D71625B88803CC125818E00471A8D;9915FD3520134...   \n",
       "57844  XâO½#*\u000f«\n",
       "WÒ:©¹µMÖ\\täÛk17qòmʂ3³vާÏ?æÞÅË...   \n",
       "\n",
       "                   EVENT_ID VULN  VULN_BIN  \n",
       "0      AVdhXFgVq1Ppo9zF5Fxu    0         0  \n",
       "1      AVdcJmIIq1Ppo9zF2YIp    0         0  \n",
       "2      iz7SN2YBrgKk_RFNZW_U    0         0  \n",
       "3      AVdjekw4q1Ppo9zF6QT2    0         0  \n",
       "4      SqQGI2QB5cBXmMW1CDbp    0         0  \n",
       "...                     ...  ...       ...  \n",
       "57840  tmtVHmQB5cBXmMW1MRdz    0         0  \n",
       "57841  Am-kHmQB5cBXmMW1YAcE    0         0  \n",
       "57842  5lKlG2QB5cBXmMW1ghFl    0         0  \n",
       "57843  OsTJ_mMBjksgoq1e2QnM    0         0  \n",
       "57844  AVdrtwAxq1Ppo9zF-v1_    0         0  \n",
       "\n",
       "[57845 rows x 10 columns]"
      ]
     },
     "execution_count": 54,
     "metadata": {},
     "output_type": "execute_result"
    }
   ],
   "source": [
    "df"
   ]
  },
  {
   "cell_type": "markdown",
   "id": "1786f6d7-84db-4249-a2fb-6b47740a020d",
   "metadata": {},
   "source": [
    "Соотношение отмеченных \"опасными\" и неотмеченных строк"
   ]
  },
  {
   "cell_type": "code",
   "execution_count": 55,
   "id": "970053a9-0d65-4cfc-b790-c096abf8e94d",
   "metadata": {},
   "outputs": [
    {
     "data": {
      "text/plain": [
       "0                 54948\n",
       "SQL_Injection      1629\n",
       "Path_Traversal     1231\n",
       "XSS                  37\n",
       "Name: VULN, dtype: int64"
      ]
     },
     "execution_count": 55,
     "metadata": {},
     "output_type": "execute_result"
    }
   ],
   "source": [
    "df['VULN'].value_counts()"
   ]
  },
  {
   "cell_type": "code",
   "execution_count": 56,
   "id": "7dae3afd-786e-4e84-a7a4-12d4ef22cf94",
   "metadata": {},
   "outputs": [
    {
     "data": {
      "text/plain": [
       "0    54948\n",
       "1     2897\n",
       "Name: VULN_BIN, dtype: int64"
      ]
     },
     "execution_count": 56,
     "metadata": {},
     "output_type": "execute_result"
    }
   ],
   "source": [
    "df['VULN_BIN'].value_counts()"
   ]
  },
  {
   "cell_type": "markdown",
   "id": "b3a5e0ed-7b9d-416b-835b-b092edc534d9",
   "metadata": {},
   "source": [
    "### Очистка данных"
   ]
  },
  {
   "cell_type": "markdown",
   "id": "26aa546d-66c2-44a2-8b2a-2259fbd20cb8",
   "metadata": {},
   "source": [
    "Удалить некорректные данные"
   ]
  },
  {
   "cell_type": "markdown",
   "id": "6e777638-0445-460b-a465-97cc585d2d45",
   "metadata": {},
   "source": [
    "В которых:\n",
    "1. Есть пропущенные значения\n",
    "2. IP-адрес не совпадает по формату\n",
    "3. Неправильные коды в RESPONSE_CODE"
   ]
  },
  {
   "cell_type": "markdown",
   "id": "163f57aa-0160-4c84-9046-1835051c25c9",
   "metadata": {},
   "source": [
    "#### Неправильные адреса"
   ]
  },
  {
   "cell_type": "markdown",
   "id": "98e1f8c7-6cd3-4af6-bf54-4e792e9104c5",
   "metadata": {},
   "source": [
    "Удалим строки, не подходящие по формату - такие, в которых IP-адрес не соответствует нормальному"
   ]
  },
  {
   "cell_type": "code",
   "execution_count": 57,
   "id": "8aa2606e-dea5-4aee-9cdc-301611b08f5b",
   "metadata": {},
   "outputs": [],
   "source": [
    "df = df.loc[df.CLIENT_IP.str.contains('^(?:\\d{1,3}.){3}\\d{1,3}$|^(?:.{0,4}:){1,7}.{0,4}$', regex=True, na=False)]"
   ]
  },
  {
   "cell_type": "code",
   "execution_count": 58,
   "id": "d5be0e23-ced7-45ba-9bac-46cb41f86eb3",
   "metadata": {},
   "outputs": [
    {
     "data": {
      "text/plain": [
       "(57730, 10)"
      ]
     },
     "execution_count": 58,
     "metadata": {},
     "output_type": "execute_result"
    }
   ],
   "source": [
    "df.shape"
   ]
  },
  {
   "cell_type": "markdown",
   "id": "48750780-6358-40ef-a3f3-e4efba5ed314",
   "metadata": {},
   "source": [
    "Посмотрим, какая часть данных имеет пропущенные значения"
   ]
  },
  {
   "cell_type": "code",
   "execution_count": 59,
   "id": "31e4dda1-8123-4a5d-81fd-81eec58f4635",
   "metadata": {},
   "outputs": [
    {
     "name": "stdout",
     "output_type": "stream",
     "text": [
      "<class 'pandas.core.frame.DataFrame'>\n",
      "Int64Index: 57730 entries, 0 to 57844\n",
      "Data columns (total 10 columns):\n",
      " #   Column                  Non-Null Count  Dtype \n",
      "---  ------                  --------------  ----- \n",
      " 0   CLIENT_IP               57730 non-null  object\n",
      " 1   CLIENT_USERAGENT        57436 non-null  object\n",
      " 2   REQUEST_SIZE            57730 non-null  object\n",
      " 3   RESPONSE_CODE           57730 non-null  object\n",
      " 4   MATCHED_VARIABLE_SRC    57730 non-null  object\n",
      " 5   MATCHED_VARIABLE_NAME   53167 non-null  object\n",
      " 6   MATCHED_VARIABLE_VALUE  57683 non-null  object\n",
      " 7   EVENT_ID                57666 non-null  object\n",
      " 8   VULN                    57730 non-null  object\n",
      " 9   VULN_BIN                57730 non-null  int32 \n",
      "dtypes: int32(1), object(9)\n",
      "memory usage: 4.6+ MB\n"
     ]
    }
   ],
   "source": [
    "df.info()"
   ]
  },
  {
   "cell_type": "markdown",
   "id": "b7e007b8-1ae1-4c45-9e46-bfa7fbef0f77",
   "metadata": {},
   "source": [
    "#### Обработка NaN"
   ]
  },
  {
   "cell_type": "markdown",
   "id": "b60076a0-30ea-4f17-a104-bc8c789c032c",
   "metadata": {},
   "source": [
    "Посмотрим, какая часть \"опасных\" запросов содержит NaN'ы, и какая часть \"нормальных\" запросов их содержит"
   ]
  },
  {
   "cell_type": "markdown",
   "id": "26e9e4a5-7e0d-4d71-a8b7-227b5f1719fa",
   "metadata": {},
   "source": [
    "Среди \"опасных\" запросов"
   ]
  },
  {
   "cell_type": "code",
   "execution_count": 60,
   "id": "c880f33d-fd5b-45c0-833c-93086dfb47e1",
   "metadata": {},
   "outputs": [
    {
     "data": {
      "text/plain": [
       "0.18847083189506386"
      ]
     },
     "execution_count": 60,
     "metadata": {},
     "output_type": "execute_result"
    }
   ],
   "source": [
    "df[(df.isna().any(axis=1)) & (df.VULN_BIN == 1)].shape[0] / df[df.VULN_BIN == 1].shape[0]"
   ]
  },
  {
   "cell_type": "markdown",
   "id": "44f960ad-d64a-40ce-b2bd-b42721f0ff38",
   "metadata": {},
   "source": [
    "Среди \"нормальных\" запросов"
   ]
  },
  {
   "cell_type": "code",
   "execution_count": 61,
   "id": "3ffee400-1406-4bc7-bb35-0957af7e2a10",
   "metadata": {},
   "outputs": [
    {
     "data": {
      "text/plain": [
       "0.07575729943647073"
      ]
     },
     "execution_count": 61,
     "metadata": {},
     "output_type": "execute_result"
    }
   ],
   "source": [
    "df[(df.isna().any(axis=1)) & (df.VULN_BIN == 0)].shape[0] / df[df.VULN_BIN == 0].shape[0]"
   ]
  },
  {
   "cell_type": "markdown",
   "id": "daa76447-5111-4c43-9524-1d7d58cebeb0",
   "metadata": {},
   "source": [
    "Видно, что среди \"опасных\" таких в 3 раза больше (но помним, что мы выделили ещё не все \"опасные\", а только \"избранные\")"
   ]
  },
  {
   "cell_type": "markdown",
   "id": "065df897-efa3-43a2-876b-aa629cab8ebb",
   "metadata": {},
   "source": [
    "##### EVENT_ID"
   ]
  },
  {
   "cell_type": "markdown",
   "id": "0897f57e-2ef3-443d-8664-13b4bbcfe15f",
   "metadata": {},
   "source": [
    "Видно, что некоторое количество данных не имеет EVENT_ID. Посмотрим, что это за данные."
   ]
  },
  {
   "cell_type": "code",
   "execution_count": 62,
   "id": "b65353cb-13a0-4dd7-a423-1e8d2690c254",
   "metadata": {},
   "outputs": [
    {
     "data": {
      "text/html": [
       "<div>\n",
       "<style scoped>\n",
       "    .dataframe tbody tr th:only-of-type {\n",
       "        vertical-align: middle;\n",
       "    }\n",
       "\n",
       "    .dataframe tbody tr th {\n",
       "        vertical-align: top;\n",
       "    }\n",
       "\n",
       "    .dataframe thead th {\n",
       "        text-align: right;\n",
       "    }\n",
       "</style>\n",
       "<table border=\"1\" class=\"dataframe\">\n",
       "  <thead>\n",
       "    <tr style=\"text-align: right;\">\n",
       "      <th></th>\n",
       "      <th>CLIENT_IP</th>\n",
       "      <th>CLIENT_USERAGENT</th>\n",
       "      <th>REQUEST_SIZE</th>\n",
       "      <th>RESPONSE_CODE</th>\n",
       "      <th>MATCHED_VARIABLE_SRC</th>\n",
       "      <th>MATCHED_VARIABLE_NAME</th>\n",
       "      <th>MATCHED_VARIABLE_VALUE</th>\n",
       "      <th>EVENT_ID</th>\n",
       "      <th>VULN</th>\n",
       "      <th>VULN_BIN</th>\n",
       "    </tr>\n",
       "  </thead>\n",
       "  <tbody>\n",
       "    <tr>\n",
       "      <th>1431</th>\n",
       "      <td>188.43.52.163</td>\n",
       "      <td>curl/7.22.0 (i686-pc-linux-gnu) libcurl/7.22.0...</td>\n",
       "      <td>93806</td>\n",
       "      <td>200</td>\n",
       "      <td>REQUEST_POST_ARGS</td>\n",
       "      <td>A</td>\n",
       "      <td>NaN</td>\n",
       "      <td>NaN</td>\n",
       "      <td>0</td>\n",
       "      <td>0</td>\n",
       "    </tr>\n",
       "    <tr>\n",
       "      <th>1921</th>\n",
       "      <td>188.43.52.163</td>\n",
       "      <td>curl/7.22.0 (i686-pc-linux-gnu) libcurl/7.22.0...</td>\n",
       "      <td>113671</td>\n",
       "      <td>200</td>\n",
       "      <td>REQUEST_POST_ARGS</td>\n",
       "      <td>\u0012</td>\n",
       "      <td>©´Üf%&lt;RS1N \u0004æ¦\u001d",
       "\u000fLÔT´\b®ÎP·Ҥ</td>\n",
       "      <td>NaN</td>\n",
       "      <td>0</td>\n",
       "      <td>0</td>\n",
       "    </tr>\n",
       "    <tr>\n",
       "      <th>2552</th>\n",
       "      <td>188.43.52.163</td>\n",
       "      <td>curl/7.22.0 (i686-pc-linux-gnu) libcurl/7.22.0...</td>\n",
       "      <td>93499</td>\n",
       "      <td>200</td>\n",
       "      <td>REQUEST_POST_ARGS</td>\n",
       "      <td>©\u0014æ(4È</td>\n",
       "      <td>NaN</td>\n",
       "      <td>NaN</td>\n",
       "      <td>0</td>\n",
       "      <td>0</td>\n",
       "    </tr>\n",
       "    <tr>\n",
       "      <th>3371</th>\n",
       "      <td>188.43.52.163</td>\n",
       "      <td>curl/7.22.0 (i686-pc-linux-gnu) libcurl/7.22.0...</td>\n",
       "      <td>91927</td>\n",
       "      <td>200</td>\n",
       "      <td>REQUEST_POST_ARGS</td>\n",
       "      <td>©\u0014æ(4È</td>\n",
       "      <td>NaN</td>\n",
       "      <td>NaN</td>\n",
       "      <td>0</td>\n",
       "      <td>0</td>\n",
       "    </tr>\n",
       "    <tr>\n",
       "      <th>5308</th>\n",
       "      <td>188.43.52.163</td>\n",
       "      <td>curl/7.22.0 (i686-pc-linux-gnu) libcurl/7.22.0...</td>\n",
       "      <td>91855</td>\n",
       "      <td>200</td>\n",
       "      <td>REQUEST_POST_ARGS</td>\n",
       "      <td>Õúj¾`2)*õrFÑE\u0014j\u0003)´úm^ 6O¤­¹ô\u0011</td>\n",
       "      <td>NaN</td>\n",
       "      <td>NaN</td>\n",
       "      <td>0</td>\n",
       "      <td>0</td>\n",
       "    </tr>\n",
       "  </tbody>\n",
       "</table>\n",
       "</div>"
      ],
      "text/plain": [
       "          CLIENT_IP                                   CLIENT_USERAGENT  \\\n",
       "1431  188.43.52.163  curl/7.22.0 (i686-pc-linux-gnu) libcurl/7.22.0...   \n",
       "1921  188.43.52.163  curl/7.22.0 (i686-pc-linux-gnu) libcurl/7.22.0...   \n",
       "2552  188.43.52.163  curl/7.22.0 (i686-pc-linux-gnu) libcurl/7.22.0...   \n",
       "3371  188.43.52.163  curl/7.22.0 (i686-pc-linux-gnu) libcurl/7.22.0...   \n",
       "5308  188.43.52.163  curl/7.22.0 (i686-pc-linux-gnu) libcurl/7.22.0...   \n",
       "\n",
       "     REQUEST_SIZE RESPONSE_CODE MATCHED_VARIABLE_SRC  \\\n",
       "1431        93806           200    REQUEST_POST_ARGS   \n",
       "1921       113671           200    REQUEST_POST_ARGS   \n",
       "2552        93499           200    REQUEST_POST_ARGS   \n",
       "3371        91927           200    REQUEST_POST_ARGS   \n",
       "5308        91855           200    REQUEST_POST_ARGS   \n",
       "\n",
       "                 MATCHED_VARIABLE_NAME         MATCHED_VARIABLE_VALUE  \\\n",
       "1431                                 A                            NaN   \n",
       "1921                              \u0012  ©´Üf%<RS1N \u0004æ¦\n",
       "\u000fLÔT´\b®ÎP·Ҥ   \n",
       "2552                            ©\u0014æ(4È                            NaN   \n",
       "3371                            ©\u0014æ(4È                            NaN   \n",
       "5308  Õúj¾`2)*õrFÑE\u0014j\u0003)´úm^ 6O¤­¹ô\u0011                            NaN   \n",
       "\n",
       "     EVENT_ID VULN  VULN_BIN  \n",
       "1431      NaN    0         0  \n",
       "1921      NaN    0         0  \n",
       "2552      NaN    0         0  \n",
       "3371      NaN    0         0  \n",
       "5308      NaN    0         0  "
      ]
     },
     "execution_count": 62,
     "metadata": {},
     "output_type": "execute_result"
    }
   ],
   "source": [
    "df[df.EVENT_ID.isna()].head()"
   ]
  },
  {
   "cell_type": "markdown",
   "id": "87f526ee-cc5e-43a7-8729-d330a96d5e19",
   "metadata": {},
   "source": [
    "Видно, что NaN'ы появляются после строки с нарушенной кодировкой. Восстановить кодировку не удалось - ни по схеме из [статьи](https://habr.com/ru/post/147843/), ни перебором - видимо, что-то было упущено.\n",
    "\n",
    "Глазами видно, что в строках с неуказанным EVENT_ID один и тот же CLIENT_USERAGENT. Проверим:"
   ]
  },
  {
   "cell_type": "code",
   "execution_count": 63,
   "id": "b3979eea-3e77-499d-960a-d3d662bbaa61",
   "metadata": {},
   "outputs": [
    {
     "data": {
      "text/plain": [
       "curl/7.22.0 (i686-pc-linux-gnu) libcurl/7.22.0 OpenSSL/1.0.1 zlib/1.2.3.4 libidn/1.23 librtmp/2.3    63\n",
       "uTorrent/348(110208592)(42576)                                                                        1\n",
       "Name: CLIENT_USERAGENT, dtype: int64"
      ]
     },
     "execution_count": 63,
     "metadata": {},
     "output_type": "execute_result"
    }
   ],
   "source": [
    "df[df.EVENT_ID.isna()].CLIENT_USERAGENT.value_counts()"
   ]
  },
  {
   "cell_type": "code",
   "execution_count": 64,
   "id": "88ed31c0-2379-4fd1-a50c-fc3e39687769",
   "metadata": {},
   "outputs": [
    {
     "data": {
      "text/plain": [
       "REQUEST_GET_ARGS._                                                 11165\n",
       "REQUEST_COOKIES.LtpaToken2                                          3945\n",
       "REQUEST_PATH                                                        3821\n",
       "REQUEST_COOKIES.User-cn                                             2444\n",
       "action                                                              2378\n",
       "                                                                   ...  \n",
       "DETAIL_TEXT                                                            1\n",
       "XâO½#*\u000f«\n",
       "WÒ:©¹µMÖ\\täÛk17qòmʂ3³vޡ¥%f®»                           1\n",
       "srchPat%255B4%255D                                                     1\n",
       "/content/goods/item[25]:Comment                                        1\n",
       "XâO½#*\u000f«\n",
       "WÒ:©¹µMÖ\\täÛk17qòmʂ3³vާÏ?æÞÅË\n",
       "Ëî<\u0002èMkq,,ÜÆì½\u00078        1\n",
       "Name: MATCHED_VARIABLE_NAME, Length: 3209, dtype: int64"
      ]
     },
     "execution_count": 64,
     "metadata": {},
     "output_type": "execute_result"
    }
   ],
   "source": [
    "df.MATCHED_VARIABLE_NAME.value_counts()"
   ]
  },
  {
   "cell_type": "markdown",
   "id": "1dd62f28-f396-4759-8e36-3161f4e5809e",
   "metadata": {},
   "source": [
    "Удалим строки, в которых не указан EVENT_ID"
   ]
  },
  {
   "cell_type": "code",
   "execution_count": 65,
   "id": "3da6129c-7559-447d-afd9-48964ec62431",
   "metadata": {},
   "outputs": [],
   "source": [
    "df = df.loc[~df.EVENT_ID.isna()]"
   ]
  },
  {
   "cell_type": "markdown",
   "id": "d79d15d9-7e25-455f-b98d-526b30ca10a0",
   "metadata": {},
   "source": [
    "##### MATCHED_VARIABLE_VALUE  "
   ]
  },
  {
   "cell_type": "code",
   "execution_count": 66,
   "id": "37de598f-d13d-4689-8d0a-f380739c7972",
   "metadata": {},
   "outputs": [
    {
     "name": "stdout",
     "output_type": "stream",
     "text": [
      "<class 'pandas.core.frame.DataFrame'>\n",
      "Int64Index: 57666 entries, 0 to 57844\n",
      "Data columns (total 10 columns):\n",
      " #   Column                  Non-Null Count  Dtype \n",
      "---  ------                  --------------  ----- \n",
      " 0   CLIENT_IP               57666 non-null  object\n",
      " 1   CLIENT_USERAGENT        57372 non-null  object\n",
      " 2   REQUEST_SIZE            57666 non-null  object\n",
      " 3   RESPONSE_CODE           57666 non-null  object\n",
      " 4   MATCHED_VARIABLE_SRC    57666 non-null  object\n",
      " 5   MATCHED_VARIABLE_NAME   53104 non-null  object\n",
      " 6   MATCHED_VARIABLE_VALUE  57662 non-null  object\n",
      " 7   EVENT_ID                57666 non-null  object\n",
      " 8   VULN                    57666 non-null  object\n",
      " 9   VULN_BIN                57666 non-null  int32 \n",
      "dtypes: int32(1), object(9)\n",
      "memory usage: 4.6+ MB\n"
     ]
    }
   ],
   "source": [
    "df.info()"
   ]
  },
  {
   "cell_type": "markdown",
   "id": "b397a9ea-502d-4acb-b421-312ef60815ca",
   "metadata": {},
   "source": [
    "Видно, что в MATCHED_VARIABLE_VALUE почти нет пропущенных значений. А те, которые есть, возникают из-за некорректного формата предыдущих строк"
   ]
  },
  {
   "cell_type": "code",
   "execution_count": 67,
   "id": "be9ac4de-6e11-4784-a2ed-1f1c74130ad4",
   "metadata": {},
   "outputs": [
    {
     "data": {
      "text/html": [
       "<div>\n",
       "<style scoped>\n",
       "    .dataframe tbody tr th:only-of-type {\n",
       "        vertical-align: middle;\n",
       "    }\n",
       "\n",
       "    .dataframe tbody tr th {\n",
       "        vertical-align: top;\n",
       "    }\n",
       "\n",
       "    .dataframe thead th {\n",
       "        text-align: right;\n",
       "    }\n",
       "</style>\n",
       "<table border=\"1\" class=\"dataframe\">\n",
       "  <thead>\n",
       "    <tr style=\"text-align: right;\">\n",
       "      <th></th>\n",
       "      <th>CLIENT_IP</th>\n",
       "      <th>CLIENT_USERAGENT</th>\n",
       "      <th>REQUEST_SIZE</th>\n",
       "      <th>RESPONSE_CODE</th>\n",
       "      <th>MATCHED_VARIABLE_SRC</th>\n",
       "      <th>MATCHED_VARIABLE_NAME</th>\n",
       "      <th>MATCHED_VARIABLE_VALUE</th>\n",
       "      <th>EVENT_ID</th>\n",
       "      <th>VULN</th>\n",
       "      <th>VULN_BIN</th>\n",
       "    </tr>\n",
       "  </thead>\n",
       "  <tbody>\n",
       "    <tr>\n",
       "      <th>25322</th>\n",
       "      <td>188.43.52.163</td>\n",
       "      <td>curl/7.22.0 (i686-pc-linux-gnu) libcurl/7.22.0...</td>\n",
       "      <td>181025</td>\n",
       "      <td>502</td>\n",
       "      <td>REQUEST_POST_ARGS</td>\n",
       "      <td>#¤õ6|йÁ_$SÏ}ØRÄvÉ#ڲ\u0003ÍæHNÖÚ\u001d",
       "ªGó«m4Çr\u0010\u0017\u0004...</td>\n",
       "      <td>NaN</td>\n",
       "      <td>AVdqSBQlq1Ppo9zF973f</td>\n",
       "      <td>0</td>\n",
       "      <td>0</td>\n",
       "    </tr>\n",
       "    <tr>\n",
       "      <th>35612</th>\n",
       "      <td>188.43.52.163</td>\n",
       "      <td>curl/7.22.0 (i686-pc-linux-gnu) libcurl/7.22.0...</td>\n",
       "      <td>128783</td>\n",
       "      <td>200</td>\n",
       "      <td>REQUEST_POST_ARGS</td>\n",
       "      <td>_6_H$\b!</td>\n",
       "      <td>NaN</td>\n",
       "      <td>AVdeYBALq1Ppo9zF3yvf</td>\n",
       "      <td>0</td>\n",
       "      <td>0</td>\n",
       "    </tr>\n",
       "    <tr>\n",
       "      <th>50754</th>\n",
       "      <td>188.43.52.163</td>\n",
       "      <td>curl/7.22.0 (i686-pc-linux-gnu) libcurl/7.22.0...</td>\n",
       "      <td>86799</td>\n",
       "      <td>200</td>\n",
       "      <td>REQUEST_POST_ARGS</td>\n",
       "      <td>¸õª¸ÏsX±ð*çvjcT°fåѺ¨)\u001c",
       "ú÷«\u0019¬ˀՀzU\u0011OZÈdûXz...</td>\n",
       "      <td>NaN</td>\n",
       "      <td>AVdm4Gy5q1Ppo9zF8W5w</td>\n",
       "      <td>0</td>\n",
       "      <td>0</td>\n",
       "    </tr>\n",
       "    <tr>\n",
       "      <th>51891</th>\n",
       "      <td>188.43.52.163</td>\n",
       "      <td>curl/7.22.0 (i686-pc-linux-gnu) libcurl/7.22.0...</td>\n",
       "      <td>134389</td>\n",
       "      <td>200</td>\n",
       "      <td>REQUEST_POST_ARGS</td>\n",
       "      <td>øï¡üj\\nP\u0003öZ·÷?AUÚÉIùfÚ</td>\n",
       "      <td>NaN</td>\n",
       "      <td>AVdfAvazq1Ppo9zF4KJR</td>\n",
       "      <td>0</td>\n",
       "      <td>0</td>\n",
       "    </tr>\n",
       "  </tbody>\n",
       "</table>\n",
       "</div>"
      ],
      "text/plain": [
       "           CLIENT_IP                                   CLIENT_USERAGENT  \\\n",
       "25322  188.43.52.163  curl/7.22.0 (i686-pc-linux-gnu) libcurl/7.22.0...   \n",
       "35612  188.43.52.163  curl/7.22.0 (i686-pc-linux-gnu) libcurl/7.22.0...   \n",
       "50754  188.43.52.163  curl/7.22.0 (i686-pc-linux-gnu) libcurl/7.22.0...   \n",
       "51891  188.43.52.163  curl/7.22.0 (i686-pc-linux-gnu) libcurl/7.22.0...   \n",
       "\n",
       "      REQUEST_SIZE RESPONSE_CODE MATCHED_VARIABLE_SRC  \\\n",
       "25322       181025           502    REQUEST_POST_ARGS   \n",
       "35612       128783           200    REQUEST_POST_ARGS   \n",
       "50754        86799           200    REQUEST_POST_ARGS   \n",
       "51891       134389           200    REQUEST_POST_ARGS   \n",
       "\n",
       "                                   MATCHED_VARIABLE_NAME  \\\n",
       "25322  #¤õ6|йÁ_$SÏ}ØRÄvÉ#ڲ\u0003ÍæHNÖÚ\n",
       "ªGó«m4Çr\u0010\u0017\u0004...   \n",
       "35612                                           _6_H$\b!   \n",
       "50754  ¸õª¸ÏsX±ð*çvjcT°fåѺ¨)\n",
       "ú÷«\u0019¬ˀՀzU\u0011OZÈdûXz...   \n",
       "51891                           øï¡üj\\nP\u0003öZ·÷?AUÚÉIùfÚ   \n",
       "\n",
       "      MATCHED_VARIABLE_VALUE              EVENT_ID VULN  VULN_BIN  \n",
       "25322                    NaN  AVdqSBQlq1Ppo9zF973f    0         0  \n",
       "35612                    NaN  AVdeYBALq1Ppo9zF3yvf    0         0  \n",
       "50754                    NaN  AVdm4Gy5q1Ppo9zF8W5w    0         0  \n",
       "51891                    NaN  AVdfAvazq1Ppo9zF4KJR    0         0  "
      ]
     },
     "execution_count": 67,
     "metadata": {},
     "output_type": "execute_result"
    }
   ],
   "source": [
    "df[df.MATCHED_VARIABLE_VALUE.isna()]"
   ]
  },
  {
   "cell_type": "markdown",
   "id": "bc0705b0-8738-4301-9713-e7bd4121ca94",
   "metadata": {},
   "source": [
    "Удалим такие строки:"
   ]
  },
  {
   "cell_type": "code",
   "execution_count": 68,
   "id": "35322805-d35b-4438-90bd-698aa8fb6146",
   "metadata": {},
   "outputs": [],
   "source": [
    "df = df.loc[~df.MATCHED_VARIABLE_VALUE.isna()]"
   ]
  },
  {
   "cell_type": "markdown",
   "id": "dde8977b-ded7-49c9-9557-8da6ad5beecf",
   "metadata": {},
   "source": [
    "##### CLIENT_USERAGENT"
   ]
  },
  {
   "cell_type": "code",
   "execution_count": 69,
   "id": "1368bc3b-a2e1-4859-bc44-d60c1388696c",
   "metadata": {},
   "outputs": [
    {
     "name": "stdout",
     "output_type": "stream",
     "text": [
      "<class 'pandas.core.frame.DataFrame'>\n",
      "Int64Index: 57662 entries, 0 to 57844\n",
      "Data columns (total 10 columns):\n",
      " #   Column                  Non-Null Count  Dtype \n",
      "---  ------                  --------------  ----- \n",
      " 0   CLIENT_IP               57662 non-null  object\n",
      " 1   CLIENT_USERAGENT        57368 non-null  object\n",
      " 2   REQUEST_SIZE            57662 non-null  object\n",
      " 3   RESPONSE_CODE           57662 non-null  object\n",
      " 4   MATCHED_VARIABLE_SRC    57662 non-null  object\n",
      " 5   MATCHED_VARIABLE_NAME   53100 non-null  object\n",
      " 6   MATCHED_VARIABLE_VALUE  57662 non-null  object\n",
      " 7   EVENT_ID                57662 non-null  object\n",
      " 8   VULN                    57662 non-null  object\n",
      " 9   VULN_BIN                57662 non-null  int32 \n",
      "dtypes: int32(1), object(9)\n",
      "memory usage: 4.6+ MB\n"
     ]
    }
   ],
   "source": [
    "df.info()"
   ]
  },
  {
   "cell_type": "markdown",
   "id": "7686d2c1-55e2-4819-b6cc-4ee6665f10d2",
   "metadata": {},
   "source": [
    "USERAGENT может быть подменён при отправке запроса. Возможно, это повлияет на данные, которые будет отдавать сервер, и, меняя useragent, злоумышленник получит что-то, к чему ранее доступа не имел, но пока такой вариант рассматривать не будем. В будущем можно было бы сопоставлять, например, IP и useragent на случай изменения последнего (но может быть и легальный сценарий - пользователь использует больше одного браузера или прячет истинный IP за NAT)"
   ]
  },
  {
   "cell_type": "code",
   "execution_count": 70,
   "id": "d4f6b6be-9552-40fa-8eee-4421b8956ba0",
   "metadata": {},
   "outputs": [
    {
     "data": {
      "text/html": [
       "<div>\n",
       "<style scoped>\n",
       "    .dataframe tbody tr th:only-of-type {\n",
       "        vertical-align: middle;\n",
       "    }\n",
       "\n",
       "    .dataframe tbody tr th {\n",
       "        vertical-align: top;\n",
       "    }\n",
       "\n",
       "    .dataframe thead th {\n",
       "        text-align: right;\n",
       "    }\n",
       "</style>\n",
       "<table border=\"1\" class=\"dataframe\">\n",
       "  <thead>\n",
       "    <tr style=\"text-align: right;\">\n",
       "      <th></th>\n",
       "      <th>CLIENT_IP</th>\n",
       "      <th>CLIENT_USERAGENT</th>\n",
       "      <th>REQUEST_SIZE</th>\n",
       "      <th>RESPONSE_CODE</th>\n",
       "      <th>MATCHED_VARIABLE_SRC</th>\n",
       "      <th>MATCHED_VARIABLE_NAME</th>\n",
       "      <th>MATCHED_VARIABLE_VALUE</th>\n",
       "      <th>EVENT_ID</th>\n",
       "      <th>VULN</th>\n",
       "      <th>VULN_BIN</th>\n",
       "    </tr>\n",
       "  </thead>\n",
       "  <tbody>\n",
       "    <tr>\n",
       "      <th>0</th>\n",
       "      <td>188.138.92.55</td>\n",
       "      <td>NaN</td>\n",
       "      <td>166</td>\n",
       "      <td>404</td>\n",
       "      <td>REQUEST_URI</td>\n",
       "      <td>NaN</td>\n",
       "      <td>//tmp/20160925122692indo.php.vob</td>\n",
       "      <td>AVdhXFgVq1Ppo9zF5Fxu</td>\n",
       "      <td>0</td>\n",
       "      <td>0</td>\n",
       "    </tr>\n",
       "    <tr>\n",
       "      <th>84</th>\n",
       "      <td>78.110.50.113</td>\n",
       "      <td>NaN</td>\n",
       "      <td>144</td>\n",
       "      <td>200</td>\n",
       "      <td>REQUEST_URI</td>\n",
       "      <td>NaN</td>\n",
       "      <td>/system/icons/eprodukt/656.jpg</td>\n",
       "      <td>AVdcb202q1Ppo9zF2li5</td>\n",
       "      <td>0</td>\n",
       "      <td>0</td>\n",
       "    </tr>\n",
       "    <tr>\n",
       "      <th>296</th>\n",
       "      <td>188.138.92.55</td>\n",
       "      <td>NaN</td>\n",
       "      <td>161</td>\n",
       "      <td>404</td>\n",
       "      <td>REQUEST_URI</td>\n",
       "      <td>NaN</td>\n",
       "      <td>//tmp/20160925057025indo.php.vob</td>\n",
       "      <td>AVdfv9FHq1Ppo9zF4j0t</td>\n",
       "      <td>0</td>\n",
       "      <td>0</td>\n",
       "    </tr>\n",
       "    <tr>\n",
       "      <th>612</th>\n",
       "      <td>87.242.64.149</td>\n",
       "      <td>NaN</td>\n",
       "      <td>75</td>\n",
       "      <td>200</td>\n",
       "      <td>REQUEST_URI</td>\n",
       "      <td>NaN</td>\n",
       "      <td>/system/galery/cameri/tki83rkd7v3i.jpg</td>\n",
       "      <td>AVdbGEZ8q1Ppo9zF1yNC</td>\n",
       "      <td>0</td>\n",
       "      <td>0</td>\n",
       "    </tr>\n",
       "    <tr>\n",
       "      <th>933</th>\n",
       "      <td>188.138.92.55</td>\n",
       "      <td>NaN</td>\n",
       "      <td>89</td>\n",
       "      <td>404</td>\n",
       "      <td>REQUEST_URI</td>\n",
       "      <td>NaN</td>\n",
       "      <td>//tmp/20160925122283indo.php.vob</td>\n",
       "      <td>AVdhW6rOq1Ppo9zF5Fsp</td>\n",
       "      <td>0</td>\n",
       "      <td>0</td>\n",
       "    </tr>\n",
       "  </tbody>\n",
       "</table>\n",
       "</div>"
      ],
      "text/plain": [
       "         CLIENT_IP CLIENT_USERAGENT REQUEST_SIZE RESPONSE_CODE  \\\n",
       "0    188.138.92.55              NaN          166           404   \n",
       "84   78.110.50.113              NaN          144           200   \n",
       "296  188.138.92.55              NaN          161           404   \n",
       "612  87.242.64.149              NaN           75           200   \n",
       "933  188.138.92.55              NaN           89           404   \n",
       "\n",
       "    MATCHED_VARIABLE_SRC MATCHED_VARIABLE_NAME  \\\n",
       "0            REQUEST_URI                   NaN   \n",
       "84           REQUEST_URI                   NaN   \n",
       "296          REQUEST_URI                   NaN   \n",
       "612          REQUEST_URI                   NaN   \n",
       "933          REQUEST_URI                   NaN   \n",
       "\n",
       "                     MATCHED_VARIABLE_VALUE              EVENT_ID VULN  \\\n",
       "0          //tmp/20160925122692indo.php.vob  AVdhXFgVq1Ppo9zF5Fxu    0   \n",
       "84           /system/icons/eprodukt/656.jpg  AVdcb202q1Ppo9zF2li5    0   \n",
       "296        //tmp/20160925057025indo.php.vob  AVdfv9FHq1Ppo9zF4j0t    0   \n",
       "612  /system/galery/cameri/tki83rkd7v3i.jpg  AVdbGEZ8q1Ppo9zF1yNC    0   \n",
       "933        //tmp/20160925122283indo.php.vob  AVdhW6rOq1Ppo9zF5Fsp    0   \n",
       "\n",
       "     VULN_BIN  \n",
       "0           0  \n",
       "84          0  \n",
       "296         0  \n",
       "612         0  \n",
       "933         0  "
      ]
     },
     "execution_count": 70,
     "metadata": {},
     "output_type": "execute_result"
    }
   ],
   "source": [
    "df[df.CLIENT_USERAGENT.isna()].head()"
   ]
  },
  {
   "cell_type": "markdown",
   "id": "94a5d995-45f0-4e11-bcb0-beefd28893d5",
   "metadata": {},
   "source": [
    "Заменим все пропущенные USERAGENT на default_useragent"
   ]
  },
  {
   "cell_type": "code",
   "execution_count": 71,
   "id": "4a2dfba4-8253-453f-a66e-f635b9500744",
   "metadata": {},
   "outputs": [],
   "source": [
    "df.loc[df.CLIENT_USERAGENT.isna(), 'CLIENT_USERAGENT'] = 'default_useragent'"
   ]
  },
  {
   "cell_type": "markdown",
   "id": "584b9fd4-c2eb-42aa-8e41-fb7f60c62660",
   "metadata": {},
   "source": [
    "##### MATCHED_VARIABLE_NAME"
   ]
  },
  {
   "cell_type": "code",
   "execution_count": 72,
   "id": "98df7995-74dc-4069-9660-fd9d37eef5bf",
   "metadata": {},
   "outputs": [
    {
     "name": "stdout",
     "output_type": "stream",
     "text": [
      "<class 'pandas.core.frame.DataFrame'>\n",
      "Int64Index: 57662 entries, 0 to 57844\n",
      "Data columns (total 10 columns):\n",
      " #   Column                  Non-Null Count  Dtype \n",
      "---  ------                  --------------  ----- \n",
      " 0   CLIENT_IP               57662 non-null  object\n",
      " 1   CLIENT_USERAGENT        57662 non-null  object\n",
      " 2   REQUEST_SIZE            57662 non-null  object\n",
      " 3   RESPONSE_CODE           57662 non-null  object\n",
      " 4   MATCHED_VARIABLE_SRC    57662 non-null  object\n",
      " 5   MATCHED_VARIABLE_NAME   53100 non-null  object\n",
      " 6   MATCHED_VARIABLE_VALUE  57662 non-null  object\n",
      " 7   EVENT_ID                57662 non-null  object\n",
      " 8   VULN                    57662 non-null  object\n",
      " 9   VULN_BIN                57662 non-null  int32 \n",
      "dtypes: int32(1), object(9)\n",
      "memory usage: 4.6+ MB\n"
     ]
    }
   ],
   "source": [
    "df.info()"
   ]
  },
  {
   "cell_type": "markdown",
   "id": "66a6716e-4160-4488-ac33-b18b01fb69f0",
   "metadata": {},
   "source": [
    "Остался последний столбец с пропусками - MATCHED_VARIABLE_NAME. Посмотрим, в каких данных пропуски"
   ]
  },
  {
   "cell_type": "code",
   "execution_count": 73,
   "id": "80f92287-9066-4614-8f35-dd3a50c169e9",
   "metadata": {},
   "outputs": [
    {
     "data": {
      "text/html": [
       "<div>\n",
       "<style scoped>\n",
       "    .dataframe tbody tr th:only-of-type {\n",
       "        vertical-align: middle;\n",
       "    }\n",
       "\n",
       "    .dataframe tbody tr th {\n",
       "        vertical-align: top;\n",
       "    }\n",
       "\n",
       "    .dataframe thead th {\n",
       "        text-align: right;\n",
       "    }\n",
       "</style>\n",
       "<table border=\"1\" class=\"dataframe\">\n",
       "  <thead>\n",
       "    <tr style=\"text-align: right;\">\n",
       "      <th></th>\n",
       "      <th>CLIENT_IP</th>\n",
       "      <th>CLIENT_USERAGENT</th>\n",
       "      <th>REQUEST_SIZE</th>\n",
       "      <th>RESPONSE_CODE</th>\n",
       "      <th>MATCHED_VARIABLE_SRC</th>\n",
       "      <th>MATCHED_VARIABLE_NAME</th>\n",
       "      <th>MATCHED_VARIABLE_VALUE</th>\n",
       "      <th>EVENT_ID</th>\n",
       "      <th>VULN</th>\n",
       "      <th>VULN_BIN</th>\n",
       "    </tr>\n",
       "  </thead>\n",
       "  <tbody>\n",
       "    <tr>\n",
       "      <th>0</th>\n",
       "      <td>188.138.92.55</td>\n",
       "      <td>default_useragent</td>\n",
       "      <td>166</td>\n",
       "      <td>404</td>\n",
       "      <td>REQUEST_URI</td>\n",
       "      <td>NaN</td>\n",
       "      <td>//tmp/20160925122692indo.php.vob</td>\n",
       "      <td>AVdhXFgVq1Ppo9zF5Fxu</td>\n",
       "      <td>0</td>\n",
       "      <td>0</td>\n",
       "    </tr>\n",
       "    <tr>\n",
       "      <th>2</th>\n",
       "      <td>176.123.240.64</td>\n",
       "      <td>Mozilla/5.0 (Windows NT 6.0; rv:34.0) Gecko/20...</td>\n",
       "      <td>395</td>\n",
       "      <td>403</td>\n",
       "      <td>REQUEST_PATH</td>\n",
       "      <td>NaN</td>\n",
       "      <td>/opinion/page1_3.php\\\" and \\\"\\\"x\\\"\\\"=\\\"\\\"x\\\"</td>\n",
       "      <td>iz7SN2YBrgKk_RFNZW_U</td>\n",
       "      <td>0</td>\n",
       "      <td>0</td>\n",
       "    </tr>\n",
       "    <tr>\n",
       "      <th>8</th>\n",
       "      <td>94.50.192.153</td>\n",
       "      <td>Mozilla/5.0 (Windows NT 10.0) AppleWebKit/537....</td>\n",
       "      <td>3786</td>\n",
       "      <td>404</td>\n",
       "      <td>REQUEST_METHOD\\';\\'REQUEST_CONTE</td>\n",
       "      <td>NaN</td>\n",
       "      <td>POST\\';\\'multipart/form-data; boundary=----Web...</td>\n",
       "      <td>irs7_mMBjksgoq1eoQ7a</td>\n",
       "      <td>0</td>\n",
       "      <td>0</td>\n",
       "    </tr>\n",
       "  </tbody>\n",
       "</table>\n",
       "</div>"
      ],
      "text/plain": [
       "        CLIENT_IP                                   CLIENT_USERAGENT  \\\n",
       "0   188.138.92.55                                  default_useragent   \n",
       "2  176.123.240.64  Mozilla/5.0 (Windows NT 6.0; rv:34.0) Gecko/20...   \n",
       "8   94.50.192.153  Mozilla/5.0 (Windows NT 10.0) AppleWebKit/537....   \n",
       "\n",
       "  REQUEST_SIZE RESPONSE_CODE              MATCHED_VARIABLE_SRC  \\\n",
       "0          166           404                       REQUEST_URI   \n",
       "2          395           403                      REQUEST_PATH   \n",
       "8         3786           404  REQUEST_METHOD\\';\\'REQUEST_CONTE   \n",
       "\n",
       "  MATCHED_VARIABLE_NAME                             MATCHED_VARIABLE_VALUE  \\\n",
       "0                   NaN                   //tmp/20160925122692indo.php.vob   \n",
       "2                   NaN       /opinion/page1_3.php\\\" and \\\"\\\"x\\\"\\\"=\\\"\\\"x\\\"   \n",
       "8                   NaN  POST\\';\\'multipart/form-data; boundary=----Web...   \n",
       "\n",
       "               EVENT_ID VULN  VULN_BIN  \n",
       "0  AVdhXFgVq1Ppo9zF5Fxu    0         0  \n",
       "2  iz7SN2YBrgKk_RFNZW_U    0         0  \n",
       "8  irs7_mMBjksgoq1eoQ7a    0         0  "
      ]
     },
     "execution_count": 73,
     "metadata": {},
     "output_type": "execute_result"
    }
   ],
   "source": [
    "df[df.MATCHED_VARIABLE_NAME.isna()].head(3)"
   ]
  },
  {
   "cell_type": "markdown",
   "id": "583bcef2-4c2f-403c-ba87-7018922d2cf1",
   "metadata": {},
   "source": [
    "Посмотрим, какого формата бывают другие значения. Видно, что первая часть (описывающая общий класс) повторяется, а вторая более уникальна."
   ]
  },
  {
   "cell_type": "code",
   "execution_count": 74,
   "id": "97d93f5d-8214-45f1-a0fe-168dc791258b",
   "metadata": {},
   "outputs": [
    {
     "data": {
      "text/plain": [
       "REQUEST_GET_ARGS._                                                                                                                                                                                                             11165\n",
       "REQUEST_COOKIES.LtpaToken2                                                                                                                                                                                                      3945\n",
       "REQUEST_PATH                                                                                                                                                                                                                    3821\n",
       "REQUEST_COOKIES.User-cn                                                                                                                                                                                                         2444\n",
       "action                                                                                                                                                                                                                          2378\n",
       "                                                                                                                                                                                                                               ...  \n",
       "REQUEST_COOKIES.to_checksum                                                                                                                                                                                                        1\n",
       "RESPONSE_HEADERS.x-amz-meta-put-by-correlation-key                                                                                                                                                                                 1\n",
       "REQUEST_POST_ARGS.\\0\\0\\0\\0\\0\\0\\0\\0\\0\\0\\0\\0r`gZ\u0014\\0\\0\\0xF`o                                                                                                                                                                         1\n",
       "https://lh3_googleusercontent_com/-oqZUXxpu5i8/TLw7z2pLhRI/AAAAAAAAAF0/Mc5Axb391nkWJ0StQoqDZGDX1lx7e3OTgCHM/%D1%84%D0%BE%D1%82%D0%BE+%D0%95%D0%BB%D0%B5%D0%BD%D0%B0+%D0%90%D0%BD%D1%82%D0%BE%D1%85%D0%B8%D0%BD%D0%B0+58_jpg        1\n",
       "XâO½#*\u000f«\n",
       "WÒ:©¹µMÖ\\täÛk17qòmʂ3³vާÏ?æÞÅË\n",
       "Ëî<\u0002èMkq,,ÜÆì½\u00078                                                                                                                                                                    1\n",
       "Name: MATCHED_VARIABLE_NAME, Length: 3150, dtype: int64"
      ]
     },
     "execution_count": 74,
     "metadata": {},
     "output_type": "execute_result"
    }
   ],
   "source": [
    "df.MATCHED_VARIABLE_NAME.value_counts()"
   ]
  },
  {
   "cell_type": "markdown",
   "id": "348fdca6-ee5a-4326-a99e-9f554130a8f6",
   "metadata": {},
   "source": [
    "Выделим первую часть в отдельный столбец - возможно, в будущем получится использовать как категориальную переменную"
   ]
  },
  {
   "cell_type": "code",
   "execution_count": 75,
   "id": "d605cdda-26e5-412a-a5fd-70df6845ea4e",
   "metadata": {},
   "outputs": [],
   "source": [
    "df['MATCHED_VARIABLE_NAME_FIRST'] = df['MATCHED_VARIABLE_NAME'].str.split('.').str[0]"
   ]
  },
  {
   "cell_type": "markdown",
   "id": "cfd28c79-3862-4a5f-9084-3e6734319d84",
   "metadata": {},
   "source": [
    "Остаётся много вариантов VARIABLE_NAME. Можно было бы редкие заменить на самые популярные, и получить топ-50 вариантов, но пока оставим как есть, заменив NaN на заглушку"
   ]
  },
  {
   "cell_type": "code",
   "execution_count": 76,
   "id": "56043695-e2e2-4a01-afd4-fddb6d1d2411",
   "metadata": {},
   "outputs": [
    {
     "data": {
      "text/plain": [
       "REQUEST_GET_ARGS                                                          17102\n",
       "REQUEST_COOKIES                                                            8877\n",
       "REQUEST_HEADERS                                                            4054\n",
       "REQUEST_PATH                                                               3821\n",
       "RESPONSE_HEADERS                                                           3185\n",
       "                                                                          ...  \n",
       "user_inc                                                                      1\n",
       "¹8_%¶}ñ9FÁ\u0019\n",
       "ëX(¶¯¦¾JÇ*çoÍfõJÊßæO$\u0011;#¬¤0¼\u0011øT?hûߠÿ                        1\n",
       "itemid                                                                        1\n",
       "COOKIE;COOKIE%3bnid%3b%2f%3b%2ennn%2eru;/cgi-bin/nph-r_cgi/;studioi_ru        1\n",
       "XâO½#*\u000f«\n",
       "WÒ:©¹µMÖ\\täÛk17qòmʂ3³vާÏ?æÞÅË\n",
       "Ëî<\u0002èMkq,,ÜÆì½\u00078               1\n",
       "Name: MATCHED_VARIABLE_NAME_FIRST, Length: 1847, dtype: int64"
      ]
     },
     "execution_count": 76,
     "metadata": {},
     "output_type": "execute_result"
    }
   ],
   "source": [
    "df.MATCHED_VARIABLE_NAME_FIRST.value_counts()"
   ]
  },
  {
   "cell_type": "markdown",
   "id": "f6ada049-9ae0-48cf-8470-81bd07134819",
   "metadata": {},
   "source": [
    "Удалим лишний столбец"
   ]
  },
  {
   "cell_type": "code",
   "execution_count": 77,
   "id": "d2e66243-f139-4f07-bee5-52c79b387f05",
   "metadata": {},
   "outputs": [],
   "source": [
    "df.drop(columns=['MATCHED_VARIABLE_NAME_FIRST'], inplace=True)"
   ]
  },
  {
   "cell_type": "markdown",
   "id": "80ea6b7e-b486-442f-b8f2-43692a57dd83",
   "metadata": {},
   "source": [
    "Заменим пропущенные значения на заглушку"
   ]
  },
  {
   "cell_type": "code",
   "execution_count": 78,
   "id": "a5375e55-720c-45fd-aee1-12e2185b9a2d",
   "metadata": {},
   "outputs": [],
   "source": [
    "df.loc[df.MATCHED_VARIABLE_NAME.isna(), 'MATCHED_VARIABLE_NAME'] = 'default_variable_name'"
   ]
  },
  {
   "cell_type": "code",
   "execution_count": 79,
   "id": "1ab84399-714f-4178-ae21-c45bee6d5d65",
   "metadata": {},
   "outputs": [
    {
     "name": "stdout",
     "output_type": "stream",
     "text": [
      "<class 'pandas.core.frame.DataFrame'>\n",
      "Int64Index: 57662 entries, 0 to 57844\n",
      "Data columns (total 10 columns):\n",
      " #   Column                  Non-Null Count  Dtype \n",
      "---  ------                  --------------  ----- \n",
      " 0   CLIENT_IP               57662 non-null  object\n",
      " 1   CLIENT_USERAGENT        57662 non-null  object\n",
      " 2   REQUEST_SIZE            57662 non-null  object\n",
      " 3   RESPONSE_CODE           57662 non-null  object\n",
      " 4   MATCHED_VARIABLE_SRC    57662 non-null  object\n",
      " 5   MATCHED_VARIABLE_NAME   57662 non-null  object\n",
      " 6   MATCHED_VARIABLE_VALUE  57662 non-null  object\n",
      " 7   EVENT_ID                57662 non-null  object\n",
      " 8   VULN                    57662 non-null  object\n",
      " 9   VULN_BIN                57662 non-null  int32 \n",
      "dtypes: int32(1), object(9)\n",
      "memory usage: 4.6+ MB\n"
     ]
    }
   ],
   "source": [
    "df.info()"
   ]
  },
  {
   "cell_type": "markdown",
   "id": "1dc52669-97be-402b-9747-ac111660460b",
   "metadata": {},
   "source": [
    "Пропущенных значений не осталось. Есть значения со странным форматом, но их обработаем далее - напрмер, с помощью n-gramm"
   ]
  },
  {
   "cell_type": "markdown",
   "id": "37b26991-bfe7-4388-92a5-df16f40880b0",
   "metadata": {},
   "source": [
    "#### Приведение к нужному типу"
   ]
  },
  {
   "cell_type": "markdown",
   "id": "142fb0a5-3027-40a8-b658-454c0e14fc12",
   "metadata": {},
   "source": [
    "Для некоторых полей тип явно не подходит - например, REQUEST_SIZE определённо должен быть числом, чтобы можно было использовать его в модели. Как и RESPONSE_CODE - только последний должен быть категориальной переменной, потому что коды ответов не отличаются по \"размеру\""
   ]
  },
  {
   "cell_type": "markdown",
   "id": "8bfda06d-d23c-418f-89a9-b952fdc9cfbf",
   "metadata": {},
   "source": [
    "- REQUEST_SIZE - числовой\n",
    "- RESPONSE_CODE - категориальный\n",
    "- MATCHED_VARIABLE_NAME - категориальный\n",
    "- MATCHED_VARIABLE_VALUE - сделать BagOfWOrds (n-граммы по 2-3 символа)\n",
    "- CLIENT_USERAGENT - тоже n-граммы\n",
    "- CLIENT_IP - подумать"
   ]
  },
  {
   "cell_type": "code",
   "execution_count": 80,
   "id": "d37d4795-eaca-4282-a282-c638240ade11",
   "metadata": {},
   "outputs": [
    {
     "name": "stdout",
     "output_type": "stream",
     "text": [
      "<class 'pandas.core.frame.DataFrame'>\n",
      "Int64Index: 57662 entries, 0 to 57844\n",
      "Data columns (total 10 columns):\n",
      " #   Column                  Non-Null Count  Dtype \n",
      "---  ------                  --------------  ----- \n",
      " 0   CLIENT_IP               57662 non-null  object\n",
      " 1   CLIENT_USERAGENT        57662 non-null  object\n",
      " 2   REQUEST_SIZE            57662 non-null  object\n",
      " 3   RESPONSE_CODE           57662 non-null  object\n",
      " 4   MATCHED_VARIABLE_SRC    57662 non-null  object\n",
      " 5   MATCHED_VARIABLE_NAME   57662 non-null  object\n",
      " 6   MATCHED_VARIABLE_VALUE  57662 non-null  object\n",
      " 7   EVENT_ID                57662 non-null  object\n",
      " 8   VULN                    57662 non-null  object\n",
      " 9   VULN_BIN                57662 non-null  int32 \n",
      "dtypes: int32(1), object(9)\n",
      "memory usage: 4.6+ MB\n"
     ]
    }
   ],
   "source": [
    "df.info()"
   ]
  },
  {
   "cell_type": "code",
   "execution_count": 81,
   "id": "ff40d381-26fe-4ac3-9780-a089dc7f597f",
   "metadata": {},
   "outputs": [
    {
     "data": {
      "text/plain": [
       "'99956'"
      ]
     },
     "execution_count": 81,
     "metadata": {},
     "output_type": "execute_result"
    }
   ],
   "source": [
    "df.REQUEST_SIZE.max()"
   ]
  },
  {
   "cell_type": "markdown",
   "id": "8b3989f8-9612-4daa-a931-ef6497ba36da",
   "metadata": {},
   "source": [
    "Сделаем длину запроса числом:"
   ]
  },
  {
   "cell_type": "code",
   "execution_count": 82,
   "id": "13b105ec-24de-4227-ab4b-94f6d39bc6f2",
   "metadata": {},
   "outputs": [],
   "source": [
    "df.REQUEST_SIZE = df.REQUEST_SIZE.astype('int32')"
   ]
  },
  {
   "cell_type": "markdown",
   "id": "076ffbf1-6644-434f-b893-7b927c8a5711",
   "metadata": {},
   "source": [
    "Сделаем код ответа категорией:"
   ]
  },
  {
   "cell_type": "code",
   "execution_count": 83,
   "id": "14032684-0b25-4c96-afb9-bb743cf43df4",
   "metadata": {},
   "outputs": [],
   "source": [
    "df.RESPONSE_CODE = df.RESPONSE_CODE.astype('int32')  # category"
   ]
  },
  {
   "cell_type": "code",
   "execution_count": 84,
   "id": "aa127cc8-72d4-4640-9b6b-f6604db04f8a",
   "metadata": {},
   "outputs": [
    {
     "data": {
      "text/plain": [
       "200    25707\n",
       "404    20367\n",
       "302     6630\n",
       "403     1156\n",
       "304      940\n",
       "504      700\n",
       "301      583\n",
       "502      555\n",
       "500      318\n",
       "400      212\n",
       "204      116\n",
       "206       90\n",
       "307       74\n",
       "405       63\n",
       "503       62\n",
       "401       46\n",
       "303       37\n",
       "207        4\n",
       "429        1\n",
       "0          1\n",
       "Name: RESPONSE_CODE, dtype: int64"
      ]
     },
     "execution_count": 84,
     "metadata": {},
     "output_type": "execute_result"
    }
   ],
   "source": [
    "df.RESPONSE_CODE.value_counts()"
   ]
  },
  {
   "cell_type": "code",
   "execution_count": 85,
   "id": "ccd37d82-6f8d-48a1-b98b-b24c0539456b",
   "metadata": {},
   "outputs": [
    {
     "data": {
      "text/plain": [
       "count    57662.000000\n",
       "mean       300.488814\n",
       "std         98.724767\n",
       "min          0.000000\n",
       "25%        200.000000\n",
       "50%        302.000000\n",
       "75%        404.000000\n",
       "max        504.000000\n",
       "Name: RESPONSE_CODE, dtype: float64"
      ]
     },
     "execution_count": 85,
     "metadata": {},
     "output_type": "execute_result"
    }
   ],
   "source": [
    "df.RESPONSE_CODE.describe()"
   ]
  },
  {
   "cell_type": "code",
   "execution_count": 86,
   "id": "8ea06608-11be-43a3-afea-aa402a9a73d0",
   "metadata": {},
   "outputs": [
    {
     "name": "stdout",
     "output_type": "stream",
     "text": [
      "<class 'pandas.core.frame.DataFrame'>\n",
      "Int64Index: 57662 entries, 0 to 57844\n",
      "Data columns (total 10 columns):\n",
      " #   Column                  Non-Null Count  Dtype \n",
      "---  ------                  --------------  ----- \n",
      " 0   CLIENT_IP               57662 non-null  object\n",
      " 1   CLIENT_USERAGENT        57662 non-null  object\n",
      " 2   REQUEST_SIZE            57662 non-null  int32 \n",
      " 3   RESPONSE_CODE           57662 non-null  int32 \n",
      " 4   MATCHED_VARIABLE_SRC    57662 non-null  object\n",
      " 5   MATCHED_VARIABLE_NAME   57662 non-null  object\n",
      " 6   MATCHED_VARIABLE_VALUE  57662 non-null  object\n",
      " 7   EVENT_ID                57662 non-null  object\n",
      " 8   VULN                    57662 non-null  object\n",
      " 9   VULN_BIN                57662 non-null  int32 \n",
      "dtypes: int32(3), object(7)\n",
      "memory usage: 4.2+ MB\n"
     ]
    }
   ],
   "source": [
    "df.info()"
   ]
  },
  {
   "cell_type": "code",
   "execution_count": null,
   "id": "c2635fc2-086d-4577-bf9b-f48ef47d50a4",
   "metadata": {},
   "outputs": [],
   "source": []
  },
  {
   "cell_type": "markdown",
   "id": "589e27fa-4eb7-4cd4-b046-57f47a40198b",
   "metadata": {},
   "source": [
    "Построить корреляции"
   ]
  },
  {
   "cell_type": "code",
   "execution_count": 87,
   "id": "4c30a0cc-287b-41fb-9a97-f9fef6be5d1c",
   "metadata": {},
   "outputs": [
    {
     "data": {
      "text/plain": [
       "<AxesSubplot:xlabel='VULN', ylabel='REQUEST_SIZE'>"
      ]
     },
     "execution_count": 87,
     "metadata": {},
     "output_type": "execute_result"
    },
    {
     "data": {
      "image/png": "[encoded data removed]",
      "text/plain": [
       "<Figure size 640x480 with 1 Axes>"
      ]
     },
     "metadata": {},
     "output_type": "display_data"
    }
   ],
   "source": [
    "sns.boxplot(data=df, x='VULN', y='REQUEST_SIZE')"
   ]
  },
  {
   "cell_type": "code",
   "execution_count": 88,
   "id": "0a492492-1eb8-45b3-80a3-cefccebebe8c",
   "metadata": {},
   "outputs": [
    {
     "data": {
      "text/plain": [
       "<AxesSubplot:xlabel='VULN', ylabel='RESPONSE_CODE'>"
      ]
     },
     "execution_count": 88,
     "metadata": {},
     "output_type": "execute_result"
    },
    {
     "data": {
      "image/png": "[encoded data removed]",
      "text/plain": [
       "<Figure size 640x480 with 1 Axes>"
      ]
     },
     "metadata": {},
     "output_type": "display_data"
    }
   ],
   "source": [
    "sns.boxplot(data=df, x='VULN', y='RESPONSE_CODE')"
   ]
  },
  {
   "cell_type": "markdown",
   "id": "44e79d3e-d226-44a7-a9f6-e0b8f946df9b",
   "metadata": {},
   "source": [
    "# Подход bag of words (с TF-IDF)"
   ]
  },
  {
   "cell_type": "markdown",
   "id": "a7a8109f-2fd0-47f2-9371-afea7a65999c",
   "metadata": {},
   "source": [
    "Задача похожа на задачу текстовой классификации. В качестве текстов - поле \"MATCHED_VARIABLE_VALUE\". Явного разделения на слова нет, поэтому будут использованы n-граммы."
   ]
  },
  {
   "cell_type": "markdown",
   "id": "05f34637-ad1f-4ad8-910f-916f01727819",
   "metadata": {},
   "source": [
    "## Подготовка данных"
   ]
  },
  {
   "cell_type": "markdown",
   "id": "06e36c4a-2906-47ae-aedf-230f3c8f4ba2",
   "metadata": {},
   "source": [
    "Разделение выборки на тренировочную и тестовую в пропорциях, соответствующих распределению классов. И выделение полной выборки для кластеризации"
   ]
  },
  {
   "cell_type": "code",
   "execution_count": 89,
   "id": "1893bc36-4c95-4649-8e55-3d637774c54e",
   "metadata": {
    "tags": []
   },
   "outputs": [],
   "source": [
    "x_train, x_test, y_train, y_test = train_test_split(df.MATCHED_VARIABLE_VALUE, df.VULN_BIN, test_size=0.2, random_state=0, stratify=df.VULN_BIN)\n",
    "x_all = df.MATCHED_VARIABLE_VALUE\n",
    "y_all = df.VULN_BIN"
   ]
  },
  {
   "cell_type": "markdown",
   "id": "018e23e6-84ab-4eea-b07d-ec515cc9e3ce",
   "metadata": {},
   "source": [
    "Создание векторизатора (2- и 3-граммы)"
   ]
  },
  {
   "cell_type": "code",
   "execution_count": 90,
   "id": "9daf4102-294d-4de9-9420-04c0ea9ca522",
   "metadata": {},
   "outputs": [],
   "source": [
    "count_vect = CountVectorizer(lowercase=False,  # URL чувствительны к регистру\n",
    "                             max_features=500,  # отбросим редко появляющиеся признаки\n",
    "                             ngram_range=(2,3),\n",
    "                             analyzer='char',\n",
    "                            )"
   ]
  },
  {
   "cell_type": "markdown",
   "id": "c5205744-9be7-41de-9d0c-f4009e73ab9d",
   "metadata": {},
   "source": [
    "Расчёт частот встречаемости слов"
   ]
  },
  {
   "cell_type": "code",
   "execution_count": 91,
   "id": "32e9ce35-9c31-4da3-9155-914e352ce92c",
   "metadata": {},
   "outputs": [],
   "source": [
    "x_all_counts = count_vect.fit_transform(x_all)"
   ]
  },
  {
   "cell_type": "markdown",
   "id": "91345b16-341f-4af7-ac72-eb6995aa314f",
   "metadata": {},
   "source": [
    "Для преобразования частот встречаемости n-грамм в каждом запросе в TF-IDF нужно знать частоты для всей выборки. Обучим преобразователь TF-IDF"
   ]
  },
  {
   "cell_type": "code",
   "execution_count": 92,
   "id": "0c6bff34-4c9b-4437-be62-a35d0d9826b7",
   "metadata": {},
   "outputs": [],
   "source": [
    "tfidf_transformer = TfidfTransformer(use_idf=True).fit(x_all_counts)"
   ]
  },
  {
   "cell_type": "markdown",
   "id": "8694cc27-e4b4-4270-b089-ed1527c67859",
   "metadata": {},
   "source": [
    "Преобразуем исследуемые частоты появления слов в TF-IDF"
   ]
  },
  {
   "cell_type": "code",
   "execution_count": 93,
   "id": "c160a484-eabc-4205-9e8a-091dbe3e96c7",
   "metadata": {},
   "outputs": [],
   "source": [
    "x_all_tfidf = tfidf_transformer.transform(x_all_counts)"
   ]
  },
  {
   "cell_type": "code",
   "execution_count": 94,
   "id": "891a9bed-c8bc-4442-8680-247a2f6fa862",
   "metadata": {},
   "outputs": [
    {
     "data": {
      "text/plain": [
       "(57662, 500)"
      ]
     },
     "execution_count": 94,
     "metadata": {},
     "output_type": "execute_result"
    }
   ],
   "source": [
    "x_all_tfidf.shape"
   ]
  },
  {
   "cell_type": "markdown",
   "id": "f839e99d-edf6-470b-bdf3-07e84d402b46",
   "metadata": {},
   "source": [
    "Аналогичную работу проведём для тренировочной выборки, чтобы в будущем обучить классификатор. Для тестовой сымитируем ситуацию, в которой векторизатор не видел новые (тестовые) n-граммы"
   ]
  },
  {
   "cell_type": "code",
   "execution_count": 95,
   "id": "ceaf685c-a58a-4604-a6de-0203e6ff09cc",
   "metadata": {},
   "outputs": [
    {
     "name": "stdout",
     "output_type": "stream",
     "text": [
      "Wall time: 20 s\n"
     ]
    }
   ],
   "source": [
    "%%time\n",
    "count_vect = CountVectorizer(lowercase=False,  # URL чувствительны к регистру\n",
    "                             max_features=500,  # отбросим редко появляющиеся признаки\n",
    "                             ngram_range=(2,3),\n",
    "                             analyzer='char',\n",
    "                            )\n",
    "count_vect = count_vect.fit(x_train)\n",
    "x_train_counts = count_vect.transform(x_train)\n",
    "x_test_counts = count_vect.transform(x_test)\n",
    "\n",
    "tfidf_transformer = TfidfTransformer(use_idf=True).fit(x_train_counts)\n",
    "x_train_tfidf = tfidf_transformer.transform(x_train_counts)\n",
    "x_test_tfidf = tfidf_transformer.transform(x_test_counts)"
   ]
  },
  {
   "cell_type": "markdown",
   "id": "7f7032e0-1b90-4d1c-85fb-b7f98297b360",
   "metadata": {},
   "source": [
    "## Понижение размерности"
   ]
  },
  {
   "cell_type": "markdown",
   "id": "8e07a17c-485f-4873-a186-edf812d6a329",
   "metadata": {},
   "source": [
    "Попробуем уменьшить размерность полученного вектора, чтобы визуально оценить разделимость данных"
   ]
  },
  {
   "cell_type": "markdown",
   "id": "25335074-2b74-4796-8206-3aa127799e8e",
   "metadata": {},
   "source": [
    "PCA из sklearn не умеет работать с разреженными данными. Поэтому для него разожмём в массивы. Понизим размерность пространства признаков до трёхмерного"
   ]
  },
  {
   "cell_type": "code",
   "execution_count": 96,
   "id": "aaae098c-5472-4d17-8143-60875ffaef8a",
   "metadata": {},
   "outputs": [],
   "source": [
    "embedder_model = PCA(3)\n",
    "x_pca = embedder_model.fit_transform(x_all_tfidf.toarray())"
   ]
  },
  {
   "cell_type": "markdown",
   "id": "9d75595e-c40e-413e-8eb4-c7c173f3780f",
   "metadata": {},
   "source": [
    "Нарисуем на картинке"
   ]
  },
  {
   "cell_type": "code",
   "execution_count": 97,
   "id": "522cc02f-4dfc-4708-9af3-98eec3bb55c9",
   "metadata": {},
   "outputs": [
    {
     "data": {
      "image/png": "[encoded data removed]",
      "text/plain": [
       "<Figure size 640x480 with 1 Axes>"
      ]
     },
     "metadata": {},
     "output_type": "display_data"
    }
   ],
   "source": [
    "ax = plt.figure().add_subplot(projection='3d')\n",
    "ax.scatter(x_pca[:,0], x_pca[:,1], x_pca[:,2], c=y_all)\n",
    "plt.show()"
   ]
  },
  {
   "cell_type": "markdown",
   "id": "5bcf9737-cb62-445f-9f66-6573ff7282fa",
   "metadata": {},
   "source": [
    "И то же самое для отдельных выделенных классов"
   ]
  },
  {
   "cell_type": "code",
   "execution_count": 98,
   "id": "9ef88fea-4913-4b80-87b8-698b8a104f64",
   "metadata": {},
   "outputs": [
    {
     "data": {
      "text/plain": [
       "array([0, 'SQL_Injection', 'Path_Traversal', 'XSS'], dtype=object)"
      ]
     },
     "execution_count": 98,
     "metadata": {},
     "output_type": "execute_result"
    }
   ],
   "source": [
    "df.VULN.unique()"
   ]
  },
  {
   "cell_type": "code",
   "execution_count": 99,
   "id": "5831436f-1b75-431b-b124-49a5078fbdba",
   "metadata": {},
   "outputs": [
    {
     "data": {
      "image/png": "[encoded data removed]",
      "text/plain": [
       "<Figure size 640x480 with 1 Axes>"
      ]
     },
     "metadata": {},
     "output_type": "display_data"
    }
   ],
   "source": [
    "ax = plt.figure().add_subplot(projection='3d')\n",
    "ax.scatter(x_pca[:,0], x_pca[:,1], x_pca[:,2], c=df.VULN.map({'SQL_Injection': 1, 'Path_Traversal': 2, 'XSS': 3}))\n",
    "plt.show()"
   ]
  },
  {
   "cell_type": "markdown",
   "id": "90a7ecc2-d4bd-41e9-94df-f38fd01c2402",
   "metadata": {},
   "source": [
    "Попробуем то же самое в 2D"
   ]
  },
  {
   "cell_type": "code",
   "execution_count": 100,
   "id": "2acf47ae-33fc-4f0c-a0d3-8239f97babb7",
   "metadata": {},
   "outputs": [
    {
     "data": {
      "text/plain": [
       "<matplotlib.collections.PathCollection at 0x1ca50cfae90>"
      ]
     },
     "execution_count": 100,
     "metadata": {},
     "output_type": "execute_result"
    },
    {
     "data": {
      "image/png": "[encoded data removed]",
      "text/plain": [
       "<Figure size 640x480 with 1 Axes>"
      ]
     },
     "metadata": {},
     "output_type": "display_data"
    }
   ],
   "source": [
    "embedder_model = PCA(2)\n",
    "x_pca = embedder_model.fit_transform(x_all_tfidf.toarray())\n",
    "plt.scatter(x_pca[:,0], x_pca[:,1], c=y_all)"
   ]
  },
  {
   "cell_type": "code",
   "execution_count": 101,
   "id": "66bb91eb-09ea-4e82-bea6-cc4228ec96fd",
   "metadata": {},
   "outputs": [
    {
     "data": {
      "text/plain": [
       "<matplotlib.collections.PathCollection at 0x1ca51a31a80>"
      ]
     },
     "execution_count": 101,
     "metadata": {},
     "output_type": "execute_result"
    },
    {
     "data": {
      "image/png": "[encoded data removed]",
      "text/plain": [
       "<Figure size 640x480 with 1 Axes>"
      ]
     },
     "metadata": {},
     "output_type": "display_data"
    }
   ],
   "source": [
    "plt.scatter(x_pca[:,0], x_pca[:,1], c=df.VULN.map({'SQL_Injection': 1, 'Path_Traversal': 2, 'XSS': 3}))"
   ]
  },
  {
   "cell_type": "markdown",
   "id": "a5407b4f-0d78-44b9-8abd-278483d3c806",
   "metadata": {},
   "source": [
    "Видно, что, хотя часть данных и перемешана, всё равно классы визуально (после уменьшения размерности) разделяются."
   ]
  },
  {
   "cell_type": "markdown",
   "id": "82623778-ffba-4ccc-918e-81a100644db3",
   "metadata": {},
   "source": [
    "## Кластеризация и доразметка"
   ]
  },
  {
   "cell_type": "markdown",
   "id": "6b6f9c4d-35d1-441d-a62e-bf0cc44b3868",
   "metadata": {},
   "source": [
    "Попробуем кластеризовать имеющиеся данные, чтобы поискать, возможно, дополнительную разметку. Учитывая, что разметили не всю выборку - возможно, получится добавиь к выделенным атакам другие, которые будут замечены при попадании в такой кластер, где уже много атак."
   ]
  },
  {
   "cell_type": "markdown",
   "id": "519913bb-3854-40b5-a461-97330dbf98eb",
   "metadata": {},
   "source": [
    "### KMeans"
   ]
  },
  {
   "cell_type": "code",
   "execution_count": 102,
   "id": "e943a769-753b-445c-ad9a-5159484127ba",
   "metadata": {},
   "outputs": [
    {
     "name": "stdout",
     "output_type": "stream",
     "text": [
      "Wall time: 955 ms\n"
     ]
    }
   ],
   "source": [
    "%%time\n",
    "kmeans = KMeans(\n",
    "        n_clusters=10,\n",
    "        max_iter=100,\n",
    "        n_init=1,\n",
    "        random_state=0,\n",
    "    ).fit(x_all_tfidf)"
   ]
  },
  {
   "cell_type": "markdown",
   "id": "8ae1dc2d-96b6-4eb9-bf10-5633d0cc69be",
   "metadata": {},
   "source": [
    "Посмотрим, какая часть элементов в каждом кластере относится к вредоносной"
   ]
  },
  {
   "cell_type": "code",
   "execution_count": 103,
   "id": "c30e5908-0e14-4f0a-8659-b21e8d1107c4",
   "metadata": {},
   "outputs": [
    {
     "data": {
      "image/png": "[encoded data removed]",
      "text/plain": [
       "<Figure size 640x480 with 1 Axes>"
      ]
     },
     "metadata": {},
     "output_type": "display_data"
    },
    {
     "name": "stdout",
     "output_type": "stream",
     "text": [
      "Количество элементов в каждом кластере: [ 2790  1998 10637  1464  4676 18190  1428  1039 14685   755]\n"
     ]
    }
   ],
   "source": [
    "df['CLUSTER_NUM'] = kmeans.labels_\n",
    "\n",
    "df_grp = df.groupby('CLUSTER_NUM')\n",
    "\n",
    "part_vuln_in_group = []\n",
    "group_labels = []\n",
    "for group in df_grp.groups.keys():\n",
    "    group_labels.append(group)\n",
    "    part_vuln_in_group.append(df_grp.get_group(group).VULN_BIN.mean())\n",
    "\n",
    "plt.bar(group_labels, part_vuln_in_group)\n",
    "plt.show()\n",
    "\n",
    "cluster_ids, cluster_sizes = np.unique(kmeans.labels_, return_counts=True)\n",
    "print(f\"Количество элементов в каждом кластере: {cluster_sizes}\")"
   ]
  },
  {
   "cell_type": "markdown",
   "id": "4ae56e1a-ad20-4a61-ab68-e05cd6a9e20c",
   "metadata": {},
   "source": [
    "Попробуем увеличить количство кластеров. Тут воспользовался подсказкой - оттуда взял предположение про 50 (хотя понятно, что это зависит от признаков)"
   ]
  },
  {
   "cell_type": "code",
   "execution_count": 104,
   "id": "a1b64d97-5a26-4b52-bffc-f1d20c206719",
   "metadata": {},
   "outputs": [],
   "source": [
    "kmeans = KMeans(\n",
    "        n_clusters=50,\n",
    "        max_iter=100,\n",
    "        n_init=1,\n",
    "        random_state=0,\n",
    "    ).fit(x_all_tfidf)"
   ]
  },
  {
   "cell_type": "code",
   "execution_count": 105,
   "id": "0ef96bfd-8b4b-46ef-acfd-fa13b35d4a9d",
   "metadata": {},
   "outputs": [
    {
     "data": {
      "image/png": "[encoded data removed]",
      "text/plain": [
       "<Figure size 640x480 with 1 Axes>"
      ]
     },
     "metadata": {},
     "output_type": "display_data"
    }
   ],
   "source": [
    "df['CLUSTER_NUM'] = kmeans.labels_\n",
    "df_grp = df.groupby('CLUSTER_NUM')\n",
    "\n",
    "part_vuln_in_group = []\n",
    "group_labels = []\n",
    "for group in df_grp.groups.keys():\n",
    "    group_labels.append(group)\n",
    "    part_vuln_in_group.append(df_grp.get_group(group).VULN_BIN.mean())\n",
    "\n",
    "plt.bar(group_labels, part_vuln_in_group)\n",
    "plt.grid()\n",
    "plt.show()"
   ]
  },
  {
   "cell_type": "markdown",
   "id": "151c5976-85c8-4e73-a69d-b0b93a13c713",
   "metadata": {},
   "source": [
    "Посмотрим, какие запросы попали в группу №11 (в которой почти 100% - запросы, размеченные как опасные)"
   ]
  },
  {
   "cell_type": "code",
   "execution_count": 106,
   "id": "380fe495-87fa-43be-a3c9-ec0798a6d975",
   "metadata": {},
   "outputs": [
    {
     "data": {
      "text/plain": [
       "Path_Traversal    706\n",
       "SQL_Injection      37\n",
       "0                   8\n",
       "Name: VULN, dtype: int64"
      ]
     },
     "execution_count": 106,
     "metadata": {},
     "output_type": "execute_result"
    }
   ],
   "source": [
    "df[df.CLUSTER_NUM == 11].VULN.value_counts()"
   ]
  },
  {
   "cell_type": "markdown",
   "id": "fdbf0e66-5c8f-4644-b501-b976fdbd6d74",
   "metadata": {},
   "source": [
    "Видно, что это атаки PathTraversal, только на Windows - используется слэш, характерный для этой ОС (в кодировке - это %5C)"
   ]
  },
  {
   "cell_type": "code",
   "execution_count": 107,
   "id": "69be3a7f-091f-4c42-82ea-46626bfa2917",
   "metadata": {},
   "outputs": [
    {
     "data": {
      "text/html": [
       "<div>\n",
       "<style scoped>\n",
       "    .dataframe tbody tr th:only-of-type {\n",
       "        vertical-align: middle;\n",
       "    }\n",
       "\n",
       "    .dataframe tbody tr th {\n",
       "        vertical-align: top;\n",
       "    }\n",
       "\n",
       "    .dataframe thead th {\n",
       "        text-align: right;\n",
       "    }\n",
       "</style>\n",
       "<table border=\"1\" class=\"dataframe\">\n",
       "  <thead>\n",
       "    <tr style=\"text-align: right;\">\n",
       "      <th></th>\n",
       "      <th>CLIENT_IP</th>\n",
       "      <th>CLIENT_USERAGENT</th>\n",
       "      <th>REQUEST_SIZE</th>\n",
       "      <th>RESPONSE_CODE</th>\n",
       "      <th>MATCHED_VARIABLE_SRC</th>\n",
       "      <th>MATCHED_VARIABLE_NAME</th>\n",
       "      <th>MATCHED_VARIABLE_VALUE</th>\n",
       "      <th>EVENT_ID</th>\n",
       "      <th>VULN</th>\n",
       "      <th>VULN_BIN</th>\n",
       "      <th>CLUSTER_NUM</th>\n",
       "    </tr>\n",
       "  </thead>\n",
       "  <tbody>\n",
       "    <tr>\n",
       "      <th>2069</th>\n",
       "      <td>192.168.100.63</td>\n",
       "      <td>Mozilla/5.0 (Windows NT 6.1; WOW64) AppleWebKi...</td>\n",
       "      <td>737</td>\n",
       "      <td>200</td>\n",
       "      <td>REQUEST_ARGS</td>\n",
       "      <td>data_0</td>\n",
       "      <td>{\\\"open\\\"\\\":\\\"\\\"..\\\\/..\\\\/..\\\\/..\\\\/..\\\\/..\\\\/...</td>\n",
       "      <td>lO1kA2QBjksgoq1ekWS1</td>\n",
       "      <td>0</td>\n",
       "      <td>0</td>\n",
       "      <td>11</td>\n",
       "    </tr>\n",
       "    <tr>\n",
       "      <th>2895</th>\n",
       "      <td>192.168.100.63</td>\n",
       "      <td>Mozilla/5.0 (Windows NT 6.1; WOW64) AppleWebKi...</td>\n",
       "      <td>557</td>\n",
       "      <td>400</td>\n",
       "      <td>REQUEST_URI</td>\n",
       "      <td>default_variable_name</td>\n",
       "      <td>/rich/..%5c..%5c..%5c..%5c..%5c..%5c..%5c..%5c...</td>\n",
       "      <td>w_CNA2QBjksgoq1ezR2k</td>\n",
       "      <td>0</td>\n",
       "      <td>0</td>\n",
       "      <td>11</td>\n",
       "    </tr>\n",
       "    <tr>\n",
       "      <th>14320</th>\n",
       "      <td>192.168.100.63</td>\n",
       "      <td>Mozilla/5.0 (Windows NT 6.1; WOW64) AppleWebKi...</td>\n",
       "      <td>581</td>\n",
       "      <td>400</td>\n",
       "      <td>REQUEST_URI</td>\n",
       "      <td>default_variable_name</td>\n",
       "      <td>/zkau/web/56847ef8/zul/images/..%5c..%5c..%5c....</td>\n",
       "      <td>E--FA2QBjksgoq1eZ3aw</td>\n",
       "      <td>0</td>\n",
       "      <td>0</td>\n",
       "      <td>11</td>\n",
       "    </tr>\n",
       "    <tr>\n",
       "      <th>29411</th>\n",
       "      <td>95.161.153.34</td>\n",
       "      <td>Mozilla/5.0 Windows NT 6.3; Win64; x64 AppleWe...</td>\n",
       "      <td>313</td>\n",
       "      <td>302</td>\n",
       "      <td>REQUEST_HEADERS</td>\n",
       "      <td>Connection</td>\n",
       "      <td>..%5C..%5C..%5C..%5C..%5C..%5C..%5C..%5C..%5C....</td>\n",
       "      <td>98K1_mMBjksgoq1eMWru</td>\n",
       "      <td>0</td>\n",
       "      <td>0</td>\n",
       "      <td>11</td>\n",
       "    </tr>\n",
       "    <tr>\n",
       "      <th>37075</th>\n",
       "      <td>192.168.100.63</td>\n",
       "      <td>Mozilla/5.0 (Windows NT 6.1; WOW64) AppleWebKi...</td>\n",
       "      <td>580</td>\n",
       "      <td>400</td>\n",
       "      <td>REQUEST_URI</td>\n",
       "      <td>default_variable_name</td>\n",
       "      <td>/zkau/web/_zv2015121516/..%5c..%5c..%5c..%5c.....</td>\n",
       "      <td>oe-IA2QBjksgoq1es7x7</td>\n",
       "      <td>0</td>\n",
       "      <td>0</td>\n",
       "      <td>11</td>\n",
       "    </tr>\n",
       "    <tr>\n",
       "      <th>37293</th>\n",
       "      <td>95.161.153.34</td>\n",
       "      <td>Mozilla/5.0 Windows NT 6.3; Win64; x64 AppleWe...</td>\n",
       "      <td>318</td>\n",
       "      <td>302</td>\n",
       "      <td>REQUEST_HEADERS</td>\n",
       "      <td>Connection</td>\n",
       "      <td>..%5C..%5C..%5C..%5C..%5C..%5C..%5C..%5C..%5C....</td>\n",
       "      <td>W8PA_mMBjksgoq1e4E59</td>\n",
       "      <td>0</td>\n",
       "      <td>0</td>\n",
       "      <td>11</td>\n",
       "    </tr>\n",
       "    <tr>\n",
       "      <th>39730</th>\n",
       "      <td>192.168.100.63</td>\n",
       "      <td>Mozilla/5.0 (Windows NT 6.1; WOW64) AppleWebKi...</td>\n",
       "      <td>586</td>\n",
       "      <td>400</td>\n",
       "      <td>REQUEST_URI</td>\n",
       "      <td>default_variable_name</td>\n",
       "      <td>/zkau/web/174065ac/zul/images/..%5c..%5c..%5c....</td>\n",
       "      <td>BPGiA2QBjksgoq1eKk3K</td>\n",
       "      <td>0</td>\n",
       "      <td>0</td>\n",
       "      <td>11</td>\n",
       "    </tr>\n",
       "    <tr>\n",
       "      <th>51285</th>\n",
       "      <td>192.168.100.63</td>\n",
       "      <td>Mozilla/5.0 (Windows NT 6.1; WOW64) AppleWebKi...</td>\n",
       "      <td>560</td>\n",
       "      <td>400</td>\n",
       "      <td>REQUEST_URI</td>\n",
       "      <td>default_variable_name</td>\n",
       "      <td>/js/..%5c..%5c..%5c..%5c..%5c..%5c..%5c..%5cwi...</td>\n",
       "      <td>je-EA2QBjksgoq1e8Wye</td>\n",
       "      <td>0</td>\n",
       "      <td>0</td>\n",
       "      <td>11</td>\n",
       "    </tr>\n",
       "  </tbody>\n",
       "</table>\n",
       "</div>"
      ],
      "text/plain": [
       "            CLIENT_IP                                   CLIENT_USERAGENT  \\\n",
       "2069   192.168.100.63  Mozilla/5.0 (Windows NT 6.1; WOW64) AppleWebKi...   \n",
       "2895   192.168.100.63  Mozilla/5.0 (Windows NT 6.1; WOW64) AppleWebKi...   \n",
       "14320  192.168.100.63  Mozilla/5.0 (Windows NT 6.1; WOW64) AppleWebKi...   \n",
       "29411   95.161.153.34  Mozilla/5.0 Windows NT 6.3; Win64; x64 AppleWe...   \n",
       "37075  192.168.100.63  Mozilla/5.0 (Windows NT 6.1; WOW64) AppleWebKi...   \n",
       "37293   95.161.153.34  Mozilla/5.0 Windows NT 6.3; Win64; x64 AppleWe...   \n",
       "39730  192.168.100.63  Mozilla/5.0 (Windows NT 6.1; WOW64) AppleWebKi...   \n",
       "51285  192.168.100.63  Mozilla/5.0 (Windows NT 6.1; WOW64) AppleWebKi...   \n",
       "\n",
       "       REQUEST_SIZE  RESPONSE_CODE MATCHED_VARIABLE_SRC  \\\n",
       "2069            737            200         REQUEST_ARGS   \n",
       "2895            557            400          REQUEST_URI   \n",
       "14320           581            400          REQUEST_URI   \n",
       "29411           313            302      REQUEST_HEADERS   \n",
       "37075           580            400          REQUEST_URI   \n",
       "37293           318            302      REQUEST_HEADERS   \n",
       "39730           586            400          REQUEST_URI   \n",
       "51285           560            400          REQUEST_URI   \n",
       "\n",
       "       MATCHED_VARIABLE_NAME  \\\n",
       "2069                  data_0   \n",
       "2895   default_variable_name   \n",
       "14320  default_variable_name   \n",
       "29411             Connection   \n",
       "37075  default_variable_name   \n",
       "37293             Connection   \n",
       "39730  default_variable_name   \n",
       "51285  default_variable_name   \n",
       "\n",
       "                                  MATCHED_VARIABLE_VALUE  \\\n",
       "2069   {\\\"open\\\"\\\":\\\"\\\"..\\\\/..\\\\/..\\\\/..\\\\/..\\\\/..\\\\/...   \n",
       "2895   /rich/..%5c..%5c..%5c..%5c..%5c..%5c..%5c..%5c...   \n",
       "14320  /zkau/web/56847ef8/zul/images/..%5c..%5c..%5c....   \n",
       "29411  ..%5C..%5C..%5C..%5C..%5C..%5C..%5C..%5C..%5C....   \n",
       "37075  /zkau/web/_zv2015121516/..%5c..%5c..%5c..%5c.....   \n",
       "37293  ..%5C..%5C..%5C..%5C..%5C..%5C..%5C..%5C..%5C....   \n",
       "39730  /zkau/web/174065ac/zul/images/..%5c..%5c..%5c....   \n",
       "51285  /js/..%5c..%5c..%5c..%5c..%5c..%5c..%5c..%5cwi...   \n",
       "\n",
       "                   EVENT_ID VULN  VULN_BIN  CLUSTER_NUM  \n",
       "2069   lO1kA2QBjksgoq1ekWS1    0         0           11  \n",
       "2895   w_CNA2QBjksgoq1ezR2k    0         0           11  \n",
       "14320  E--FA2QBjksgoq1eZ3aw    0         0           11  \n",
       "29411  98K1_mMBjksgoq1eMWru    0         0           11  \n",
       "37075  oe-IA2QBjksgoq1es7x7    0         0           11  \n",
       "37293  W8PA_mMBjksgoq1e4E59    0         0           11  \n",
       "39730  BPGiA2QBjksgoq1eKk3K    0         0           11  \n",
       "51285  je-EA2QBjksgoq1e8Wye    0         0           11  "
      ]
     },
     "execution_count": 107,
     "metadata": {},
     "output_type": "execute_result"
    }
   ],
   "source": [
    "df[(df.CLUSTER_NUM == 11) & (df.VULN_BIN == 0)]"
   ]
  },
  {
   "cell_type": "markdown",
   "id": "5078dbde-84fe-4708-9bbf-310ec77fc500",
   "metadata": {},
   "source": [
    "Доразметим все эти запросы как вредоносные:"
   ]
  },
  {
   "cell_type": "code",
   "execution_count": 108,
   "id": "864f3283-98a6-44b4-8780-e7db3afd8f66",
   "metadata": {},
   "outputs": [],
   "source": [
    "df.loc[(df.CLUSTER_NUM == 11) & (df.VULN_BIN == 0), 'VULN'] = 'Path_Traversal'\n",
    "df.loc[(df.CLUSTER_NUM == 11) & (df.VULN_BIN == 0), 'VULN_BIN'] = 1"
   ]
  },
  {
   "cell_type": "markdown",
   "id": "39e50d41-8256-42ba-a653-7424eb470d2d",
   "metadata": {},
   "source": [
    "Кроме доразметки, получили немного оптимизма - похоже, наши признаки хоть что-то полезное выделяют"
   ]
  },
  {
   "cell_type": "markdown",
   "id": "6aa9d6ad-a735-4ebb-bfdb-d14c2fb3b5a9",
   "metadata": {},
   "source": [
    "Аналогично посмотрим на кластер №20"
   ]
  },
  {
   "cell_type": "code",
   "execution_count": 109,
   "id": "85a395eb-9d14-4757-85b6-e39df2c1689a",
   "metadata": {},
   "outputs": [
    {
     "data": {
      "text/plain": [
       "Path_Traversal    141\n",
       "0                  68\n",
       "SQL_Injection       2\n",
       "Name: VULN, dtype: int64"
      ]
     },
     "execution_count": 109,
     "metadata": {},
     "output_type": "execute_result"
    }
   ],
   "source": [
    "df[df.CLUSTER_NUM == 20].VULN.value_counts()"
   ]
  },
  {
   "cell_type": "markdown",
   "id": "d2262542-b3a6-459a-9de2-adee2b14f4f8",
   "metadata": {},
   "source": [
    "В глаза бросается только /etc/passwd. Обращение к этому файлу - не норма для обычного запроса."
   ]
  },
  {
   "cell_type": "code",
   "execution_count": 110,
   "id": "85529ad0-4fe3-4500-ae99-e62a3d3ae4f8",
   "metadata": {},
   "outputs": [
    {
     "data": {
      "text/html": [
       "<div>\n",
       "<style scoped>\n",
       "    .dataframe tbody tr th:only-of-type {\n",
       "        vertical-align: middle;\n",
       "    }\n",
       "\n",
       "    .dataframe tbody tr th {\n",
       "        vertical-align: top;\n",
       "    }\n",
       "\n",
       "    .dataframe thead th {\n",
       "        text-align: right;\n",
       "    }\n",
       "</style>\n",
       "<table border=\"1\" class=\"dataframe\">\n",
       "  <thead>\n",
       "    <tr style=\"text-align: right;\">\n",
       "      <th></th>\n",
       "      <th>CLIENT_IP</th>\n",
       "      <th>CLIENT_USERAGENT</th>\n",
       "      <th>REQUEST_SIZE</th>\n",
       "      <th>RESPONSE_CODE</th>\n",
       "      <th>MATCHED_VARIABLE_SRC</th>\n",
       "      <th>MATCHED_VARIABLE_NAME</th>\n",
       "      <th>MATCHED_VARIABLE_VALUE</th>\n",
       "      <th>EVENT_ID</th>\n",
       "      <th>VULN</th>\n",
       "      <th>VULN_BIN</th>\n",
       "      <th>CLUSTER_NUM</th>\n",
       "    </tr>\n",
       "  </thead>\n",
       "  <tbody>\n",
       "    <tr>\n",
       "      <th>565</th>\n",
       "      <td>31.13.20.30</td>\n",
       "      <td>Mozilla/5.0 (Windows NT 6.1; Win64; x64) Apple...</td>\n",
       "      <td>823</td>\n",
       "      <td>200</td>\n",
       "      <td>REQUEST_URI</td>\n",
       "      <td>default_variable_name</td>\n",
       "      <td>/etc/pic3518s.jpg</td>\n",
       "      <td>AVdXdiPxq1Ppo9zFzv4k</td>\n",
       "      <td>0</td>\n",
       "      <td>0</td>\n",
       "      <td>20</td>\n",
       "    </tr>\n",
       "    <tr>\n",
       "      <th>1316</th>\n",
       "      <td>54.36.150.23</td>\n",
       "      <td>Mozilla/5.0 (compatible; AhrefsBot/5.2; +http:...</td>\n",
       "      <td>235</td>\n",
       "      <td>302</td>\n",
       "      <td>REQUEST_PATH</td>\n",
       "      <td>REQUEST_PATH</td>\n",
       "      <td>/search/public/ru/DOWNLOAD_IMAGE49/{{_cabinetL...</td>\n",
       "      <td>TU5HG2QB5cBXmMW1PPXp</td>\n",
       "      <td>0</td>\n",
       "      <td>0</td>\n",
       "      <td>20</td>\n",
       "    </tr>\n",
       "    <tr>\n",
       "      <th>5229</th>\n",
       "      <td>185.5.140.253</td>\n",
       "      <td>Mozilla/5.0 (X11; Linux x86_64) AppleWebKit/53...</td>\n",
       "      <td>755</td>\n",
       "      <td>301</td>\n",
       "      <td>REQUEST_GET_ARGS</td>\n",
       "      <td>REQUEST_GET_ARGS.query</td>\n",
       "      <td>query;cat /etc/passwd;</td>\n",
       "      <td>DLMREmQBoRd31uenAIdZ</td>\n",
       "      <td>0</td>\n",
       "      <td>0</td>\n",
       "      <td>20</td>\n",
       "    </tr>\n",
       "    <tr>\n",
       "      <th>5945</th>\n",
       "      <td>178.217.110.17</td>\n",
       "      <td>Mozilla/5.0 (X11; CrOS x86_64 8530.81.0) Apple...</td>\n",
       "      <td>880</td>\n",
       "      <td>200</td>\n",
       "      <td>REQUEST_URI</td>\n",
       "      <td>default_variable_name</td>\n",
       "      <td>/etc/pic3382s.jpg</td>\n",
       "      <td>AVdmuf3Lq1Ppo9zF8Pqf</td>\n",
       "      <td>0</td>\n",
       "      <td>0</td>\n",
       "      <td>20</td>\n",
       "    </tr>\n",
       "    <tr>\n",
       "      <th>6717</th>\n",
       "      <td>68.180.228.240</td>\n",
       "      <td>Mozilla/5.0 (compatible; Yahoo! Slurp; http://...</td>\n",
       "      <td>195</td>\n",
       "      <td>200</td>\n",
       "      <td>REQUEST_URI</td>\n",
       "      <td>default_variable_name</td>\n",
       "      <td>/etc/pic140b.jpg</td>\n",
       "      <td>AVdbFFa9q1Ppo9zF1xyQ</td>\n",
       "      <td>0</td>\n",
       "      <td>0</td>\n",
       "      <td>20</td>\n",
       "    </tr>\n",
       "    <tr>\n",
       "      <th>...</th>\n",
       "      <td>...</td>\n",
       "      <td>...</td>\n",
       "      <td>...</td>\n",
       "      <td>...</td>\n",
       "      <td>...</td>\n",
       "      <td>...</td>\n",
       "      <td>...</td>\n",
       "      <td>...</td>\n",
       "      <td>...</td>\n",
       "      <td>...</td>\n",
       "      <td>...</td>\n",
       "    </tr>\n",
       "    <tr>\n",
       "      <th>57239</th>\n",
       "      <td>185.19.21.252</td>\n",
       "      <td>Mozilla/5.0 (Windows NT 6.1; WOW64) AppleWebKi...</td>\n",
       "      <td>759</td>\n",
       "      <td>200</td>\n",
       "      <td>REQUEST_URI</td>\n",
       "      <td>default_variable_name</td>\n",
       "      <td>/etc/pic3593s.jpg</td>\n",
       "      <td>AVdYKaAzq1Ppo9zF0OOU</td>\n",
       "      <td>0</td>\n",
       "      <td>0</td>\n",
       "      <td>20</td>\n",
       "    </tr>\n",
       "    <tr>\n",
       "      <th>57430</th>\n",
       "      <td>213.87.149.62</td>\n",
       "      <td>Mozilla/5.0 (iPhone; CPU iPhone OS 6_1_2 like ...</td>\n",
       "      <td>906</td>\n",
       "      <td>200</td>\n",
       "      <td>REQUEST_URI</td>\n",
       "      <td>default_variable_name</td>\n",
       "      <td>/etc/pic390s.jpg</td>\n",
       "      <td>AVdYac3Pq1Ppo9zF0X-C</td>\n",
       "      <td>0</td>\n",
       "      <td>0</td>\n",
       "      <td>20</td>\n",
       "    </tr>\n",
       "    <tr>\n",
       "      <th>57508</th>\n",
       "      <td>5.143.231.38</td>\n",
       "      <td>Mozilla/5.0 (compatible; SputnikBot/2.3; +http...</td>\n",
       "      <td>646</td>\n",
       "      <td>200</td>\n",
       "      <td>REQUEST_PATH</td>\n",
       "      <td>REQUEST_PATH</td>\n",
       "      <td>/sitemap/public/ru/med/{{_cabinetLink}}/access...</td>\n",
       "      <td>0Z1qImQB5cBXmMW1qR0T</td>\n",
       "      <td>0</td>\n",
       "      <td>0</td>\n",
       "      <td>20</td>\n",
       "    </tr>\n",
       "    <tr>\n",
       "      <th>57627</th>\n",
       "      <td>213.87.146.135</td>\n",
       "      <td>Mozilla/5.0 (Linux; Android 6.0.1; SGP621 Buil...</td>\n",
       "      <td>805</td>\n",
       "      <td>200</td>\n",
       "      <td>REQUEST_URI</td>\n",
       "      <td>default_variable_name</td>\n",
       "      <td>/etc/pic446s.jpg</td>\n",
       "      <td>AVdWiJy0q1Ppo9zFzAdF</td>\n",
       "      <td>0</td>\n",
       "      <td>0</td>\n",
       "      <td>20</td>\n",
       "    </tr>\n",
       "    <tr>\n",
       "      <th>57678</th>\n",
       "      <td>5.143.231.38</td>\n",
       "      <td>Mozilla/5.0 (compatible; SputnikBot/2.3; +http...</td>\n",
       "      <td>748</td>\n",
       "      <td>404</td>\n",
       "      <td>REQUEST_PATH</td>\n",
       "      <td>REQUEST_PATH</td>\n",
       "      <td>/photogal/public/ru/{{_cabinetLink}}/pass/ref_...</td>\n",
       "      <td>qrW4JGQB5cBXmMW1YtMK</td>\n",
       "      <td>0</td>\n",
       "      <td>0</td>\n",
       "      <td>20</td>\n",
       "    </tr>\n",
       "  </tbody>\n",
       "</table>\n",
       "<p>68 rows × 11 columns</p>\n",
       "</div>"
      ],
      "text/plain": [
       "            CLIENT_IP                                   CLIENT_USERAGENT  \\\n",
       "565       31.13.20.30  Mozilla/5.0 (Windows NT 6.1; Win64; x64) Apple...   \n",
       "1316     54.36.150.23  Mozilla/5.0 (compatible; AhrefsBot/5.2; +http:...   \n",
       "5229    185.5.140.253  Mozilla/5.0 (X11; Linux x86_64) AppleWebKit/53...   \n",
       "5945   178.217.110.17  Mozilla/5.0 (X11; CrOS x86_64 8530.81.0) Apple...   \n",
       "6717   68.180.228.240  Mozilla/5.0 (compatible; Yahoo! Slurp; http://...   \n",
       "...               ...                                                ...   \n",
       "57239   185.19.21.252  Mozilla/5.0 (Windows NT 6.1; WOW64) AppleWebKi...   \n",
       "57430   213.87.149.62  Mozilla/5.0 (iPhone; CPU iPhone OS 6_1_2 like ...   \n",
       "57508    5.143.231.38  Mozilla/5.0 (compatible; SputnikBot/2.3; +http...   \n",
       "57627  213.87.146.135  Mozilla/5.0 (Linux; Android 6.0.1; SGP621 Buil...   \n",
       "57678    5.143.231.38  Mozilla/5.0 (compatible; SputnikBot/2.3; +http...   \n",
       "\n",
       "       REQUEST_SIZE  RESPONSE_CODE MATCHED_VARIABLE_SRC  \\\n",
       "565             823            200          REQUEST_URI   \n",
       "1316            235            302         REQUEST_PATH   \n",
       "5229            755            301     REQUEST_GET_ARGS   \n",
       "5945            880            200          REQUEST_URI   \n",
       "6717            195            200          REQUEST_URI   \n",
       "...             ...            ...                  ...   \n",
       "57239           759            200          REQUEST_URI   \n",
       "57430           906            200          REQUEST_URI   \n",
       "57508           646            200         REQUEST_PATH   \n",
       "57627           805            200          REQUEST_URI   \n",
       "57678           748            404         REQUEST_PATH   \n",
       "\n",
       "        MATCHED_VARIABLE_NAME  \\\n",
       "565     default_variable_name   \n",
       "1316             REQUEST_PATH   \n",
       "5229   REQUEST_GET_ARGS.query   \n",
       "5945    default_variable_name   \n",
       "6717    default_variable_name   \n",
       "...                       ...   \n",
       "57239   default_variable_name   \n",
       "57430   default_variable_name   \n",
       "57508            REQUEST_PATH   \n",
       "57627   default_variable_name   \n",
       "57678            REQUEST_PATH   \n",
       "\n",
       "                                  MATCHED_VARIABLE_VALUE  \\\n",
       "565                                    /etc/pic3518s.jpg   \n",
       "1316   /search/public/ru/DOWNLOAD_IMAGE49/{{_cabinetL...   \n",
       "5229                              query;cat /etc/passwd;   \n",
       "5945                                   /etc/pic3382s.jpg   \n",
       "6717                                    /etc/pic140b.jpg   \n",
       "...                                                  ...   \n",
       "57239                                  /etc/pic3593s.jpg   \n",
       "57430                                   /etc/pic390s.jpg   \n",
       "57508  /sitemap/public/ru/med/{{_cabinetLink}}/access...   \n",
       "57627                                   /etc/pic446s.jpg   \n",
       "57678  /photogal/public/ru/{{_cabinetLink}}/pass/ref_...   \n",
       "\n",
       "                   EVENT_ID VULN  VULN_BIN  CLUSTER_NUM  \n",
       "565    AVdXdiPxq1Ppo9zFzv4k    0         0           20  \n",
       "1316   TU5HG2QB5cBXmMW1PPXp    0         0           20  \n",
       "5229   DLMREmQBoRd31uenAIdZ    0         0           20  \n",
       "5945   AVdmuf3Lq1Ppo9zF8Pqf    0         0           20  \n",
       "6717   AVdbFFa9q1Ppo9zF1xyQ    0         0           20  \n",
       "...                     ...  ...       ...          ...  \n",
       "57239  AVdYKaAzq1Ppo9zF0OOU    0         0           20  \n",
       "57430  AVdYac3Pq1Ppo9zF0X-C    0         0           20  \n",
       "57508  0Z1qImQB5cBXmMW1qR0T    0         0           20  \n",
       "57627  AVdWiJy0q1Ppo9zFzAdF    0         0           20  \n",
       "57678  qrW4JGQB5cBXmMW1YtMK    0         0           20  \n",
       "\n",
       "[68 rows x 11 columns]"
      ]
     },
     "execution_count": 110,
     "metadata": {},
     "output_type": "execute_result"
    }
   ],
   "source": [
    "df[(df.CLUSTER_NUM == 20) & (df.VULN_BIN == 0)]"
   ]
  },
  {
   "cell_type": "markdown",
   "id": "4096b33a-be49-4e2d-9a49-d4b03b4a6815",
   "metadata": {},
   "source": [
    "Доразметим данные - пусть все неразмеченные обращения к /etc/passwd будут опасными. Хотя их и оказалось не так много."
   ]
  },
  {
   "cell_type": "code",
   "execution_count": 111,
   "id": "2afed394-b7fb-4baa-91cb-bf6715ae213b",
   "metadata": {},
   "outputs": [
    {
     "data": {
      "text/html": [
       "<div>\n",
       "<style scoped>\n",
       "    .dataframe tbody tr th:only-of-type {\n",
       "        vertical-align: middle;\n",
       "    }\n",
       "\n",
       "    .dataframe tbody tr th {\n",
       "        vertical-align: top;\n",
       "    }\n",
       "\n",
       "    .dataframe thead th {\n",
       "        text-align: right;\n",
       "    }\n",
       "</style>\n",
       "<table border=\"1\" class=\"dataframe\">\n",
       "  <thead>\n",
       "    <tr style=\"text-align: right;\">\n",
       "      <th></th>\n",
       "      <th>CLIENT_IP</th>\n",
       "      <th>CLIENT_USERAGENT</th>\n",
       "      <th>REQUEST_SIZE</th>\n",
       "      <th>RESPONSE_CODE</th>\n",
       "      <th>MATCHED_VARIABLE_SRC</th>\n",
       "      <th>MATCHED_VARIABLE_NAME</th>\n",
       "      <th>MATCHED_VARIABLE_VALUE</th>\n",
       "      <th>EVENT_ID</th>\n",
       "      <th>VULN</th>\n",
       "      <th>VULN_BIN</th>\n",
       "      <th>CLUSTER_NUM</th>\n",
       "    </tr>\n",
       "  </thead>\n",
       "  <tbody>\n",
       "    <tr>\n",
       "      <th>1479</th>\n",
       "      <td>192.168.100.63</td>\n",
       "      <td>Mozilla/5.0 (Windows NT 6.1; WOW64) AppleWebKi...</td>\n",
       "      <td>646</td>\n",
       "      <td>404</td>\n",
       "      <td>REQUEST_URI</td>\n",
       "      <td>default_variable_name</td>\n",
       "      <td>/css/%c0%ae%c0%ae/%c0%ae%c0%ae/%c0%ae%c0%ae/%c...</td>\n",
       "      <td>Z-50A2QBjksgoq1eTFPh</td>\n",
       "      <td>0</td>\n",
       "      <td>0</td>\n",
       "      <td>6</td>\n",
       "    </tr>\n",
       "    <tr>\n",
       "      <th>5229</th>\n",
       "      <td>185.5.140.253</td>\n",
       "      <td>Mozilla/5.0 (X11; Linux x86_64) AppleWebKit/53...</td>\n",
       "      <td>755</td>\n",
       "      <td>301</td>\n",
       "      <td>REQUEST_GET_ARGS</td>\n",
       "      <td>REQUEST_GET_ARGS.query</td>\n",
       "      <td>query;cat /etc/passwd;</td>\n",
       "      <td>DLMREmQBoRd31uenAIdZ</td>\n",
       "      <td>0</td>\n",
       "      <td>0</td>\n",
       "      <td>20</td>\n",
       "    </tr>\n",
       "    <tr>\n",
       "      <th>14856</th>\n",
       "      <td>192.168.100.63</td>\n",
       "      <td>Mozilla/5.0 (Windows NT 6.1; WOW64) AppleWebKi...</td>\n",
       "      <td>805</td>\n",
       "      <td>404</td>\n",
       "      <td>REQUEST_URI</td>\n",
       "      <td>default_variable_name</td>\n",
       "      <td>/css/%c0%ae%c0%ae%c1%9c%c0%ae%c0%ae%c1%9c%c0%a...</td>\n",
       "      <td>jO1vA2QBjksgoq1eJ_HM</td>\n",
       "      <td>0</td>\n",
       "      <td>0</td>\n",
       "      <td>6</td>\n",
       "    </tr>\n",
       "    <tr>\n",
       "      <th>23162</th>\n",
       "      <td>192.168.100.63</td>\n",
       "      <td>Mozilla/5.0 (Windows NT 6.1; WOW64) AppleWebKi...</td>\n",
       "      <td>660</td>\n",
       "      <td>404</td>\n",
       "      <td>REQUEST_URI</td>\n",
       "      <td>default_variable_name</td>\n",
       "      <td>/zkau/web/174065ac/%c0%ae%c0%ae/%c0%ae%c0%ae/%...</td>\n",
       "      <td>Uu-KA2QBjksgoq1epOhY</td>\n",
       "      <td>0</td>\n",
       "      <td>0</td>\n",
       "      <td>6</td>\n",
       "    </tr>\n",
       "    <tr>\n",
       "      <th>23699</th>\n",
       "      <td>193.169.34.155</td>\n",
       "      <td>Mozilla/5.0 (Windows NT 6.1; WOW64; rv:52.0) G...</td>\n",
       "      <td>223</td>\n",
       "      <td>404</td>\n",
       "      <td>REQUEST_ARGS</td>\n",
       "      <td>amp;nn</td>\n",
       "      <td>`/etc/passwd`</td>\n",
       "      <td>voJ02mMBS0qQ_9B6hjdL</td>\n",
       "      <td>0</td>\n",
       "      <td>0</td>\n",
       "      <td>20</td>\n",
       "    </tr>\n",
       "  </tbody>\n",
       "</table>\n",
       "</div>"
      ],
      "text/plain": [
       "            CLIENT_IP                                   CLIENT_USERAGENT  \\\n",
       "1479   192.168.100.63  Mozilla/5.0 (Windows NT 6.1; WOW64) AppleWebKi...   \n",
       "5229    185.5.140.253  Mozilla/5.0 (X11; Linux x86_64) AppleWebKit/53...   \n",
       "14856  192.168.100.63  Mozilla/5.0 (Windows NT 6.1; WOW64) AppleWebKi...   \n",
       "23162  192.168.100.63  Mozilla/5.0 (Windows NT 6.1; WOW64) AppleWebKi...   \n",
       "23699  193.169.34.155  Mozilla/5.0 (Windows NT 6.1; WOW64; rv:52.0) G...   \n",
       "\n",
       "       REQUEST_SIZE  RESPONSE_CODE MATCHED_VARIABLE_SRC  \\\n",
       "1479            646            404          REQUEST_URI   \n",
       "5229            755            301     REQUEST_GET_ARGS   \n",
       "14856           805            404          REQUEST_URI   \n",
       "23162           660            404          REQUEST_URI   \n",
       "23699           223            404         REQUEST_ARGS   \n",
       "\n",
       "        MATCHED_VARIABLE_NAME  \\\n",
       "1479    default_variable_name   \n",
       "5229   REQUEST_GET_ARGS.query   \n",
       "14856   default_variable_name   \n",
       "23162   default_variable_name   \n",
       "23699                  amp;nn   \n",
       "\n",
       "                                  MATCHED_VARIABLE_VALUE  \\\n",
       "1479   /css/%c0%ae%c0%ae/%c0%ae%c0%ae/%c0%ae%c0%ae/%c...   \n",
       "5229                              query;cat /etc/passwd;   \n",
       "14856  /css/%c0%ae%c0%ae%c1%9c%c0%ae%c0%ae%c1%9c%c0%a...   \n",
       "23162  /zkau/web/174065ac/%c0%ae%c0%ae/%c0%ae%c0%ae/%...   \n",
       "23699                                      `/etc/passwd`   \n",
       "\n",
       "                   EVENT_ID VULN  VULN_BIN  CLUSTER_NUM  \n",
       "1479   Z-50A2QBjksgoq1eTFPh    0         0            6  \n",
       "5229   DLMREmQBoRd31uenAIdZ    0         0           20  \n",
       "14856  jO1vA2QBjksgoq1eJ_HM    0         0            6  \n",
       "23162  Uu-KA2QBjksgoq1epOhY    0         0            6  \n",
       "23699  voJ02mMBS0qQ_9B6hjdL    0         0           20  "
      ]
     },
     "execution_count": 111,
     "metadata": {},
     "output_type": "execute_result"
    }
   ],
   "source": [
    "df[(df.MATCHED_VARIABLE_VALUE.str.contains('/etc/passwd')) & (df.VULN_BIN == 0)]"
   ]
  },
  {
   "cell_type": "code",
   "execution_count": 112,
   "id": "6c9ae7b9-f1d7-45ea-8714-5ab40f4e43ab",
   "metadata": {},
   "outputs": [],
   "source": [
    "df.loc[(df.MATCHED_VARIABLE_VALUE.str.contains('/etc/passwd')) & (df.VULN_BIN == 0), 'VULN'] = 'Path_Traversal'\n",
    "df.loc[(df.MATCHED_VARIABLE_VALUE.str.contains('/etc/passwd')) & (df.VULN_BIN == 0), 'VULN_BIN'] = 1"
   ]
  },
  {
   "cell_type": "markdown",
   "id": "87571fef-76f4-4d4d-9306-c2834a7ee0b0",
   "metadata": {},
   "source": [
    "Заодно посмотрим ещё и обращения к скриптам."
   ]
  },
  {
   "cell_type": "code",
   "execution_count": 113,
   "id": "68255cd4-f8f1-4cb5-8155-a767242a84b8",
   "metadata": {},
   "outputs": [
    {
     "data": {
      "text/plain": [
       "2472     /bin/HS55i56jGB3bSAIi.sh\n",
       "2491     /bin/PvO3tauSA9PatKGv.sh\n",
       "15138    /bin/ljDFqjM47K1qCR0j.sh\n",
       "23278    /bin/u79k8ojFq5C7GDX5.sh\n",
       "24264    /bin/4K09ib44JPGAG33d.sh\n",
       "43819    /bin/210Fs65Pto8KA7h0.sh\n",
       "55736    /bin/oHVb35ul8gh9iGvG.sh\n",
       "55923    /bin/iguS3G0of2hM7x4V.sh\n",
       "Name: MATCHED_VARIABLE_VALUE, dtype: object"
      ]
     },
     "execution_count": 113,
     "metadata": {},
     "output_type": "execute_result"
    }
   ],
   "source": [
    "df[df.MATCHED_VARIABLE_VALUE.str.contains('\\.sh$')].MATCHED_VARIABLE_VALUE"
   ]
  },
  {
   "cell_type": "markdown",
   "id": "da59ec1c-aa6c-4897-b51f-0fe4d3ae068e",
   "metadata": {},
   "source": [
    "Тоже доразметим их как вредоносные"
   ]
  },
  {
   "cell_type": "code",
   "execution_count": 114,
   "id": "f0407ac1-4c24-41ce-a437-5ba369cb10cf",
   "metadata": {},
   "outputs": [],
   "source": [
    "df.loc[(df.MATCHED_VARIABLE_VALUE.str.contains('\\.sh$')) & (df.VULN_BIN == 0), 'VULN'] = 'Remote_Code_Execution'\n",
    "df.loc[(df.MATCHED_VARIABLE_VALUE.str.contains('\\.sh$')) & (df.VULN_BIN == 0), 'VULN_BIN'] = 1"
   ]
  },
  {
   "cell_type": "markdown",
   "id": "edbb2db0-e018-44c6-b692-10c2ff7866b8",
   "metadata": {},
   "source": [
    "Можно было бы ещё посмотреть данные. Но для ускорения попробуем ещё DBSCAN и далее перейдём к созданию самой предсказывающей модели."
   ]
  },
  {
   "cell_type": "markdown",
   "id": "58cdb0fb-d438-4cbc-9f7f-b65c8889ca7c",
   "metadata": {},
   "source": [
    "### DBSCAN"
   ]
  },
  {
   "cell_type": "code",
   "execution_count": 115,
   "id": "1c1e529b-d64c-470a-9b66-be530e504ebc",
   "metadata": {},
   "outputs": [
    {
     "name": "stdout",
     "output_type": "stream",
     "text": [
      "Wall time: 1min 50s\n"
     ]
    }
   ],
   "source": [
    "%%time\n",
    "dbscan = DBSCAN(\n",
    "        eps=0.8,\n",
    "        min_samples=5,\n",
    "        n_jobs=-1\n",
    "    ).fit(x_all_tfidf)"
   ]
  },
  {
   "cell_type": "code",
   "execution_count": 116,
   "id": "ef37dae4-fbff-4414-8c40-b9c058cf7001",
   "metadata": {},
   "outputs": [
    {
     "data": {
      "image/png": "[encoded data removed]",
      "text/plain": [
       "<Figure size 640x480 with 1 Axes>"
      ]
     },
     "metadata": {},
     "output_type": "display_data"
    },
    {
     "name": "stdout",
     "output_type": "stream",
     "text": [
      "Количество элементов в каждом кластере: [    1  1575  1041   430  1215  2556 12075    58   194   909  1487   751\n",
      "   104   632 10009   764  1270   166   189   539   211   739  3480   525\n",
      "   106   385   582   740   281  1023   471   125  1033   288  1208   384\n",
      "  1959   298   399   502  1390   754  1151   361   897   276   387  1326\n",
      "    57   359]\n"
     ]
    }
   ],
   "source": [
    "df['CLUSTER_NUM'] = dbscan.labels_\n",
    "\n",
    "df_grp = df.groupby('CLUSTER_NUM')\n",
    "\n",
    "part_vuln_in_group = []\n",
    "group_labels = []\n",
    "for group in df_grp.groups.keys():\n",
    "    group_labels.append(group)\n",
    "    part_vuln_in_group.append(df_grp.get_group(group).VULN_BIN.mean())\n",
    "\n",
    "plt.bar(group_labels, part_vuln_in_group)\n",
    "plt.show()\n",
    "\n",
    "cluster_ids, cluster_sizes = np.unique(kmeans.labels_, return_counts=True)\n",
    "print(f\"Количество элементов в каждом кластере: {cluster_sizes}\")"
   ]
  },
  {
   "cell_type": "markdown",
   "id": "8b14e348-8cea-40ef-931f-35512d6f596a",
   "metadata": {},
   "source": [
    "Посмотрим, какая часть кластеров содержит только (или почти только) безопасные запросы, какая - смешанные, и какая - опасные."
   ]
  },
  {
   "cell_type": "markdown",
   "id": "54595958-c443-4a2c-9d48-baaf35818426",
   "metadata": {},
   "source": [
    "Видно, что запросы разделяются. Есть ещё несколько кластеров, в которых данные смешались, и для улучшения качества модели можно было бы их доразметить."
   ]
  },
  {
   "cell_type": "code",
   "execution_count": 117,
   "id": "81c888e7-b346-4c76-8e90-159c5a230570",
   "metadata": {},
   "outputs": [
    {
     "data": {
      "text/plain": [
       "<seaborn.axisgrid.FacetGrid at 0x1ca54222890>"
      ]
     },
     "execution_count": 117,
     "metadata": {},
     "output_type": "execute_result"
    },
    {
     "data": {
      "image/png": "[encoded data removed]",
      "text/plain": [
       "<Figure size 500x500 with 1 Axes>"
      ]
     },
     "metadata": {},
     "output_type": "display_data"
    }
   ],
   "source": [
    "sns.displot(part_vuln_in_group, bins = 10)"
   ]
  },
  {
   "cell_type": "markdown",
   "id": "4a8857c2-44b9-43ec-ad90-f7e5d6ad7916",
   "metadata": {},
   "source": [
    "## Классификация"
   ]
  },
  {
   "cell_type": "markdown",
   "id": "d40cf2f0-acd6-473e-bf09-fcfcee2ef909",
   "metadata": {},
   "source": [
    "Какая-то разметка уже подготовлена, теперь можно попробовать собрать модель. Для начала используем самый простой вариант - без дополнительных признаков только по тем TF-IDF, которые нагенерированы выше.\n",
    "\n",
    "В качестве метрики будем смотреть на recall, чтобы пропустить минимум \"опасных\" запросов (минимизировать ложноотрицательные предсказания)"
   ]
  },
  {
   "cell_type": "markdown",
   "id": "b3e50ff2-7813-4ac6-af7c-1ed3d2391a38",
   "metadata": {},
   "source": [
    "### Наивный байесовский классификатор"
   ]
  },
  {
   "cell_type": "markdown",
   "id": "f0736978-0ce4-4e47-81e9-5a8a024429f5",
   "metadata": {},
   "source": [
    "Начнём с наивного байесовского классификатора - он оценивает влияние каждого признака в отдельности в предположении, что признаки не зависят друг от друга"
   ]
  },
  {
   "cell_type": "code",
   "execution_count": 118,
   "id": "66568688-2bc3-4cbe-93a8-76d5db7137dd",
   "metadata": {},
   "outputs": [
    {
     "name": "stdout",
     "output_type": "stream",
     "text": [
      "              precision    recall  f1-score   support\n",
      "\n",
      "           0       0.98      0.99      0.98     10954\n",
      "           1       0.74      0.63      0.68       579\n",
      "\n",
      "    accuracy                           0.97     11533\n",
      "   macro avg       0.86      0.81      0.83     11533\n",
      "weighted avg       0.97      0.97      0.97     11533\n",
      "\n",
      "Wall time: 44 ms\n"
     ]
    }
   ],
   "source": [
    "%%time\n",
    "clf = MultinomialNB().fit(x_train_tfidf, y_train)\n",
    "y_pred = clf.predict(x_test_tfidf)\n",
    "print(metrics.classification_report(y_test, y_pred))"
   ]
  },
  {
   "cell_type": "code",
   "execution_count": 119,
   "id": "ddb8ce15-0290-41e2-b4d0-2654482dd3d0",
   "metadata": {},
   "outputs": [
    {
     "name": "stdout",
     "output_type": "stream",
     "text": [
      "              precision    recall  f1-score   support\n",
      "\n",
      "           0       0.99      0.89      0.94     10954\n",
      "           1       0.31      0.90      0.46       579\n",
      "\n",
      "    accuracy                           0.89     11533\n",
      "   macro avg       0.65      0.90      0.70     11533\n",
      "weighted avg       0.96      0.89      0.92     11533\n",
      "\n",
      "Wall time: 185 ms\n"
     ]
    }
   ],
   "source": [
    "%%time\n",
    "clf = ComplementNB().fit(x_train_tfidf.toarray(), y_train)\n",
    "y_pred = clf.predict(x_test_tfidf.toarray())\n",
    "print(metrics.classification_report(y_test, y_pred))"
   ]
  },
  {
   "cell_type": "markdown",
   "id": "b33a73d7-f0b8-4f2b-971f-6b591a77ab60",
   "metadata": {},
   "source": [
    "### К-ближайших соседей"
   ]
  },
  {
   "cell_type": "code",
   "execution_count": 120,
   "id": "94c91a25-0ea6-46f8-b27e-280407b2eb59",
   "metadata": {},
   "outputs": [
    {
     "name": "stdout",
     "output_type": "stream",
     "text": [
      "              precision    recall  f1-score   support\n",
      "\n",
      "           0       0.99      0.89      0.94     10954\n",
      "           1       0.31      0.90      0.46       579\n",
      "\n",
      "    accuracy                           0.89     11533\n",
      "   macro avg       0.65      0.90      0.70     11533\n",
      "weighted avg       0.96      0.89      0.92     11533\n",
      "\n",
      "Wall time: 87.1 ms\n"
     ]
    }
   ],
   "source": [
    "%%time\n",
    "model = KNeighborsClassifier(n_neighbors=5).fit(x_train_tfidf, y_train)\n",
    "y_pred = clf.predict(x_test_tfidf.toarray())\n",
    "print(metrics.classification_report(y_test, y_pred))"
   ]
  },
  {
   "cell_type": "markdown",
   "id": "6b4d5214-fa2c-4917-a51e-c68c34222910",
   "metadata": {},
   "source": [
    "### SVM"
   ]
  },
  {
   "cell_type": "markdown",
   "id": "2cfbee85-37a1-4b49-82e8-1b8e51f10f2b",
   "metadata": {},
   "source": [
    "Разделяющие плоскости в n-мерном пространстве"
   ]
  },
  {
   "cell_type": "code",
   "execution_count": 121,
   "id": "d5973001-6e75-4c19-a762-71c0f0cd1d5c",
   "metadata": {},
   "outputs": [
    {
     "name": "stdout",
     "output_type": "stream",
     "text": [
      "              precision    recall  f1-score   support\n",
      "\n",
      "           0       0.99      1.00      1.00     10954\n",
      "           1       0.99      0.90      0.94       579\n",
      "\n",
      "    accuracy                           0.99     11533\n",
      "   macro avg       0.99      0.95      0.97     11533\n",
      "weighted avg       0.99      0.99      0.99     11533\n",
      "\n",
      "Wall time: 1min 8s\n"
     ]
    }
   ],
   "source": [
    "%%time\n",
    "clf = SVC().fit(x_train_tfidf, y_train)\n",
    "y_pred = clf.predict(x_test_tfidf)\n",
    "print(metrics.classification_report(y_test, y_pred))"
   ]
  },
  {
   "cell_type": "markdown",
   "id": "2dd396b5-6135-464d-8f05-f41d9beb83cf",
   "metadata": {},
   "source": [
    "### Деревья"
   ]
  },
  {
   "cell_type": "markdown",
   "id": "4118963d-0472-4854-aff0-25c8a01b426a",
   "metadata": {},
   "source": [
    "Набор условий, создаваемый по максимальной информативности"
   ]
  },
  {
   "cell_type": "code",
   "execution_count": 122,
   "id": "d50defde-a380-4b1e-a28d-578caeb67d9c",
   "metadata": {},
   "outputs": [
    {
     "name": "stdout",
     "output_type": "stream",
     "text": [
      "              precision    recall  f1-score   support\n",
      "\n",
      "           0       1.00      1.00      1.00     10954\n",
      "           1       0.94      0.96      0.95       579\n",
      "\n",
      "    accuracy                           0.99     11533\n",
      "   macro avg       0.97      0.98      0.97     11533\n",
      "weighted avg       0.99      0.99      0.99     11533\n",
      "\n",
      "Wall time: 4.79 s\n"
     ]
    }
   ],
   "source": [
    "%%time\n",
    "clf = DecisionTreeClassifier().fit(x_train_tfidf, y_train)\n",
    "y_pred = clf.predict(x_test_tfidf)\n",
    "print(metrics.classification_report(y_test, y_pred))"
   ]
  },
  {
   "cell_type": "markdown",
   "id": "d41a598e-2fd2-4be4-9065-f4953d866f66",
   "metadata": {},
   "source": [
    "### Случайный лес"
   ]
  },
  {
   "cell_type": "markdown",
   "id": "15d76852-a01e-488d-980f-fae13ec4d37a",
   "metadata": {},
   "source": [
    "Набор деревьев, исследующих разные наборы признаков"
   ]
  },
  {
   "cell_type": "code",
   "execution_count": 123,
   "id": "661313ff-1486-4f6e-b7b5-217e0b94039b",
   "metadata": {},
   "outputs": [
    {
     "name": "stdout",
     "output_type": "stream",
     "text": [
      "              precision    recall  f1-score   support\n",
      "\n",
      "           0       1.00      1.00      1.00     10954\n",
      "           1       0.99      0.91      0.95       579\n",
      "\n",
      "    accuracy                           1.00     11533\n",
      "   macro avg       0.99      0.96      0.97     11533\n",
      "weighted avg       1.00      1.00      1.00     11533\n",
      "\n",
      "Wall time: 5.18 s\n"
     ]
    }
   ],
   "source": [
    "%%time\n",
    "clf = RandomForestClassifier(max_depth=50, n_jobs=-1, random_state=0).fit(x_train_tfidf, y_train)\n",
    "y_pred = clf.predict(x_test_tfidf)\n",
    "print(metrics.classification_report(y_test, y_pred))"
   ]
  },
  {
   "cell_type": "markdown",
   "id": "8f62e241-51c2-44eb-ab7e-e74b60e21353",
   "metadata": {},
   "source": [
    "### AdaBoost"
   ]
  },
  {
   "cell_type": "markdown",
   "id": "a47f46ab-5295-4f60-8f8c-d2571428c3ba",
   "metadata": {},
   "source": [
    "Бустинг (поправка на неправильно классифицированных запросах)"
   ]
  },
  {
   "cell_type": "code",
   "execution_count": 124,
   "id": "d0641af9-877a-4750-8d8b-649093b8140a",
   "metadata": {},
   "outputs": [
    {
     "name": "stdout",
     "output_type": "stream",
     "text": [
      "              precision    recall  f1-score   support\n",
      "\n",
      "           0       0.99      1.00      1.00     10954\n",
      "           1       0.95      0.90      0.92       579\n",
      "\n",
      "    accuracy                           0.99     11533\n",
      "   macro avg       0.97      0.95      0.96     11533\n",
      "weighted avg       0.99      0.99      0.99     11533\n",
      "\n",
      "Wall time: 15.7 s\n"
     ]
    }
   ],
   "source": [
    "%%time\n",
    "clf = AdaBoostClassifier(n_estimators=100, random_state=0).fit(x_train_tfidf, y_train)\n",
    "y_pred = clf.predict(x_test_tfidf)\n",
    "print(metrics.classification_report(y_test, y_pred))"
   ]
  },
  {
   "cell_type": "markdown",
   "id": "6321a9ac-f2c5-4e11-8431-f551d5f9e079",
   "metadata": {},
   "source": [
    "## Выбранная модель"
   ]
  },
  {
   "cell_type": "markdown",
   "id": "735c33a4-08fd-49e3-8780-2a9db0e0cd11",
   "metadata": {},
   "source": [
    "В качестве итоговой модели будет использован наивный байесовский классификатор - он показал достаточно хороший результат, должен быть стабилен (результат оценивается независимо по всем признакам), быстро работает."
   ]
  },
  {
   "cell_type": "code",
   "execution_count": 125,
   "id": "d56302e6-ec23-4873-927f-0fc27de5f629",
   "metadata": {},
   "outputs": [
    {
     "name": "stdout",
     "output_type": "stream",
     "text": [
      "              precision    recall  f1-score   support\n",
      "\n",
      "           0       0.99      0.89      0.94     10954\n",
      "           1       0.31      0.90      0.46       579\n",
      "\n",
      "    accuracy                           0.89     11533\n",
      "   macro avg       0.65      0.90      0.70     11533\n",
      "weighted avg       0.96      0.89      0.92     11533\n",
      "\n",
      "Wall time: 28 ms\n"
     ]
    }
   ],
   "source": [
    "%%time\n",
    "clf = ComplementNB().fit(x_train_tfidf, y_train)\n",
    "y_pred = clf.predict(x_test_tfidf)\n",
    "print(metrics.classification_report(y_test, y_pred))"
   ]
  },
  {
   "cell_type": "markdown",
   "id": "3c52e308-cc39-4f96-8c40-f49ff90d3dc9",
   "metadata": {},
   "source": [
    "Для использования в сервисе обучим модель на всём наборе данных:"
   ]
  },
  {
   "cell_type": "code",
   "execution_count": 126,
   "id": "c2160068-c20e-4094-b08d-c4282f2a461e",
   "metadata": {},
   "outputs": [
    {
     "name": "stdout",
     "output_type": "stream",
     "text": [
      "Wall time: 14 ms\n"
     ]
    }
   ],
   "source": [
    "%%time\n",
    "clf = ComplementNB().fit(x_all_tfidf, y_all)"
   ]
  },
  {
   "cell_type": "markdown",
   "id": "0e3225d6-5dd1-4fc1-8b7b-2ae9423b025e",
   "metadata": {},
   "source": [
    "Повторим предсказания для обучающих данных (посмотрим, как модель их зампомнила)"
   ]
  },
  {
   "cell_type": "code",
   "execution_count": 127,
   "id": "a3f5ff3d-bf49-4951-bfa7-af83d9d89429",
   "metadata": {},
   "outputs": [
    {
     "name": "stdout",
     "output_type": "stream",
     "text": [
      "              precision    recall  f1-score   support\n",
      "\n",
      "           0       0.99      0.90      0.94     10954\n",
      "           1       0.31      0.86      0.45       579\n",
      "\n",
      "    accuracy                           0.89     11533\n",
      "   macro avg       0.65      0.88      0.70     11533\n",
      "weighted avg       0.96      0.89      0.92     11533\n",
      "\n",
      "Wall time: 14 ms\n"
     ]
    }
   ],
   "source": [
    "%%time\n",
    "y_pred = clf.predict(x_test_tfidf)\n",
    "print(metrics.classification_report(y_test, y_pred))"
   ]
  },
  {
   "cell_type": "code",
   "execution_count": 128,
   "id": "e7e5e3ad-8053-437c-a28b-fdf1ac43bfcc",
   "metadata": {},
   "outputs": [
    {
     "data": {
      "text/plain": [
       "['requests_model.pkl']"
      ]
     },
     "execution_count": 128,
     "metadata": {},
     "output_type": "execute_result"
    }
   ],
   "source": [
    "joblib.dump(clf, 'data/requests_model.pkl')"
   ]
  },
  {
   "cell_type": "markdown",
   "id": "47b329c7-308c-4c38-9b41-890452ab3536",
   "metadata": {},
   "source": [
    "Для дальнейшего использования загружать так:"
   ]
  },
  {
   "cell_type": "code",
   "execution_count": 129,
   "id": "881bb134-ea88-45ee-8582-d50abef086e1",
   "metadata": {},
   "outputs": [],
   "source": [
    "model_prod = joblib.load('data/requests_model.pkl')"
   ]
  },
  {
   "cell_type": "markdown",
   "id": "78fe1788-082d-4a66-aba4-25a181e7581a",
   "metadata": {},
   "source": [
    "Ещё для использования модели нужно уметь превращать текст в вектора. Чтобы не считать частоты каждый раз при запуске приложения, сохраним данные:"
   ]
  },
  {
   "cell_type": "code",
   "execution_count": 131,
   "id": "1c3546d7-d85a-410c-a7e4-8acfc4f4ecb0",
   "metadata": {},
   "outputs": [
    {
     "name": "stdout",
     "output_type": "stream",
     "text": [
      "Wall time: 13.3 s\n"
     ]
    }
   ],
   "source": [
    "%%time\n",
    "count_vect = CountVectorizer(lowercase=False, max_features=500,\n",
    "                             ngram_range=(2,3), analyzer='char')\n",
    "count_vect = count_vect.fit(x_all)\n",
    "x_all_counts = count_vect.transform(x_all)\n",
    "\n",
    "tfidf_transformer = TfidfTransformer(use_idf=True).fit(x_all_counts)"
   ]
  },
  {
   "cell_type": "code",
   "execution_count": 132,
   "id": "8da61d5f-8cad-4a3d-a109-2e47885e5dbe",
   "metadata": {},
   "outputs": [
    {
     "data": {
      "text/plain": [
       "['requests_count_vect.pkl']"
      ]
     },
     "execution_count": 132,
     "metadata": {},
     "output_type": "execute_result"
    }
   ],
   "source": [
    "joblib.dump(count_vect, 'data/requests_count_vect.pkl')"
   ]
  },
  {
   "cell_type": "code",
   "execution_count": 133,
   "id": "f28798ab-1585-4360-bf2d-d9b318fe3a5b",
   "metadata": {},
   "outputs": [
    {
     "data": {
      "text/plain": [
       "['requests_tfidf_transformer.pkl']"
      ]
     },
     "execution_count": 133,
     "metadata": {},
     "output_type": "execute_result"
    }
   ],
   "source": [
    "joblib.dump(tfidf_transformer, 'data/requests_tfidf_transformer.pkl')"
   ]
  },
  {
   "cell_type": "markdown",
   "id": "1425c56f-3a5a-40b1-83c7-3b88e60dba86",
   "metadata": {},
   "source": [
    "В разделе \"Future work\" указал бы, что можно было бы попробовать использовать другие признаки (сейчас используется только одна колонка) ещё поулучшать модель (как минимум, поэкспериментировать с гиперпараметрами). Можно было бы использовать другие подходы к векторизации текста, другие бустинги, нейросетевой подход.\n",
    "\n",
    "Если получится - разгадать загадку странных символов, ломающих разметку в CSV, но обнаруживающихся в строках со многообещающими вхождениями \"SQL Injection\" и подобными. Посмотреть на EVENT_ID - глазами в нём прослеживается некий шаблон, состоящий из двух частей. Возможно, от этого поля что-то зависит."
   ]
  },
  {
   "cell_type": "code",
   "execution_count": null,
   "id": "5c86616e-c893-465a-bfdb-35192cdee1b6",
   "metadata": {},
   "outputs": [],
   "source": []
  }
 ],
 "metadata": {
  "kernelspec": {
   "display_name": "Python 3 (ipykernel)",
   "language": "python",
   "name": "python3"
  },
  "language_info": {
   "codemirror_mode": {
    "name": "ipython",
    "version": 3
   },
   "file_extension": ".py",
   "mimetype": "text/x-python",
   "name": "python",
   "nbconvert_exporter": "python",
   "pygments_lexer": "ipython3",
   "version": "3.10.6"
  }
 },
 "nbformat": 4,
 "nbformat_minor": 5
}
